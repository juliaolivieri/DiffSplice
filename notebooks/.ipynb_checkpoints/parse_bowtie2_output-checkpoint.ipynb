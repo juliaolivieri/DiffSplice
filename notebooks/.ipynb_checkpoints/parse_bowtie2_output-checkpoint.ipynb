{
 "cells": [
  {
   "cell_type": "code",
   "execution_count": 4,
   "metadata": {
    "ExecuteTime": {
     "end_time": "2021-04-30T07:11:17.567231Z",
     "start_time": "2021-04-30T07:11:17.562016Z"
    }
   },
   "outputs": [],
   "source": [
    "import matplotlib\n",
    "import matplotlib.pyplot as plt\n",
    "import pandas as pd\n",
    "from glob import glob\n",
    "from statsmodels.stats.proportion import proportion_confint\n",
    "from tqdm import tqdm"
   ]
  },
  {
   "cell_type": "code",
   "execution_count": 5,
   "metadata": {
    "ExecuteTime": {
     "end_time": "2021-04-30T07:11:17.758584Z",
     "start_time": "2021-04-30T07:11:17.753979Z"
    }
   },
   "outputs": [],
   "source": [
    "matplotlib.rcParams.update({'font.size': 14})"
   ]
  },
  {
   "cell_type": "code",
   "execution_count": 6,
   "metadata": {
    "ExecuteTime": {
     "end_time": "2021-04-30T07:11:17.939892Z",
     "start_time": "2021-04-30T07:11:17.935907Z"
    }
   },
   "outputs": [],
   "source": [
    "inpath = \"/scratch/PI/horence/JuliaO/bowtie2/output/\"\n",
    "outpath = \"/scratch/PI/horence/JuliaO/single_cell/Differential_Splicing/notebooks/output/parse_bowtie2_output/\""
   ]
  },
  {
   "cell_type": "code",
   "execution_count": 7,
   "metadata": {
    "ExecuteTime": {
     "end_time": "2021-04-30T07:11:19.066555Z",
     "start_time": "2021-04-30T07:11:19.056918Z"
    }
   },
   "outputs": [],
   "source": [
    "def process_channel(channel_df,dataname):\n",
    "  # drop duplicates by cell + transcript + UMI\n",
    "  channel_df[\"UMI_transcript_barcode\"] = channel_df[\"UMI\"] + \"_\" + channel_df[\"transcript\"] + \"_\" + channel_df[\"barcode\"]\n",
    "  print(channel_df.shape)\n",
    "  channel_df = channel_df.drop_duplicates(\"UMI_transcript_barcode\")\n",
    "  print(channel_df.shape)\n",
    "  \n",
    "  # get counts for each cell\n",
    "  channel_df[\"barcode_transcript\"] = channel_df[\"barcode\"] + \"_\" + channel_df[\"transcript\"] \n",
    "  channel_df[\"numReads\"] = channel_df[\"barcode_transcript\"].map(channel_df.groupby(\"barcode_transcript\")[\"read\"].nunique())\n",
    "  channel_df = channel_df.drop_duplicates(\"barcode_transcript\")[[\"transcript\",\"barcode\",\"numReads\",\"barcode_transcript\"]]\n",
    "  channel_df[\"cell\"] = dataname + \"_\" + channel_df[\"barcode\"]\n",
    "  return channel_df"
   ]
  },
  {
   "cell_type": "code",
   "execution_count": null,
   "metadata": {
    "ExecuteTime": {
     "start_time": "2021-04-30T07:11:19.547Z"
    }
   },
   "outputs": [
    {
     "name": "stderr",
     "output_type": "stream",
     "text": [
      "/home/users/jolivier/.local/lib/python3.6/site-packages/IPython/core/interactiveshell.py:3044: DtypeWarning: Columns (4,10) have mixed types. Specify dtype option on import or set low_memory=False.\n",
      "  interactivity=interactivity, compiler=compiler, result=result)\n",
      "  0%|          | 0/46 [00:00<?, ?it/s]/home/users/jolivier/.local/lib/python3.6/site-packages/ipykernel_launcher.py:9: SettingWithCopyWarning: \n",
      "A value is trying to be set on a copy of a slice from a DataFrame.\n",
      "Try using .loc[row_indexer,col_indexer] = value instead\n",
      "\n",
      "See the caveats in the documentation: http://pandas.pydata.org/pandas-docs/stable/user_guide/indexing.html#returning-a-view-versus-a-copy\n",
      "  if __name__ == '__main__':\n",
      "/home/users/jolivier/.local/lib/python3.6/site-packages/ipykernel_launcher.py:10: SettingWithCopyWarning: \n",
      "A value is trying to be set on a copy of a slice from a DataFrame.\n",
      "Try using .loc[row_indexer,col_indexer] = value instead\n",
      "\n",
      "See the caveats in the documentation: http://pandas.pydata.org/pandas-docs/stable/user_guide/indexing.html#returning-a-view-versus-a-copy\n",
      "  # Remove the CWD from sys.path while we load stuff.\n",
      "  2%|▏         | 1/46 [00:01<00:46,  1.03s/it]"
     ]
    },
    {
     "name": "stdout",
     "output_type": "stream",
     "text": [
      "(25808, 5)\n",
      "(17737, 5)\n"
     ]
    },
    {
     "name": "stderr",
     "output_type": "stream",
     "text": [
      "\r",
      "  4%|▍         | 2/46 [00:02<00:51,  1.18s/it]"
     ]
    },
    {
     "name": "stdout",
     "output_type": "stream",
     "text": [
      "(32415, 5)\n",
      "(19532, 5)\n"
     ]
    },
    {
     "name": "stderr",
     "output_type": "stream",
     "text": [
      "\r",
      "  7%|▋         | 3/46 [00:03<00:53,  1.24s/it]"
     ]
    },
    {
     "name": "stdout",
     "output_type": "stream",
     "text": [
      "(6623, 5)\n",
      "(5857, 5)\n"
     ]
    },
    {
     "name": "stderr",
     "output_type": "stream",
     "text": [
      "\r",
      "  9%|▊         | 4/46 [00:05<00:51,  1.24s/it]"
     ]
    },
    {
     "name": "stdout",
     "output_type": "stream",
     "text": [
      "(69744, 5)\n",
      "(9762, 5)\n"
     ]
    },
    {
     "name": "stderr",
     "output_type": "stream",
     "text": [
      "\r",
      " 11%|█         | 5/46 [00:05<00:38,  1.06it/s]"
     ]
    },
    {
     "name": "stdout",
     "output_type": "stream",
     "text": [
      "(25808, 5)\n",
      "(17737, 5)\n"
     ]
    },
    {
     "name": "stderr",
     "output_type": "stream",
     "text": [
      "\r",
      " 13%|█▎        | 6/46 [00:06<00:36,  1.09it/s]"
     ]
    },
    {
     "name": "stdout",
     "output_type": "stream",
     "text": [
      "(11082, 5)\n",
      "(7885, 5)\n"
     ]
    },
    {
     "name": "stderr",
     "output_type": "stream",
     "text": [
      "\r",
      " 15%|█▌        | 7/46 [00:07<00:35,  1.08it/s]"
     ]
    },
    {
     "name": "stdout",
     "output_type": "stream",
     "text": [
      "(23708, 5)\n",
      "(20018, 5)\n"
     ]
    },
    {
     "name": "stderr",
     "output_type": "stream",
     "text": [
      "\r",
      " 17%|█▋        | 8/46 [00:08<00:39,  1.04s/it]"
     ]
    },
    {
     "name": "stdout",
     "output_type": "stream",
     "text": [
      "(40273, 5)\n",
      "(13567, 5)\n"
     ]
    },
    {
     "name": "stderr",
     "output_type": "stream",
     "text": [
      "\r",
      " 20%|█▉        | 9/46 [00:10<00:44,  1.19s/it]"
     ]
    },
    {
     "name": "stdout",
     "output_type": "stream",
     "text": [
      "(63782, 5)\n",
      "(40209, 5)\n"
     ]
    },
    {
     "name": "stderr",
     "output_type": "stream",
     "text": [
      "\r",
      " 22%|██▏       | 10/46 [00:10<00:39,  1.09s/it]"
     ]
    },
    {
     "name": "stdout",
     "output_type": "stream",
     "text": [
      "(47512, 5)\n",
      "(24742, 5)\n"
     ]
    },
    {
     "name": "stderr",
     "output_type": "stream",
     "text": [
      "\r",
      " 24%|██▍       | 11/46 [00:11<00:36,  1.04s/it]"
     ]
    },
    {
     "name": "stdout",
     "output_type": "stream",
     "text": [
      "(31033, 5)\n",
      "(23393, 5)\n"
     ]
    },
    {
     "name": "stderr",
     "output_type": "stream",
     "text": [
      "\r",
      " 26%|██▌       | 12/46 [00:12<00:32,  1.05it/s]"
     ]
    },
    {
     "name": "stdout",
     "output_type": "stream",
     "text": [
      "(1977, 5)\n",
      "(1153, 5)\n"
     ]
    },
    {
     "name": "stderr",
     "output_type": "stream",
     "text": [
      "\r",
      " 28%|██▊       | 13/46 [00:12<00:25,  1.28it/s]"
     ]
    },
    {
     "name": "stdout",
     "output_type": "stream",
     "text": [
      "(11082, 5)\n",
      "(7885, 5)\n"
     ]
    },
    {
     "name": "stderr",
     "output_type": "stream",
     "text": [
      "\r",
      " 30%|███       | 14/46 [00:13<00:26,  1.21it/s]"
     ]
    },
    {
     "name": "stdout",
     "output_type": "stream",
     "text": [
      "(44871, 5)\n",
      "(26794, 5)\n"
     ]
    },
    {
     "name": "stderr",
     "output_type": "stream",
     "text": [
      "\r",
      " 33%|███▎      | 15/46 [00:14<00:23,  1.30it/s]"
     ]
    },
    {
     "name": "stdout",
     "output_type": "stream",
     "text": [
      "(47512, 5)\n",
      "(24742, 5)\n"
     ]
    },
    {
     "name": "stderr",
     "output_type": "stream",
     "text": [
      "\r",
      " 35%|███▍      | 16/46 [00:15<00:21,  1.40it/s]"
     ]
    },
    {
     "name": "stdout",
     "output_type": "stream",
     "text": [
      "(32415, 5)\n",
      "(19532, 5)\n"
     ]
    },
    {
     "name": "stderr",
     "output_type": "stream",
     "text": [
      "\r",
      " 37%|███▋      | 17/46 [00:16<00:28,  1.03it/s]"
     ]
    },
    {
     "name": "stdout",
     "output_type": "stream",
     "text": [
      "(45196, 5)\n",
      "(9921, 5)\n"
     ]
    },
    {
     "name": "stderr",
     "output_type": "stream",
     "text": [
      "\r",
      " 39%|███▉      | 18/46 [00:17<00:24,  1.15it/s]"
     ]
    },
    {
     "name": "stdout",
     "output_type": "stream",
     "text": [
      "(9450, 5)\n",
      "(3822, 5)\n"
     ]
    },
    {
     "name": "stderr",
     "output_type": "stream",
     "text": [
      "\r",
      " 41%|████▏     | 19/46 [00:18<00:27,  1.03s/it]"
     ]
    },
    {
     "name": "stdout",
     "output_type": "stream",
     "text": [
      "(67373, 5)\n",
      "(41832, 5)\n"
     ]
    },
    {
     "name": "stderr",
     "output_type": "stream",
     "text": [
      "\r",
      " 43%|████▎     | 20/46 [00:19<00:23,  1.09it/s]"
     ]
    },
    {
     "name": "stdout",
     "output_type": "stream",
     "text": [
      "(4577, 5)\n",
      "(2867, 5)\n"
     ]
    },
    {
     "name": "stderr",
     "output_type": "stream",
     "text": [
      "\r",
      " 46%|████▌     | 21/46 [00:19<00:20,  1.24it/s]"
     ]
    },
    {
     "name": "stdout",
     "output_type": "stream",
     "text": [
      "(40273, 5)\n",
      "(13567, 5)\n"
     ]
    },
    {
     "name": "stderr",
     "output_type": "stream",
     "text": [
      "\r",
      " 48%|████▊     | 22/46 [00:21<00:25,  1.08s/it]"
     ]
    },
    {
     "name": "stdout",
     "output_type": "stream",
     "text": [
      "(41606, 5)\n",
      "(32712, 5)\n"
     ]
    },
    {
     "name": "stderr",
     "output_type": "stream",
     "text": [
      "\r",
      " 50%|█████     | 23/46 [00:21<00:18,  1.21it/s]"
     ]
    },
    {
     "name": "stdout",
     "output_type": "stream",
     "text": [
      "(4577, 5)\n",
      "(2867, 5)\n"
     ]
    },
    {
     "name": "stderr",
     "output_type": "stream",
     "text": [
      "\r",
      " 52%|█████▏    | 24/46 [00:22<00:18,  1.22it/s]"
     ]
    },
    {
     "name": "stdout",
     "output_type": "stream",
     "text": [
      "(44871, 5)\n",
      "(26794, 5)\n"
     ]
    },
    {
     "name": "stderr",
     "output_type": "stream",
     "text": [
      "\r",
      " 54%|█████▍    | 25/46 [00:23<00:18,  1.11it/s]"
     ]
    },
    {
     "name": "stdout",
     "output_type": "stream",
     "text": [
      "(67373, 5)\n",
      "(41832, 5)\n"
     ]
    }
   ],
   "source": [
    "\n",
    "data = {\n",
    "  \"lemur\" : [[x.split(\"/\")[-1][:-22] for x in glob(\"{}MLCA*extracted_R2_001.sam\".format(inpath))],\"/scratch/PI/horence/Roozbeh/single_cell_project/output/Lemur_Antoine_10X/meta.tsv\"],\n",
    "  \"human\" : [[x.split(\"/\")[-1][:-22] for x in glob(\"{}TSP2*extracted_R2_001.sam\".format(inpath))],\"/scratch/PI/horence/Roozbeh/single_cell_project/output/TSP2_10X_rerun/meta.tsv\"],\n",
    "  \"mouse\" : [[x.split(\"/\")[-1][:-22] for x in glob(\"{}10X_P1_*extracted_R2_001.sam\".format(inpath))],\"/scratch/PI/horence/JuliaO/single_cell/Differential_Splicing/notebooks/output/parse_bowtie2_output/tabula_muris_senis_meta.tsv\"]\n",
    "}\n",
    "# data = { \n",
    "#   \"lemur\" : [[\"MLCA_ANTOINE_RETINA_S6_L00\"],\"/scratch/PI/horence/Roozbeh/single_cell_project/output/Lemur_Antoine_10X/meta.tsv\"]\n",
    "  \n",
    "# }\n",
    "species_dict = {}\n",
    "for species, data_info in data.items():\n",
    "  meta = pd.read_csv(data_info[1],sep=\"\\t\")\n",
    "  if \"cell1\" in meta.columns:\n",
    "    meta[\"cell\"] = meta[\"cell1\"]\n",
    "  all_dfs = []\n",
    "  for dataname in tqdm(data_info[0]):\n",
    "    lane_sams = glob(\"{}{}*_extracted_R2_001.sam\".format(inpath,dataname))\n",
    "    dfs = []\n",
    "    for sam in lane_sams:\n",
    "      df = pd.read_csv(sam,sep=\"\\t\",skiprows=10,header=None,usecols=[0,2],names=[\"read\",\"transcript\"])\n",
    "      df[\"barcode\"] = df[\"read\"].str.split(\"_\").str[1]\n",
    "      df[\"UMI\"] = df[\"read\"].str.split(\"_\").str[2]\n",
    "      dfs.append(df)\n",
    "    channel_df = pd.concat(dfs,axis=0)\n",
    "    all_dfs.append(process_channel(channel_df,dataname))\n",
    "  all_df = pd.concat(all_dfs,axis=0)\n",
    "\n",
    "  # map compartments\n",
    "  all_df[\"compartment\"] = all_df[\"cell\"].map(pd.Series(meta.compartment.values,index=meta.cell).to_dict())\n",
    "  all_df = all_df[~all_df[\"compartment\"].isna()]\n",
    "  species_dict[species] = all_df"
   ]
  },
  {
   "cell_type": "code",
   "execution_count": 11,
   "metadata": {
    "ExecuteTime": {
     "end_time": "2021-02-10T19:54:45.006631Z",
     "start_time": "2021-02-10T19:52:50.273223Z"
    }
   },
   "outputs": [
    {
     "name": "stderr",
     "output_type": "stream",
     "text": [
      "  0%|          | 0/46 [00:00<?, ?it/s]/home/users/jolivier/.local/lib/python3.6/site-packages/ipykernel_launcher.py:9: SettingWithCopyWarning: \n",
      "A value is trying to be set on a copy of a slice from a DataFrame.\n",
      "Try using .loc[row_indexer,col_indexer] = value instead\n",
      "\n",
      "See the caveats in the documentation: http://pandas.pydata.org/pandas-docs/stable/user_guide/indexing.html#returning-a-view-versus-a-copy\n",
      "  if __name__ == '__main__':\n",
      "/home/users/jolivier/.local/lib/python3.6/site-packages/ipykernel_launcher.py:10: SettingWithCopyWarning: \n",
      "A value is trying to be set on a copy of a slice from a DataFrame.\n",
      "Try using .loc[row_indexer,col_indexer] = value instead\n",
      "\n",
      "See the caveats in the documentation: http://pandas.pydata.org/pandas-docs/stable/user_guide/indexing.html#returning-a-view-versus-a-copy\n",
      "  # Remove the CWD from sys.path while we load stuff.\n",
      "  2%|▏         | 1/46 [00:00<00:27,  1.66it/s]"
     ]
    },
    {
     "name": "stdout",
     "output_type": "stream",
     "text": [
      "(25808, 5)\n",
      "(17737, 5)\n"
     ]
    },
    {
     "name": "stderr",
     "output_type": "stream",
     "text": [
      "\r",
      "  4%|▍         | 2/46 [00:01<00:27,  1.57it/s]"
     ]
    },
    {
     "name": "stdout",
     "output_type": "stream",
     "text": [
      "(32415, 5)\n",
      "(19532, 5)\n"
     ]
    },
    {
     "name": "stderr",
     "output_type": "stream",
     "text": [
      "\r",
      "  7%|▋         | 3/46 [00:01<00:23,  1.80it/s]"
     ]
    },
    {
     "name": "stdout",
     "output_type": "stream",
     "text": [
      "(6623, 5)\n",
      "(5857, 5)\n"
     ]
    },
    {
     "name": "stderr",
     "output_type": "stream",
     "text": [
      "\r",
      "  9%|▊         | 4/46 [00:02<00:28,  1.48it/s]"
     ]
    },
    {
     "name": "stdout",
     "output_type": "stream",
     "text": [
      "(69744, 5)\n",
      "(9762, 5)\n"
     ]
    },
    {
     "name": "stderr",
     "output_type": "stream",
     "text": [
      "\r",
      " 11%|█         | 5/46 [00:02<00:22,  1.81it/s]"
     ]
    },
    {
     "name": "stdout",
     "output_type": "stream",
     "text": [
      "(25808, 5)\n",
      "(17737, 5)\n"
     ]
    },
    {
     "name": "stderr",
     "output_type": "stream",
     "text": [
      "\r",
      " 13%|█▎        | 6/46 [00:03<00:20,  1.91it/s]"
     ]
    },
    {
     "name": "stdout",
     "output_type": "stream",
     "text": [
      "(11082, 5)\n",
      "(7885, 5)\n"
     ]
    },
    {
     "name": "stderr",
     "output_type": "stream",
     "text": [
      "\r",
      " 15%|█▌        | 7/46 [00:03<00:20,  1.86it/s]"
     ]
    },
    {
     "name": "stdout",
     "output_type": "stream",
     "text": [
      "(23708, 5)\n",
      "(20018, 5)\n"
     ]
    },
    {
     "name": "stderr",
     "output_type": "stream",
     "text": [
      "\r",
      " 17%|█▋        | 8/46 [00:04<00:23,  1.60it/s]"
     ]
    },
    {
     "name": "stdout",
     "output_type": "stream",
     "text": [
      "(40273, 5)\n",
      "(13567, 5)\n"
     ]
    },
    {
     "name": "stderr",
     "output_type": "stream",
     "text": [
      "\r",
      " 20%|█▉        | 9/46 [00:05<00:26,  1.38it/s]"
     ]
    },
    {
     "name": "stdout",
     "output_type": "stream",
     "text": [
      "(63782, 5)\n",
      "(40209, 5)\n"
     ]
    },
    {
     "name": "stderr",
     "output_type": "stream",
     "text": [
      "\r",
      " 22%|██▏       | 10/46 [00:06<00:22,  1.58it/s]"
     ]
    },
    {
     "name": "stdout",
     "output_type": "stream",
     "text": [
      "(47512, 5)\n",
      "(24742, 5)\n"
     ]
    },
    {
     "name": "stderr",
     "output_type": "stream",
     "text": [
      "\r",
      " 24%|██▍       | 11/46 [00:06<00:22,  1.55it/s]"
     ]
    },
    {
     "name": "stdout",
     "output_type": "stream",
     "text": [
      "(31033, 5)\n",
      "(23393, 5)\n"
     ]
    },
    {
     "name": "stderr",
     "output_type": "stream",
     "text": [
      " 28%|██▊       | 13/46 [00:07<00:13,  2.47it/s]"
     ]
    },
    {
     "name": "stdout",
     "output_type": "stream",
     "text": [
      "(1977, 5)\n",
      "(1153, 5)\n",
      "(11082, 5)\n",
      "(7885, 5)\n"
     ]
    },
    {
     "name": "stderr",
     "output_type": "stream",
     "text": [
      "\r",
      " 30%|███       | 14/46 [00:07<00:16,  1.91it/s]"
     ]
    },
    {
     "name": "stdout",
     "output_type": "stream",
     "text": [
      "(44871, 5)\n",
      "(26794, 5)\n"
     ]
    },
    {
     "name": "stderr",
     "output_type": "stream",
     "text": [
      "\r",
      " 33%|███▎      | 15/46 [00:08<00:15,  2.05it/s]"
     ]
    },
    {
     "name": "stdout",
     "output_type": "stream",
     "text": [
      "(47512, 5)\n",
      "(24742, 5)\n"
     ]
    },
    {
     "name": "stderr",
     "output_type": "stream",
     "text": [
      "\r",
      " 35%|███▍      | 16/46 [00:08<00:13,  2.19it/s]"
     ]
    },
    {
     "name": "stdout",
     "output_type": "stream",
     "text": [
      "(32415, 5)\n",
      "(19532, 5)\n"
     ]
    },
    {
     "name": "stderr",
     "output_type": "stream",
     "text": [
      "\r",
      " 37%|███▋      | 17/46 [00:09<00:16,  1.80it/s]"
     ]
    },
    {
     "name": "stdout",
     "output_type": "stream",
     "text": [
      "(45196, 5)\n",
      "(9921, 5)\n"
     ]
    },
    {
     "name": "stderr",
     "output_type": "stream",
     "text": [
      "\r",
      " 39%|███▉      | 18/46 [00:09<00:14,  1.92it/s]"
     ]
    },
    {
     "name": "stdout",
     "output_type": "stream",
     "text": [
      "(9450, 5)\n",
      "(3822, 5)\n"
     ]
    },
    {
     "name": "stderr",
     "output_type": "stream",
     "text": [
      "\r",
      " 41%|████▏     | 19/46 [00:10<00:17,  1.56it/s]"
     ]
    },
    {
     "name": "stdout",
     "output_type": "stream",
     "text": [
      "(67373, 5)\n",
      "(41832, 5)\n"
     ]
    },
    {
     "name": "stderr",
     "output_type": "stream",
     "text": [
      "\r",
      " 43%|████▎     | 20/46 [00:11<00:14,  1.79it/s]"
     ]
    },
    {
     "name": "stdout",
     "output_type": "stream",
     "text": [
      "(4577, 5)\n",
      "(2867, 5)\n"
     ]
    },
    {
     "name": "stderr",
     "output_type": "stream",
     "text": [
      "\r",
      " 46%|████▌     | 21/46 [00:11<00:12,  2.00it/s]"
     ]
    },
    {
     "name": "stdout",
     "output_type": "stream",
     "text": [
      "(40273, 5)\n",
      "(13567, 5)\n"
     ]
    },
    {
     "name": "stderr",
     "output_type": "stream",
     "text": [
      "\r",
      " 48%|████▊     | 22/46 [00:12<00:14,  1.69it/s]"
     ]
    },
    {
     "name": "stdout",
     "output_type": "stream",
     "text": [
      "(41606, 5)\n",
      "(32712, 5)\n",
      "(4577, 5)\n",
      "(2867, 5)\n"
     ]
    },
    {
     "name": "stderr",
     "output_type": "stream",
     "text": [
      "\r",
      " 52%|█████▏    | 24/46 [00:12<00:10,  2.06it/s]"
     ]
    },
    {
     "name": "stdout",
     "output_type": "stream",
     "text": [
      "(44871, 5)\n",
      "(26794, 5)\n"
     ]
    },
    {
     "name": "stderr",
     "output_type": "stream",
     "text": [
      "\r",
      " 54%|█████▍    | 25/46 [00:13<00:10,  1.94it/s]"
     ]
    },
    {
     "name": "stdout",
     "output_type": "stream",
     "text": [
      "(67373, 5)\n",
      "(41832, 5)\n"
     ]
    },
    {
     "name": "stderr",
     "output_type": "stream",
     "text": [
      "\r",
      " 57%|█████▋    | 26/46 [00:14<00:10,  1.90it/s]"
     ]
    },
    {
     "name": "stdout",
     "output_type": "stream",
     "text": [
      "(27995, 5)\n",
      "(15709, 5)\n"
     ]
    },
    {
     "name": "stderr",
     "output_type": "stream",
     "text": [
      "\r",
      " 59%|█████▊    | 27/46 [00:14<00:10,  1.74it/s]"
     ]
    },
    {
     "name": "stdout",
     "output_type": "stream",
     "text": [
      "(36010, 5)\n",
      "(25964, 5)\n"
     ]
    },
    {
     "name": "stderr",
     "output_type": "stream",
     "text": [
      "\r",
      " 61%|██████    | 28/46 [00:15<00:13,  1.37it/s]"
     ]
    },
    {
     "name": "stdout",
     "output_type": "stream",
     "text": [
      "(71189, 5)\n",
      "(59863, 5)\n"
     ]
    },
    {
     "name": "stderr",
     "output_type": "stream",
     "text": [
      "\r",
      " 63%|██████▎   | 29/46 [00:16<00:10,  1.68it/s]"
     ]
    },
    {
     "name": "stdout",
     "output_type": "stream",
     "text": [
      "(27995, 5)\n",
      "(15709, 5)\n"
     ]
    },
    {
     "name": "stderr",
     "output_type": "stream",
     "text": [
      "\r",
      " 65%|██████▌   | 30/46 [00:16<00:09,  1.60it/s]"
     ]
    },
    {
     "name": "stdout",
     "output_type": "stream",
     "text": [
      "(38015, 5)\n",
      "(10674, 5)\n"
     ]
    },
    {
     "name": "stderr",
     "output_type": "stream",
     "text": [
      "\r",
      " 67%|██████▋   | 31/46 [00:17<00:09,  1.66it/s]"
     ]
    },
    {
     "name": "stdout",
     "output_type": "stream",
     "text": [
      "(69744, 5)\n",
      "(9762, 5)\n"
     ]
    },
    {
     "name": "stderr",
     "output_type": "stream",
     "text": [
      "\r",
      " 70%|██████▉   | 32/46 [00:18<00:10,  1.39it/s]"
     ]
    },
    {
     "name": "stdout",
     "output_type": "stream",
     "text": [
      "(55720, 5)\n",
      "(36375, 5)\n"
     ]
    },
    {
     "name": "stderr",
     "output_type": "stream",
     "text": [
      "\r",
      " 72%|███████▏  | 33/46 [00:18<00:08,  1.46it/s]"
     ]
    },
    {
     "name": "stdout",
     "output_type": "stream",
     "text": [
      "(25174, 5)\n",
      "(11705, 5)\n"
     ]
    },
    {
     "name": "stderr",
     "output_type": "stream",
     "text": [
      "\r",
      " 74%|███████▍  | 34/46 [00:19<00:08,  1.44it/s]"
     ]
    },
    {
     "name": "stdout",
     "output_type": "stream",
     "text": [
      "(71189, 5)\n",
      "(59863, 5)\n"
     ]
    },
    {
     "name": "stderr",
     "output_type": "stream",
     "text": [
      "\r",
      " 76%|███████▌  | 35/46 [00:20<00:06,  1.68it/s]"
     ]
    },
    {
     "name": "stdout",
     "output_type": "stream",
     "text": [
      "(41606, 5)\n",
      "(32712, 5)\n"
     ]
    },
    {
     "name": "stderr",
     "output_type": "stream",
     "text": [
      " 80%|████████  | 37/46 [00:20<00:03,  2.66it/s]"
     ]
    },
    {
     "name": "stdout",
     "output_type": "stream",
     "text": [
      "(38015, 5)\n",
      "(10674, 5)\n",
      "(9450, 5)\n",
      "(3822, 5)\n"
     ]
    },
    {
     "name": "stderr",
     "output_type": "stream",
     "text": [
      "\r",
      " 85%|████████▍ | 39/46 [00:20<00:01,  3.58it/s]"
     ]
    },
    {
     "name": "stdout",
     "output_type": "stream",
     "text": [
      "(6623, 5)\n",
      "(5857, 5)\n",
      "(1977, 5)\n",
      "(1153, 5)\n"
     ]
    },
    {
     "name": "stderr",
     "output_type": "stream",
     "text": [
      "\r",
      " 87%|████████▋ | 40/46 [00:20<00:01,  3.73it/s]"
     ]
    },
    {
     "name": "stdout",
     "output_type": "stream",
     "text": [
      "(36010, 5)\n",
      "(25964, 5)\n"
     ]
    },
    {
     "name": "stderr",
     "output_type": "stream",
     "text": [
      "\r",
      " 89%|████████▉ | 41/46 [00:21<00:01,  3.79it/s]"
     ]
    },
    {
     "name": "stdout",
     "output_type": "stream",
     "text": [
      "(31033, 5)\n",
      "(23393, 5)\n"
     ]
    },
    {
     "name": "stderr",
     "output_type": "stream",
     "text": [
      "\r",
      " 91%|█████████▏| 42/46 [00:21<00:01,  3.19it/s]"
     ]
    },
    {
     "name": "stdout",
     "output_type": "stream",
     "text": [
      "(55720, 5)\n",
      "(36375, 5)\n"
     ]
    },
    {
     "name": "stderr",
     "output_type": "stream",
     "text": [
      "\r",
      " 93%|█████████▎| 43/46 [00:21<00:00,  3.46it/s]"
     ]
    },
    {
     "name": "stdout",
     "output_type": "stream",
     "text": [
      "(23708, 5)\n",
      "(20018, 5)\n"
     ]
    },
    {
     "name": "stderr",
     "output_type": "stream",
     "text": [
      "\r",
      " 96%|█████████▌| 44/46 [00:21<00:00,  3.35it/s]"
     ]
    },
    {
     "name": "stdout",
     "output_type": "stream",
     "text": [
      "(45196, 5)\n",
      "(9921, 5)\n"
     ]
    },
    {
     "name": "stderr",
     "output_type": "stream",
     "text": [
      "\r",
      " 98%|█████████▊| 45/46 [00:22<00:00,  2.82it/s]"
     ]
    },
    {
     "name": "stdout",
     "output_type": "stream",
     "text": [
      "(63782, 5)\n",
      "(40209, 5)\n"
     ]
    },
    {
     "name": "stderr",
     "output_type": "stream",
     "text": [
      "100%|██████████| 46/46 [00:22<00:00,  2.03it/s]"
     ]
    },
    {
     "name": "stdout",
     "output_type": "stream",
     "text": [
      "(25174, 5)\n",
      "(11705, 5)\n"
     ]
    },
    {
     "name": "stderr",
     "output_type": "stream",
     "text": [
      "\n",
      "  1%|          | 1/140 [00:01<02:50,  1.22s/it]"
     ]
    },
    {
     "name": "stdout",
     "output_type": "stream",
     "text": [
      "(50573, 5)\n",
      "(31827, 5)\n"
     ]
    },
    {
     "name": "stderr",
     "output_type": "stream",
     "text": [
      "\r",
      "  1%|▏         | 2/140 [00:01<02:25,  1.05s/it]"
     ]
    },
    {
     "name": "stdout",
     "output_type": "stream",
     "text": [
      "(16352, 5)\n",
      "(12453, 5)\n"
     ]
    },
    {
     "name": "stderr",
     "output_type": "stream",
     "text": [
      "\r",
      "  2%|▏         | 3/140 [00:03<02:31,  1.10s/it]"
     ]
    },
    {
     "name": "stdout",
     "output_type": "stream",
     "text": [
      "(47701, 5)\n",
      "(28446, 5)\n"
     ]
    },
    {
     "name": "stderr",
     "output_type": "stream",
     "text": [
      "\r",
      "  3%|▎         | 4/140 [00:03<02:21,  1.04s/it]"
     ]
    },
    {
     "name": "stdout",
     "output_type": "stream",
     "text": [
      "(28572, 5)\n",
      "(12682, 5)\n"
     ]
    },
    {
     "name": "stderr",
     "output_type": "stream",
     "text": [
      "\r",
      "  4%|▎         | 5/140 [00:04<01:56,  1.16it/s]"
     ]
    },
    {
     "name": "stdout",
     "output_type": "stream",
     "text": [
      "(47701, 5)\n",
      "(28446, 5)\n"
     ]
    },
    {
     "name": "stderr",
     "output_type": "stream",
     "text": [
      "\r",
      "  4%|▍         | 6/140 [00:04<01:38,  1.37it/s]"
     ]
    },
    {
     "name": "stdout",
     "output_type": "stream",
     "text": [
      "(4990, 5)\n",
      "(4177, 5)\n"
     ]
    },
    {
     "name": "stderr",
     "output_type": "stream",
     "text": [
      "\r",
      "  5%|▌         | 7/140 [00:05<01:18,  1.69it/s]"
     ]
    },
    {
     "name": "stdout",
     "output_type": "stream",
     "text": [
      "(304, 5)\n",
      "(259, 5)\n"
     ]
    },
    {
     "name": "stderr",
     "output_type": "stream",
     "text": [
      "  6%|▋         | 9/140 [00:05<00:51,  2.53it/s]"
     ]
    },
    {
     "name": "stdout",
     "output_type": "stream",
     "text": [
      "(631, 5)\n",
      "(439, 5)\n",
      "(80, 5)\n",
      "(65, 5)\n"
     ]
    },
    {
     "name": "stderr",
     "output_type": "stream",
     "text": [
      "\r",
      "  7%|▋         | 10/140 [00:06<01:17,  1.68it/s]"
     ]
    },
    {
     "name": "stdout",
     "output_type": "stream",
     "text": [
      "(31052, 5)\n",
      "(20634, 5)\n"
     ]
    },
    {
     "name": "stderr",
     "output_type": "stream",
     "text": [
      "\r",
      "  8%|▊         | 11/140 [00:07<01:11,  1.80it/s]"
     ]
    },
    {
     "name": "stdout",
     "output_type": "stream",
     "text": [
      "(50573, 5)\n",
      "(31827, 5)\n"
     ]
    },
    {
     "name": "stderr",
     "output_type": "stream",
     "text": [
      "\r",
      "  9%|▊         | 12/140 [00:07<00:56,  2.28it/s]"
     ]
    },
    {
     "name": "stdout",
     "output_type": "stream",
     "text": [
      "(16352, 5)\n",
      "(12453, 5)\n"
     ]
    },
    {
     "name": "stderr",
     "output_type": "stream",
     "text": [
      "\r",
      "  9%|▉         | 13/140 [00:08<01:38,  1.29it/s]"
     ]
    },
    {
     "name": "stdout",
     "output_type": "stream",
     "text": [
      "(78027, 5)\n",
      "(48344, 5)\n",
      "(304, 5)\n",
      "(259, 5)\n"
     ]
    },
    {
     "name": "stderr",
     "output_type": "stream",
     "text": [
      "\r",
      " 11%|█         | 15/140 [00:09<01:28,  1.42it/s]"
     ]
    },
    {
     "name": "stdout",
     "output_type": "stream",
     "text": [
      "(28421, 5)\n",
      "(18886, 5)\n"
     ]
    },
    {
     "name": "stderr",
     "output_type": "stream",
     "text": [
      "\r",
      " 11%|█▏        | 16/140 [00:11<01:46,  1.17it/s]"
     ]
    },
    {
     "name": "stdout",
     "output_type": "stream",
     "text": [
      "(50053, 5)\n",
      "(37784, 5)\n"
     ]
    },
    {
     "name": "stderr",
     "output_type": "stream",
     "text": [
      "\r",
      " 12%|█▏        | 17/140 [00:11<01:20,  1.53it/s]"
     ]
    },
    {
     "name": "stdout",
     "output_type": "stream",
     "text": [
      "(17693, 5)\n",
      "(13785, 5)\n"
     ]
    },
    {
     "name": "stderr",
     "output_type": "stream",
     "text": [
      "\r",
      " 13%|█▎        | 18/140 [00:11<01:07,  1.81it/s]"
     ]
    },
    {
     "name": "stdout",
     "output_type": "stream",
     "text": [
      "(31052, 5)\n",
      "(20634, 5)\n"
     ]
    },
    {
     "name": "stderr",
     "output_type": "stream",
     "text": [
      "\r",
      " 14%|█▎        | 19/140 [00:11<00:53,  2.26it/s]"
     ]
    },
    {
     "name": "stdout",
     "output_type": "stream",
     "text": [
      "(19379, 5)\n",
      "(15112, 5)\n"
     ]
    },
    {
     "name": "stderr",
     "output_type": "stream",
     "text": [
      "\r",
      " 14%|█▍        | 20/140 [00:13<01:30,  1.33it/s]"
     ]
    },
    {
     "name": "stdout",
     "output_type": "stream",
     "text": [
      "(81078, 5)\n",
      "(44395, 5)\n",
      "(304, 5)\n",
      "(259, 5)\n"
     ]
    },
    {
     "name": "stderr",
     "output_type": "stream",
     "text": [
      "\r",
      " 16%|█▌        | 22/140 [00:14<01:23,  1.41it/s]"
     ]
    },
    {
     "name": "stdout",
     "output_type": "stream",
     "text": [
      "(44564, 5)\n",
      "(26508, 5)\n"
     ]
    },
    {
     "name": "stderr",
     "output_type": "stream",
     "text": [
      "\r",
      " 16%|█▋        | 23/140 [00:14<01:07,  1.73it/s]"
     ]
    },
    {
     "name": "stdout",
     "output_type": "stream",
     "text": [
      "(28421, 5)\n",
      "(18886, 5)\n"
     ]
    },
    {
     "name": "stderr",
     "output_type": "stream",
     "text": [
      "\r",
      " 17%|█▋        | 24/140 [00:15<01:11,  1.63it/s]"
     ]
    },
    {
     "name": "stdout",
     "output_type": "stream",
     "text": [
      "(78027, 5)\n",
      "(48344, 5)\n"
     ]
    },
    {
     "name": "stderr",
     "output_type": "stream",
     "text": [
      "\r",
      " 18%|█▊        | 25/140 [00:16<01:40,  1.14it/s]"
     ]
    },
    {
     "name": "stdout",
     "output_type": "stream",
     "text": [
      "(54233, 5)\n",
      "(40470, 5)\n"
     ]
    },
    {
     "name": "stderr",
     "output_type": "stream",
     "text": [
      "\r",
      " 19%|█▊        | 26/140 [00:17<01:15,  1.51it/s]"
     ]
    },
    {
     "name": "stdout",
     "output_type": "stream",
     "text": [
      "(485, 5)\n",
      "(348, 5)\n",
      "(19379, 5)\n"
     ]
    },
    {
     "name": "stderr",
     "output_type": "stream",
     "text": [
      "\r",
      " 19%|█▉        | 27/140 [00:17<01:00,  1.88it/s]"
     ]
    },
    {
     "name": "stdout",
     "output_type": "stream",
     "text": [
      "(15112, 5)\n"
     ]
    },
    {
     "name": "stderr",
     "output_type": "stream",
     "text": [
      "\r",
      " 20%|██        | 28/140 [00:18<01:29,  1.25it/s]"
     ]
    },
    {
     "name": "stdout",
     "output_type": "stream",
     "text": [
      "(48284, 5)\n",
      "(35537, 5)\n"
     ]
    },
    {
     "name": "stderr",
     "output_type": "stream",
     "text": [
      "\r",
      " 21%|██        | 29/140 [00:19<01:17,  1.44it/s]"
     ]
    },
    {
     "name": "stdout",
     "output_type": "stream",
     "text": [
      "(47701, 5)\n",
      "(28446, 5)\n"
     ]
    },
    {
     "name": "stderr",
     "output_type": "stream",
     "text": [
      "\r",
      " 21%|██▏       | 30/140 [00:20<01:32,  1.19it/s]"
     ]
    },
    {
     "name": "stdout",
     "output_type": "stream",
     "text": [
      "(22318, 5)\n",
      "(17173, 5)\n"
     ]
    },
    {
     "name": "stderr",
     "output_type": "stream",
     "text": [
      "\r",
      " 22%|██▏       | 31/140 [00:20<01:14,  1.46it/s]"
     ]
    },
    {
     "name": "stdout",
     "output_type": "stream",
     "text": [
      "(31052, 5)\n",
      "(20634, 5)\n"
     ]
    },
    {
     "name": "stderr",
     "output_type": "stream",
     "text": [
      "\r",
      " 23%|██▎       | 32/140 [00:22<01:45,  1.03it/s]"
     ]
    },
    {
     "name": "stdout",
     "output_type": "stream",
     "text": [
      "(70419, 5)\n",
      "(53244, 5)\n"
     ]
    },
    {
     "name": "stderr",
     "output_type": "stream",
     "text": [
      "\r",
      " 24%|██▎       | 33/140 [00:22<01:28,  1.21it/s]"
     ]
    },
    {
     "name": "stdout",
     "output_type": "stream",
     "text": [
      "(50573, 5)\n",
      "(31827, 5)\n"
     ]
    },
    {
     "name": "stderr",
     "output_type": "stream",
     "text": [
      "\r",
      " 24%|██▍       | 34/140 [00:24<01:46,  1.01s/it]"
     ]
    },
    {
     "name": "stdout",
     "output_type": "stream",
     "text": [
      "(82821, 5)\n",
      "(56076, 5)\n"
     ]
    },
    {
     "name": "stderr",
     "output_type": "stream",
     "text": [
      "\r",
      " 25%|██▌       | 35/140 [00:24<01:29,  1.18it/s]"
     ]
    },
    {
     "name": "stdout",
     "output_type": "stream",
     "text": [
      "(50053, 5)\n",
      "(37784, 5)\n"
     ]
    },
    {
     "name": "stderr",
     "output_type": "stream",
     "text": [
      "\r",
      " 26%|██▌       | 36/140 [00:25<01:15,  1.39it/s]"
     ]
    },
    {
     "name": "stdout",
     "output_type": "stream",
     "text": [
      "(47701, 5)\n",
      "(28446, 5)\n"
     ]
    },
    {
     "name": "stderr",
     "output_type": "stream",
     "text": [
      "\r",
      " 26%|██▋       | 37/140 [00:25<01:10,  1.47it/s]"
     ]
    },
    {
     "name": "stdout",
     "output_type": "stream",
     "text": [
      "(70419, 5)\n",
      "(53244, 5)\n",
      "(485, 5)\n",
      "(348, 5)\n",
      "(80, 5)\n",
      "(65, 5)\n"
     ]
    },
    {
     "name": "stderr",
     "output_type": "stream",
     "text": [
      "\r",
      " 29%|██▊       | 40/140 [00:26<00:53,  1.86it/s]"
     ]
    },
    {
     "name": "stdout",
     "output_type": "stream",
     "text": [
      "(16563, 5)\n",
      "(10297, 5)\n"
     ]
    },
    {
     "name": "stderr",
     "output_type": "stream",
     "text": [
      "\r",
      " 29%|██▉       | 41/140 [00:26<00:45,  2.18it/s]"
     ]
    },
    {
     "name": "stdout",
     "output_type": "stream",
     "text": [
      "(28572, 5)\n",
      "(12682, 5)\n"
     ]
    },
    {
     "name": "stderr",
     "output_type": "stream",
     "text": [
      "\r",
      " 30%|███       | 42/140 [00:28<01:11,  1.37it/s]"
     ]
    },
    {
     "name": "stdout",
     "output_type": "stream",
     "text": [
      "(69571, 5)\n",
      "(52242, 5)\n"
     ]
    },
    {
     "name": "stderr",
     "output_type": "stream",
     "text": [
      "\r",
      " 31%|███       | 43/140 [00:28<01:11,  1.36it/s]"
     ]
    },
    {
     "name": "stdout",
     "output_type": "stream",
     "text": [
      "(82821, 5)\n",
      "(56076, 5)\n",
      "(631, 5)\n",
      "(439, 5)\n"
     ]
    },
    {
     "name": "stderr",
     "output_type": "stream",
     "text": [
      "\r",
      " 32%|███▏      | 45/140 [00:28<00:51,  1.84it/s]"
     ]
    },
    {
     "name": "stdout",
     "output_type": "stream",
     "text": [
      "(17693, 5)\n",
      "(13785, 5)\n"
     ]
    },
    {
     "name": "stderr",
     "output_type": "stream",
     "text": [
      "\r",
      " 33%|███▎      | 46/140 [00:29<00:52,  1.77it/s]"
     ]
    },
    {
     "name": "stdout",
     "output_type": "stream",
     "text": [
      "(82821, 5)\n",
      "(56076, 5)\n"
     ]
    },
    {
     "name": "stderr",
     "output_type": "stream",
     "text": [
      "\r",
      " 34%|███▎      | 47/140 [00:30<00:54,  1.69it/s]"
     ]
    },
    {
     "name": "stdout",
     "output_type": "stream",
     "text": [
      "(12429, 5)\n",
      "(6837, 5)\n",
      "(12429, 5)\n",
      "(6837, 5)\n"
     ]
    },
    {
     "name": "stderr",
     "output_type": "stream",
     "text": [
      " 35%|███▌      | 49/140 [00:30<00:37,  2.40it/s]"
     ]
    },
    {
     "name": "stdout",
     "output_type": "stream",
     "text": [
      "(442, 5)\n",
      "(353, 5)\n",
      "(22318, 5)\n",
      "(17173, 5)\n"
     ]
    },
    {
     "name": "stderr",
     "output_type": "stream",
     "text": [
      " 36%|███▋      | 51/140 [00:32<00:57,  1.55it/s]"
     ]
    },
    {
     "name": "stdout",
     "output_type": "stream",
     "text": [
      "(55635, 5)\n",
      "(44637, 5)\n"
     ]
    },
    {
     "name": "stderr",
     "output_type": "stream",
     "text": [
      "\r",
      " 37%|███▋      | 52/140 [00:33<01:24,  1.04it/s]"
     ]
    },
    {
     "name": "stdout",
     "output_type": "stream",
     "text": [
      "(67575, 5)\n",
      "(41542, 5)\n"
     ]
    },
    {
     "name": "stderr",
     "output_type": "stream",
     "text": [
      "\r",
      " 38%|███▊      | 53/140 [00:34<01:05,  1.33it/s]"
     ]
    },
    {
     "name": "stdout",
     "output_type": "stream",
     "text": [
      "(28421, 5)\n",
      "(18886, 5)\n"
     ]
    },
    {
     "name": "stderr",
     "output_type": "stream",
     "text": [
      "\r",
      " 39%|███▊      | 54/140 [00:35<01:17,  1.11it/s]"
     ]
    },
    {
     "name": "stdout",
     "output_type": "stream",
     "text": [
      "(37461, 5)\n",
      "(27327, 5)\n",
      "(442, 5)\n",
      "(353, 5)\n"
     ]
    },
    {
     "name": "stderr",
     "output_type": "stream",
     "text": [
      "\r",
      " 40%|████      | 56/140 [00:35<00:59,  1.41it/s]"
     ]
    },
    {
     "name": "stdout",
     "output_type": "stream",
     "text": [
      "(50053, 5)\n",
      "(37784, 5)\n"
     ]
    },
    {
     "name": "stderr",
     "output_type": "stream",
     "text": [
      "\r",
      " 41%|████      | 57/140 [00:36<00:46,  1.79it/s]"
     ]
    },
    {
     "name": "stdout",
     "output_type": "stream",
     "text": [
      "(17693, 5)\n",
      "(13785, 5)\n"
     ]
    },
    {
     "name": "stderr",
     "output_type": "stream",
     "text": [
      "\r",
      " 41%|████▏     | 58/140 [00:36<00:46,  1.76it/s]"
     ]
    },
    {
     "name": "stdout",
     "output_type": "stream",
     "text": [
      "(78027, 5)\n",
      "(48344, 5)\n"
     ]
    },
    {
     "name": "stderr",
     "output_type": "stream",
     "text": [
      "\r",
      " 42%|████▏     | 59/140 [00:37<00:47,  1.72it/s]"
     ]
    },
    {
     "name": "stdout",
     "output_type": "stream",
     "text": [
      "(81078, 5)\n",
      "(44395, 5)\n"
     ]
    },
    {
     "name": "stderr",
     "output_type": "stream",
     "text": [
      "\r",
      " 43%|████▎     | 60/140 [00:37<00:42,  1.89it/s]"
     ]
    },
    {
     "name": "stdout",
     "output_type": "stream",
     "text": [
      "(48284, 5)\n",
      "(35537, 5)\n",
      "(4990, 5)\n",
      "(4177, 5)\n"
     ]
    },
    {
     "name": "stderr",
     "output_type": "stream",
     "text": [
      "\r",
      " 44%|████▍     | 62/140 [00:39<00:44,  1.74it/s]"
     ]
    },
    {
     "name": "stdout",
     "output_type": "stream",
     "text": [
      "(67404, 5)\n",
      "(50954, 5)\n"
     ]
    },
    {
     "name": "stderr",
     "output_type": "stream",
     "text": [
      "\r",
      " 45%|████▌     | 63/140 [00:39<00:43,  1.76it/s]"
     ]
    },
    {
     "name": "stdout",
     "output_type": "stream",
     "text": [
      "(54233, 5)\n",
      "(40470, 5)\n",
      "(631, 5)\n",
      "(439, 5)\n"
     ]
    },
    {
     "name": "stderr",
     "output_type": "stream",
     "text": [
      " 47%|████▋     | 66/140 [00:39<00:23,  3.11it/s]"
     ]
    },
    {
     "name": "stdout",
     "output_type": "stream",
     "text": [
      "(304, 5)\n",
      "(259, 5)\n",
      "(4990, 5)\n",
      "(4177, 5)\n",
      "(3625, 5)\n",
      "(2785, 5)\n"
     ]
    },
    {
     "name": "stderr",
     "output_type": "stream",
     "text": [
      "\r",
      " 49%|████▊     | 68/140 [00:41<00:28,  2.50it/s]"
     ]
    },
    {
     "name": "stdout",
     "output_type": "stream",
     "text": [
      "(51503, 5)\n",
      "(33470, 5)\n"
     ]
    },
    {
     "name": "stderr",
     "output_type": "stream",
     "text": [
      "\r",
      " 49%|████▉     | 69/140 [00:41<00:25,  2.79it/s]"
     ]
    },
    {
     "name": "stdout",
     "output_type": "stream",
     "text": [
      "(22318, 5)\n",
      "(17173, 5)\n"
     ]
    },
    {
     "name": "stderr",
     "output_type": "stream",
     "text": [
      "\r",
      " 50%|█████     | 70/140 [00:42<00:35,  1.99it/s]"
     ]
    },
    {
     "name": "stdout",
     "output_type": "stream",
     "text": [
      "(23164, 5)\n",
      "(15599, 5)\n"
     ]
    },
    {
     "name": "stderr",
     "output_type": "stream",
     "text": [
      "\r",
      " 51%|█████     | 71/140 [00:42<00:39,  1.74it/s]"
     ]
    },
    {
     "name": "stdout",
     "output_type": "stream",
     "text": [
      "(81078, 5)\n",
      "(44395, 5)\n"
     ]
    },
    {
     "name": "stderr",
     "output_type": "stream",
     "text": [
      "\r",
      " 51%|█████▏    | 72/140 [00:43<00:36,  1.86it/s]"
     ]
    },
    {
     "name": "stdout",
     "output_type": "stream",
     "text": [
      "(51503, 5)\n",
      "(33470, 5)\n",
      "(19379, 5)\n",
      "(15112, 5)\n"
     ]
    },
    {
     "name": "stderr",
     "output_type": "stream",
     "text": [
      "\r",
      " 52%|█████▏    | 73/140 [00:43<00:28,  2.38it/s]"
     ]
    },
    {
     "name": "stdout",
     "output_type": "stream",
     "text": [
      "(442, 5)\n",
      "(353, 5)\n"
     ]
    },
    {
     "name": "stderr",
     "output_type": "stream",
     "text": [
      "\r",
      " 54%|█████▎    | 75/140 [00:43<00:23,  2.82it/s]"
     ]
    },
    {
     "name": "stdout",
     "output_type": "stream",
     "text": [
      "(51503, 5)\n",
      "(33470, 5)\n"
     ]
    },
    {
     "name": "stderr",
     "output_type": "stream",
     "text": [
      "\r",
      " 54%|█████▍    | 76/140 [00:44<00:19,  3.22it/s]"
     ]
    },
    {
     "name": "stdout",
     "output_type": "stream",
     "text": [
      "(23164, 5)\n",
      "(15599, 5)\n"
     ]
    },
    {
     "name": "stderr",
     "output_type": "stream",
     "text": [
      "\r",
      " 55%|█████▌    | 77/140 [00:44<00:21,  2.90it/s]"
     ]
    },
    {
     "name": "stdout",
     "output_type": "stream",
     "text": [
      "(55635, 5)\n",
      "(44637, 5)\n"
     ]
    },
    {
     "name": "stderr",
     "output_type": "stream",
     "text": [
      "\r",
      " 56%|█████▌    | 78/140 [00:44<00:20,  2.96it/s]"
     ]
    },
    {
     "name": "stdout",
     "output_type": "stream",
     "text": [
      "(37461, 5)\n",
      "(27327, 5)\n"
     ]
    },
    {
     "name": "stderr",
     "output_type": "stream",
     "text": [
      "\r",
      " 56%|█████▋    | 79/140 [00:45<00:23,  2.63it/s]"
     ]
    },
    {
     "name": "stdout",
     "output_type": "stream",
     "text": [
      "(67575, 5)\n",
      "(41542, 5)\n"
     ]
    },
    {
     "name": "stderr",
     "output_type": "stream",
     "text": [
      "\r",
      " 57%|█████▋    | 80/140 [00:45<00:19,  3.12it/s]"
     ]
    },
    {
     "name": "stdout",
     "output_type": "stream",
     "text": [
      "(16352, 5)\n",
      "(12453, 5)\n"
     ]
    },
    {
     "name": "stderr",
     "output_type": "stream",
     "text": [
      "\r",
      " 58%|█████▊    | 81/140 [00:45<00:20,  2.82it/s]"
     ]
    },
    {
     "name": "stdout",
     "output_type": "stream",
     "text": [
      "(54233, 5)\n",
      "(40470, 5)\n"
     ]
    },
    {
     "name": "stderr",
     "output_type": "stream",
     "text": [
      "\r",
      " 59%|█████▊    | 82/140 [00:46<00:23,  2.48it/s]"
     ]
    },
    {
     "name": "stdout",
     "output_type": "stream",
     "text": [
      "(70419, 5)\n",
      "(53244, 5)\n"
     ]
    },
    {
     "name": "stderr",
     "output_type": "stream",
     "text": [
      "\r",
      " 59%|█████▉    | 83/140 [00:46<00:22,  2.49it/s]"
     ]
    },
    {
     "name": "stdout",
     "output_type": "stream",
     "text": [
      "(48284, 5)\n",
      "(35537, 5)\n"
     ]
    },
    {
     "name": "stderr",
     "output_type": "stream",
     "text": [
      "\r",
      " 60%|██████    | 84/140 [00:47<00:22,  2.46it/s]"
     ]
    },
    {
     "name": "stdout",
     "output_type": "stream",
     "text": [
      "(50573, 5)\n",
      "(31827, 5)\n"
     ]
    },
    {
     "name": "stderr",
     "output_type": "stream",
     "text": [
      "\r",
      " 61%|██████    | 85/140 [00:47<00:24,  2.22it/s]"
     ]
    },
    {
     "name": "stdout",
     "output_type": "stream",
     "text": [
      "(78027, 5)\n",
      "(48344, 5)\n"
     ]
    },
    {
     "name": "stderr",
     "output_type": "stream",
     "text": [
      "\r",
      " 61%|██████▏   | 86/140 [00:48<00:20,  2.64it/s]"
     ]
    },
    {
     "name": "stdout",
     "output_type": "stream",
     "text": [
      "(23164, 5)\n",
      "(15599, 5)\n"
     ]
    },
    {
     "name": "stderr",
     "output_type": "stream",
     "text": [
      "\r",
      " 62%|██████▏   | 87/140 [00:48<00:23,  2.28it/s]"
     ]
    },
    {
     "name": "stdout",
     "output_type": "stream",
     "text": [
      "(82821, 5)\n",
      "(56076, 5)\n"
     ]
    },
    {
     "name": "stderr",
     "output_type": "stream",
     "text": [
      " 64%|██████▎   | 89/140 [00:48<00:13,  3.67it/s]"
     ]
    },
    {
     "name": "stdout",
     "output_type": "stream",
     "text": [
      "(3625, 5)\n",
      "(2785, 5)\n",
      "(16563, 5)\n",
      "(10297, 5)\n"
     ]
    },
    {
     "name": "stderr",
     "output_type": "stream",
     "text": [
      "\r",
      " 64%|██████▍   | 90/140 [00:49<00:11,  4.43it/s]"
     ]
    },
    {
     "name": "stdout",
     "output_type": "stream",
     "text": [
      "(16563, 5)\n",
      "(10297, 5)\n"
     ]
    },
    {
     "name": "stderr",
     "output_type": "stream",
     "text": [
      "\r",
      " 65%|██████▌   | 91/140 [00:49<00:12,  4.04it/s]"
     ]
    },
    {
     "name": "stdout",
     "output_type": "stream",
     "text": [
      "(37461, 5)\n",
      "(27327, 5)\n",
      "(19249, 5)\n",
      "(14771, 5)\n"
     ]
    },
    {
     "name": "stderr",
     "output_type": "stream",
     "text": [
      "\r",
      " 66%|██████▌   | 92/140 [00:49<00:10,  4.56it/s]"
     ]
    },
    {
     "name": "stdout",
     "output_type": "stream",
     "text": [
      "(485, 5)\n",
      "(348, 5)\n"
     ]
    },
    {
     "name": "stderr",
     "output_type": "stream",
     "text": [
      "\r",
      " 67%|██████▋   | 94/140 [00:50<00:11,  4.02it/s]"
     ]
    },
    {
     "name": "stdout",
     "output_type": "stream",
     "text": [
      "(81078, 5)\n",
      "(44395, 5)\n"
     ]
    },
    {
     "name": "stderr",
     "output_type": "stream",
     "text": [
      " 69%|██████▊   | 96/140 [00:50<00:09,  4.76it/s]"
     ]
    },
    {
     "name": "stdout",
     "output_type": "stream",
     "text": [
      "(28421, 5)\n",
      "(18886, 5)\n",
      "(16352, 5)\n",
      "(12453, 5)\n"
     ]
    },
    {
     "name": "stderr",
     "output_type": "stream",
     "text": [
      "\r",
      " 69%|██████▉   | 97/140 [00:50<00:07,  5.64it/s]"
     ]
    },
    {
     "name": "stdout",
     "output_type": "stream",
     "text": [
      "(12429, 5)\n",
      "(6837, 5)\n"
     ]
    },
    {
     "name": "stderr",
     "output_type": "stream",
     "text": [
      "\r",
      " 70%|███████   | 98/140 [00:50<00:09,  4.65it/s]"
     ]
    },
    {
     "name": "stdout",
     "output_type": "stream",
     "text": [
      "(37461, 5)\n",
      "(27327, 5)\n"
     ]
    },
    {
     "name": "stderr",
     "output_type": "stream",
     "text": [
      "\r",
      " 71%|███████   | 99/140 [00:51<00:08,  4.94it/s]"
     ]
    },
    {
     "name": "stdout",
     "output_type": "stream",
     "text": [
      "(346, 5)\n",
      "(263, 5)\n"
     ]
    },
    {
     "name": "stderr",
     "output_type": "stream",
     "text": [
      "\r",
      " 71%|███████▏  | 100/140 [00:51<00:10,  3.65it/s]"
     ]
    },
    {
     "name": "stdout",
     "output_type": "stream",
     "text": [
      "(50053, 5)\n",
      "(37784, 5)\n",
      "(631, 5)\n",
      "(439, 5)\n"
     ]
    },
    {
     "name": "stderr",
     "output_type": "stream",
     "text": [
      "\r",
      " 73%|███████▎  | 102/140 [00:52<00:10,  3.56it/s]"
     ]
    },
    {
     "name": "stdout",
     "output_type": "stream",
     "text": [
      "(70419, 5)\n",
      "(53244, 5)\n"
     ]
    },
    {
     "name": "stderr",
     "output_type": "stream",
     "text": [
      "\r",
      " 74%|███████▎  | 103/140 [00:52<00:12,  2.87it/s]"
     ]
    },
    {
     "name": "stdout",
     "output_type": "stream",
     "text": [
      "(67404, 5)\n",
      "(50954, 5)\n",
      "(4990, 5)\n",
      "(4177, 5)\n"
     ]
    },
    {
     "name": "stderr",
     "output_type": "stream",
     "text": [
      "\r",
      " 75%|███████▌  | 105/140 [00:52<00:09,  3.85it/s]"
     ]
    },
    {
     "name": "stdout",
     "output_type": "stream",
     "text": [
      "(80, 5)\n",
      "(65, 5)\n"
     ]
    },
    {
     "name": "stderr",
     "output_type": "stream",
     "text": [
      "\r",
      " 76%|███████▌  | 106/140 [00:53<00:11,  2.94it/s]"
     ]
    },
    {
     "name": "stdout",
     "output_type": "stream",
     "text": [
      "(67404, 5)\n",
      "(50954, 5)\n"
     ]
    },
    {
     "name": "stderr",
     "output_type": "stream",
     "text": [
      "\r",
      " 76%|███████▋  | 107/140 [00:53<00:09,  3.47it/s]"
     ]
    },
    {
     "name": "stdout",
     "output_type": "stream",
     "text": [
      "(23164, 5)\n",
      "(15599, 5)\n",
      "(19249, 5)\n",
      "(14771, 5)\n"
     ]
    },
    {
     "name": "stderr",
     "output_type": "stream",
     "text": [
      " 78%|███████▊  | 109/140 [00:53<00:09,  3.26it/s]"
     ]
    },
    {
     "name": "stdout",
     "output_type": "stream",
     "text": [
      "(54233, 5)\n",
      "(40470, 5)\n"
     ]
    },
    {
     "name": "stderr",
     "output_type": "stream",
     "text": [
      "\r",
      " 79%|███████▊  | 110/140 [00:54<00:08,  3.67it/s]"
     ]
    },
    {
     "name": "stdout",
     "output_type": "stream",
     "text": [
      "(28572, 5)\n",
      "(12682, 5)\n"
     ]
    },
    {
     "name": "stderr",
     "output_type": "stream",
     "text": [
      "\r",
      " 79%|███████▉  | 111/140 [00:54<00:07,  3.74it/s]"
     ]
    },
    {
     "name": "stdout",
     "output_type": "stream",
     "text": [
      "(31052, 5)\n",
      "(20634, 5)\n",
      "(19249, 5)\n"
     ]
    },
    {
     "name": "stderr",
     "output_type": "stream",
     "text": [
      "\r",
      " 80%|████████  | 112/140 [00:54<00:06,  4.10it/s]"
     ]
    },
    {
     "name": "stdout",
     "output_type": "stream",
     "text": [
      "(14771, 5)\n",
      "(22318, 5)\n",
      "(17173, 5)\n"
     ]
    },
    {
     "name": "stderr",
     "output_type": "stream",
     "text": [
      " 81%|████████▏ | 114/140 [00:55<00:07,  3.58it/s]"
     ]
    },
    {
     "name": "stdout",
     "output_type": "stream",
     "text": [
      "(55635, 5)\n",
      "(44637, 5)\n"
     ]
    },
    {
     "name": "stderr",
     "output_type": "stream",
     "text": [
      "\r",
      " 82%|████████▏ | 115/140 [00:55<00:06,  3.97it/s]"
     ]
    },
    {
     "name": "stdout",
     "output_type": "stream",
     "text": [
      "(19249, 5)\n",
      "(14771, 5)\n"
     ]
    },
    {
     "name": "stderr",
     "output_type": "stream",
     "text": [
      "\r",
      " 83%|████████▎ | 116/140 [00:55<00:07,  3.05it/s]"
     ]
    },
    {
     "name": "stdout",
     "output_type": "stream",
     "text": [
      "(69571, 5)\n",
      "(52242, 5)\n"
     ]
    },
    {
     "name": "stderr",
     "output_type": "stream",
     "text": [
      " 84%|████████▍ | 118/140 [00:56<00:05,  4.12it/s]"
     ]
    },
    {
     "name": "stdout",
     "output_type": "stream",
     "text": [
      "(17693, 5)\n",
      "(13785, 5)\n",
      "(16563, 5)\n",
      "(10297, 5)\n",
      "(346, 5)\n",
      "(263, 5)\n"
     ]
    },
    {
     "name": "stderr",
     "output_type": "stream",
     "text": [
      "\r",
      " 86%|████████▌ | 120/140 [00:56<00:04,  4.03it/s]"
     ]
    },
    {
     "name": "stdout",
     "output_type": "stream",
     "text": [
      "(69571, 5)\n",
      "(52242, 5)\n",
      "(3625, 5)\n",
      "(2785, 5)\n"
     ]
    },
    {
     "name": "stderr",
     "output_type": "stream",
     "text": [
      "\r",
      " 87%|████████▋ | 122/140 [00:57<00:04,  3.85it/s]"
     ]
    },
    {
     "name": "stdout",
     "output_type": "stream",
     "text": [
      "(67575, 5)\n",
      "(41542, 5)\n",
      "(346, 5)\n",
      "(263, 5)\n"
     ]
    },
    {
     "name": "stderr",
     "output_type": "stream",
     "text": [
      "\r",
      " 89%|████████▊ | 124/140 [00:57<00:03,  4.23it/s]"
     ]
    },
    {
     "name": "stdout",
     "output_type": "stream",
     "text": [
      "(44564, 5)\n",
      "(26508, 5)\n"
     ]
    },
    {
     "name": "stderr",
     "output_type": "stream",
     "text": [
      "\r",
      " 89%|████████▉ | 125/140 [00:58<00:04,  3.18it/s]"
     ]
    },
    {
     "name": "stdout",
     "output_type": "stream",
     "text": [
      "(69571, 5)\n",
      "(52242, 5)\n"
     ]
    },
    {
     "name": "stderr",
     "output_type": "stream",
     "text": [
      "\r",
      " 90%|█████████ | 126/140 [00:58<00:03,  3.62it/s]"
     ]
    },
    {
     "name": "stdout",
     "output_type": "stream",
     "text": [
      "(19379, 5)\n",
      "(15112, 5)\n"
     ]
    },
    {
     "name": "stderr",
     "output_type": "stream",
     "text": [
      "\r",
      " 91%|█████████ | 127/140 [00:58<00:04,  3.16it/s]"
     ]
    },
    {
     "name": "stdout",
     "output_type": "stream",
     "text": [
      "(55635, 5)\n",
      "(44637, 5)\n",
      "(346, 5)\n",
      "(263, 5)\n",
      "(485, 5)\n",
      "(348, 5)\n"
     ]
    },
    {
     "name": "stderr",
     "output_type": "stream",
     "text": [
      "\r",
      " 93%|█████████▎| 130/140 [00:59<00:02,  3.60it/s]"
     ]
    },
    {
     "name": "stdout",
     "output_type": "stream",
     "text": [
      "(67404, 5)\n",
      "(50954, 5)\n"
     ]
    },
    {
     "name": "stderr",
     "output_type": "stream",
     "text": [
      "\r",
      " 94%|█████████▎| 131/140 [00:59<00:02,  3.34it/s]"
     ]
    },
    {
     "name": "stdout",
     "output_type": "stream",
     "text": [
      "(44564, 5)\n",
      "(26508, 5)\n",
      "(442, 5)\n",
      "(353, 5)\n"
     ]
    },
    {
     "name": "stderr",
     "output_type": "stream",
     "text": [
      "\r",
      " 95%|█████████▌| 133/140 [01:00<00:01,  3.69it/s]"
     ]
    },
    {
     "name": "stdout",
     "output_type": "stream",
     "text": [
      "(48284, 5)\n",
      "(35537, 5)\n"
     ]
    },
    {
     "name": "stderr",
     "output_type": "stream",
     "text": [
      "\r",
      " 96%|█████████▌| 134/140 [01:00<00:02,  2.94it/s]"
     ]
    },
    {
     "name": "stdout",
     "output_type": "stream",
     "text": [
      "(67575, 5)\n",
      "(41542, 5)\n"
     ]
    },
    {
     "name": "stderr",
     "output_type": "stream",
     "text": [
      "\r",
      " 96%|█████████▋| 135/140 [01:00<00:01,  2.92it/s]"
     ]
    },
    {
     "name": "stdout",
     "output_type": "stream",
     "text": [
      "(44564, 5)\n",
      "(26508, 5)\n"
     ]
    },
    {
     "name": "stderr",
     "output_type": "stream",
     "text": [
      " 98%|█████████▊| 137/140 [01:01<00:00,  4.00it/s]"
     ]
    },
    {
     "name": "stdout",
     "output_type": "stream",
     "text": [
      "(28572, 5)\n",
      "(12682, 5)\n",
      "(12429, 5)\n",
      "(6837, 5)\n"
     ]
    },
    {
     "name": "stderr",
     "output_type": "stream",
     "text": [
      "100%|██████████| 140/140 [01:01<00:00,  2.27it/s]"
     ]
    },
    {
     "name": "stdout",
     "output_type": "stream",
     "text": [
      "(51503, 5)\n",
      "(33470, 5)\n",
      "(3625, 5)\n",
      "(2785, 5)\n",
      "(80, 5)\n",
      "(65, 5)\n"
     ]
    },
    {
     "name": "stderr",
     "output_type": "stream",
     "text": [
      "\n",
      "  3%|▎         | 1/32 [00:01<00:38,  1.23s/it]"
     ]
    },
    {
     "name": "stdout",
     "output_type": "stream",
     "text": [
      "(49298, 5)\n",
      "(36454, 5)\n"
     ]
    },
    {
     "name": "stderr",
     "output_type": "stream",
     "text": [
      "\r",
      "  6%|▋         | 2/32 [00:02<00:38,  1.29s/it]"
     ]
    },
    {
     "name": "stdout",
     "output_type": "stream",
     "text": [
      "(107717, 5)\n",
      "(61644, 5)\n"
     ]
    },
    {
     "name": "stderr",
     "output_type": "stream",
     "text": [
      "\r",
      "  9%|▉         | 3/32 [00:03<00:33,  1.17s/it]"
     ]
    },
    {
     "name": "stdout",
     "output_type": "stream",
     "text": [
      "(107717, 5)\n",
      "(61644, 5)\n"
     ]
    },
    {
     "name": "stderr",
     "output_type": "stream",
     "text": [
      "\r",
      " 12%|█▎        | 4/32 [00:05<00:35,  1.28s/it]"
     ]
    },
    {
     "name": "stdout",
     "output_type": "stream",
     "text": [
      "(117825, 5)\n",
      "(64058, 5)\n"
     ]
    },
    {
     "name": "stderr",
     "output_type": "stream",
     "text": [
      "\r",
      " 16%|█▌        | 5/32 [00:05<00:28,  1.06s/it]"
     ]
    },
    {
     "name": "stdout",
     "output_type": "stream",
     "text": [
      "(29955, 5)\n",
      "(20634, 5)\n"
     ]
    },
    {
     "name": "stderr",
     "output_type": "stream",
     "text": [
      "\r",
      " 19%|█▉        | 6/32 [00:06<00:27,  1.08s/it]"
     ]
    },
    {
     "name": "stdout",
     "output_type": "stream",
     "text": [
      "(70880, 5)\n",
      "(48740, 5)\n"
     ]
    },
    {
     "name": "stderr",
     "output_type": "stream",
     "text": [
      "\r",
      " 22%|██▏       | 7/32 [00:07<00:20,  1.19it/s]"
     ]
    },
    {
     "name": "stdout",
     "output_type": "stream",
     "text": [
      "(29955, 5)\n",
      "(20634, 5)\n"
     ]
    },
    {
     "name": "stderr",
     "output_type": "stream",
     "text": [
      "\r",
      " 25%|██▌       | 8/32 [00:07<00:19,  1.21it/s]"
     ]
    },
    {
     "name": "stdout",
     "output_type": "stream",
     "text": [
      "(37656, 5)\n",
      "(20777, 5)\n"
     ]
    },
    {
     "name": "stderr",
     "output_type": "stream",
     "text": [
      "\r",
      " 28%|██▊       | 9/32 [00:09<00:22,  1.03it/s]"
     ]
    },
    {
     "name": "stdout",
     "output_type": "stream",
     "text": [
      "(99662, 5)\n",
      "(42333, 5)\n"
     ]
    },
    {
     "name": "stderr",
     "output_type": "stream",
     "text": [
      "\r",
      " 31%|███▏      | 10/32 [00:09<00:20,  1.08it/s]"
     ]
    },
    {
     "name": "stdout",
     "output_type": "stream",
     "text": [
      "(99662, 5)\n",
      "(42333, 5)\n"
     ]
    },
    {
     "name": "stderr",
     "output_type": "stream",
     "text": [
      "\r",
      " 34%|███▍      | 11/32 [00:11<00:20,  1.03it/s]"
     ]
    },
    {
     "name": "stdout",
     "output_type": "stream",
     "text": [
      "(64365, 5)\n",
      "(54585, 5)\n",
      "(87477, 5)\n",
      "(77123, 5)\n"
     ]
    },
    {
     "name": "stderr",
     "output_type": "stream",
     "text": [
      "\r",
      " 38%|███▊      | 12/32 [00:12<00:22,  1.11s/it]"
     ]
    },
    {
     "name": "stdout",
     "output_type": "stream",
     "text": [
      "(64365, 5)\n",
      "(54585, 5)\n"
     ]
    },
    {
     "name": "stderr",
     "output_type": "stream",
     "text": [
      " 44%|████▍     | 14/32 [00:14<00:20,  1.16s/it]"
     ]
    },
    {
     "name": "stdout",
     "output_type": "stream",
     "text": [
      "(82335, 5)\n",
      "(50630, 5)\n",
      "(117825, 5)\n",
      "(64058, 5)\n"
     ]
    },
    {
     "name": "stderr",
     "output_type": "stream",
     "text": [
      " 50%|█████     | 16/32 [00:17<00:18,  1.17s/it]"
     ]
    },
    {
     "name": "stdout",
     "output_type": "stream",
     "text": [
      "(68783, 5)\n",
      "(7192, 5)\n",
      "(87477, 5)\n",
      "(77123, 5)\n"
     ]
    },
    {
     "name": "stderr",
     "output_type": "stream",
     "text": [
      " 56%|█████▋    | 18/32 [00:18<00:11,  1.23it/s]"
     ]
    },
    {
     "name": "stdout",
     "output_type": "stream",
     "text": [
      "(26358, 5)\n",
      "(13325, 5)\n"
     ]
    },
    {
     "name": "stderr",
     "output_type": "stream",
     "text": [
      "\r",
      " 59%|█████▉    | 19/32 [00:19<00:11,  1.11it/s]"
     ]
    },
    {
     "name": "stdout",
     "output_type": "stream",
     "text": [
      "(37487, 5)\n",
      "(5849, 5)\n"
     ]
    },
    {
     "name": "stderr",
     "output_type": "stream",
     "text": [
      "\r",
      " 62%|██████▎   | 20/32 [00:19<00:08,  1.36it/s]"
     ]
    },
    {
     "name": "stdout",
     "output_type": "stream",
     "text": [
      "(37487, 5)\n",
      "(5849, 5)\n"
     ]
    },
    {
     "name": "stderr",
     "output_type": "stream",
     "text": [
      "\r",
      " 66%|██████▌   | 21/32 [00:20<00:07,  1.46it/s]"
     ]
    },
    {
     "name": "stdout",
     "output_type": "stream",
     "text": [
      "(68783, 5)\n",
      "(7192, 5)\n"
     ]
    },
    {
     "name": "stderr",
     "output_type": "stream",
     "text": [
      "\r",
      " 69%|██████▉   | 22/32 [00:21<00:07,  1.36it/s]"
     ]
    },
    {
     "name": "stdout",
     "output_type": "stream",
     "text": [
      "(25326, 5)\n",
      "(22332, 5)\n"
     ]
    },
    {
     "name": "stderr",
     "output_type": "stream",
     "text": [
      "\r",
      " 72%|███████▏  | 23/32 [00:21<00:05,  1.68it/s]"
     ]
    },
    {
     "name": "stdout",
     "output_type": "stream",
     "text": [
      "(25326, 5)\n",
      "(22332, 5)\n"
     ]
    },
    {
     "name": "stderr",
     "output_type": "stream",
     "text": [
      "\r",
      " 75%|███████▌  | 24/32 [00:21<00:03,  2.02it/s]"
     ]
    },
    {
     "name": "stdout",
     "output_type": "stream",
     "text": [
      "(26358, 5)\n",
      "(13325, 5)\n"
     ]
    },
    {
     "name": "stderr",
     "output_type": "stream",
     "text": [
      "\r",
      " 78%|███████▊  | 25/32 [00:22<00:03,  1.80it/s]"
     ]
    },
    {
     "name": "stdout",
     "output_type": "stream",
     "text": [
      "(44656, 5)\n",
      "(7251, 5)\n"
     ]
    },
    {
     "name": "stderr",
     "output_type": "stream",
     "text": [
      "\r",
      " 81%|████████▏ | 26/32 [00:22<00:03,  1.88it/s]"
     ]
    },
    {
     "name": "stdout",
     "output_type": "stream",
     "text": [
      "(49298, 5)\n",
      "(36454, 5)\n"
     ]
    },
    {
     "name": "stderr",
     "output_type": "stream",
     "text": [
      "\r",
      " 84%|████████▍ | 27/32 [00:24<00:03,  1.37it/s]"
     ]
    },
    {
     "name": "stdout",
     "output_type": "stream",
     "text": [
      "(79009, 5)\n",
      "(46650, 5)\n"
     ]
    },
    {
     "name": "stderr",
     "output_type": "stream",
     "text": [
      "\r",
      " 88%|████████▊ | 28/32 [00:24<00:02,  1.43it/s]"
     ]
    },
    {
     "name": "stdout",
     "output_type": "stream",
     "text": [
      "(70880, 5)\n",
      "(48740, 5)\n"
     ]
    },
    {
     "name": "stderr",
     "output_type": "stream",
     "text": [
      "\r",
      " 91%|█████████ | 29/32 [00:25<00:01,  1.69it/s]"
     ]
    },
    {
     "name": "stdout",
     "output_type": "stream",
     "text": [
      "(44656, 5)\n",
      "(7251, 5)\n"
     ]
    },
    {
     "name": "stderr",
     "output_type": "stream",
     "text": [
      "\r",
      " 94%|█████████▍| 30/32 [00:25<00:01,  1.62it/s]"
     ]
    },
    {
     "name": "stdout",
     "output_type": "stream",
     "text": [
      "(79009, 5)\n",
      "(46650, 5)\n"
     ]
    },
    {
     "name": "stderr",
     "output_type": "stream",
     "text": [
      "\r",
      " 97%|█████████▋| 31/32 [00:26<00:00,  1.91it/s]"
     ]
    },
    {
     "name": "stdout",
     "output_type": "stream",
     "text": [
      "(37656, 5)\n",
      "(20777, 5)\n"
     ]
    },
    {
     "name": "stderr",
     "output_type": "stream",
     "text": [
      "100%|██████████| 32/32 [00:26<00:00,  1.20it/s]"
     ]
    },
    {
     "name": "stdout",
     "output_type": "stream",
     "text": [
      "(82335, 5)\n",
      "(50630, 5)\n"
     ]
    },
    {
     "name": "stderr",
     "output_type": "stream",
     "text": [
      "\n"
     ]
    }
   ],
   "source": [
    "\n",
    "# meta_file = \"/scratch/PI/horence/Roozbeh/single_cell_project/output/Lemur_Antoine_10X/meta.tsv\"\n",
    "# meta = pd.read_csv(meta_file,sep=\"\\t\")\n",
    "\n",
    "# datanames = [\"MLCA_ANTOINE_LUNG_CD31_POS_S11_L00\",\"MLCA_ANTOINE_LUNG_EPCAM_POS_S12_L00\",\"MLCA_ANTOINE_LUNG_P3_S7_L00\"]\n",
    "\n",
    "# data = {\n",
    "#   \"lemur\" : [[\"MLCA_ANTOINE_LUNG_CD31_POS_S11_L00\",\"MLCA_ANTOINE_LUNG_EPCAM_POS_S12_L00\",\"MLCA_ANTOINE_LUNG_P3_S7_L00\"],\n",
    "#                   \"/scratch/PI/horence/Roozbeh/single_cell_project/output/Lemur_Antoine_10X/meta.tsv\"], \n",
    "#         \"human\" : [[\"TSP2_Lung_proxmedialdistal_10X_1_1_S24_L00\",\"TSP2_Lung_proxmedialdistal_10X_1_2_S25_L00\"],\n",
    "#                   \"/scratch/PI/horence/Roozbeh/single_cell_project/output/TSP2_10X_rerun/meta.tsv\"],\n",
    "#        \"mouse\" : [[\"10X_P1_14_S14_L00\"],\n",
    "#                  \"/scratch/PI/horence/JuliaO/single_cell/Differential_Splicing/notebooks/output/parse_bowtie2_output/tabula_muris_senis_meta.tsv\"]}\n",
    "\n",
    "# data = {\n",
    "#   \"lemur\" : [[\"MLCA_ANTOINE_SMALLINTESTINE_COMBINED_S1_L00\"],\n",
    "#                   \"/scratch/PI/horence/Roozbeh/single_cell_project/output/Lemur_Antoine_10X/meta.tsv\"], \n",
    "#         \"human\" : [[\"TSP2_SI_distal_10X_1_1_Jejunum_S22_L00\",\"TSP2_SI_proximal_10X_1_1_Duodenum_S21_L00\",\n",
    "#                    \"TSP2_LI_distal_10X_1_1_Sigmoid_S9_L00\",\"TSP2_LI_proximal_10X_1_1_Ascending_S8_L00\"],\n",
    "#                   \"/scratch/PI/horence/Roozbeh/single_cell_project/output/TSP2_10X_rerun/meta.tsv\"],\n",
    "#        \"mouse\" : [[\"10X_P1_8_S8_L00\"],\n",
    "#                  \"/scratch/PI/horence/JuliaO/single_cell/Differential_Splicing/notebooks/output/parse_bowtie2_output/tabula_muris_senis_meta.tsv\"]}\n",
    "data = {\n",
    "  \"lemur\" : [[x.split(\"/\")[-1][:-22] for x in glob(\"{}MLCA*extracted_R2_001.sam\".format(inpath))],\"/scratch/PI/horence/Roozbeh/single_cell_project/output/Lemur_Antoine_10X/meta.tsv\"],\n",
    "  \"human\" : [[x.split(\"/\")[-1][:-22] for x in glob(\"{}TSP2*extracted_R2_001.sam\".format(inpath))],\"/scratch/PI/horence/Roozbeh/single_cell_project/output/TSP2_10X_rerun/meta.tsv\"],\n",
    "  \"mouse\" : [[x.split(\"/\")[-1][:-22] for x in glob(\"{}10X_P1_*extracted_R2_001.sam\".format(inpath))],\"/scratch/PI/horence/JuliaO/single_cell/Differential_Splicing/notebooks/output/parse_bowtie2_output/tabula_muris_senis_meta.tsv\"]\n",
    "}\n",
    "# data = { \n",
    "#   \"lemur\" : [[\"MLCA_ANTOINE_RETINA_S6_L00\"],\"/scratch/PI/horence/Roozbeh/single_cell_project/output/Lemur_Antoine_10X/meta.tsv\"]\n",
    "  \n",
    "# }\n",
    "species_dict = {}\n",
    "for species, data_info in data.items():\n",
    "  meta = pd.read_csv(data_info[1],sep=\"\\t\")\n",
    "  if \"cell1\" in meta.columns:\n",
    "    meta[\"cell\"] = meta[\"cell1\"]\n",
    "  all_dfs = []\n",
    "  for dataname in tqdm(data_info[0]):\n",
    "    lane_sams = glob(\"{}{}*_extracted_R2_001.sam\".format(inpath,dataname))\n",
    "    dfs = []\n",
    "    for sam in lane_sams:\n",
    "      df = pd.read_csv(sam,sep=\"\\t\",skiprows=10,header=None,usecols=[0,2],names=[\"read\",\"transcript\"])\n",
    "      df[\"barcode\"] = df[\"read\"].str.split(\"_\").str[1]\n",
    "      df[\"UMI\"] = df[\"read\"].str.split(\"_\").str[2]\n",
    "      dfs.append(df)\n",
    "    channel_df = pd.concat(dfs,axis=0)\n",
    "    all_dfs.append(process_channel(channel_df,dataname))\n",
    "  all_df = pd.concat(all_dfs,axis=0)\n",
    "\n",
    "  # map compartments\n",
    "  all_df[\"compartment\"] = all_df[\"cell\"].map(pd.Series(meta.compartment.values,index=meta.cell).to_dict())\n",
    "  all_df = all_df[~all_df[\"compartment\"].isna()]\n",
    "  species_dict[species] = all_df"
   ]
  },
  {
   "cell_type": "code",
   "execution_count": 7,
   "metadata": {
    "ExecuteTime": {
     "end_time": "2021-04-29T17:09:14.594189Z",
     "start_time": "2021-04-29T17:09:14.534959Z"
    }
   },
   "outputs": [
    {
     "data": {
      "text/html": [
       "<div>\n",
       "<style scoped>\n",
       "    .dataframe tbody tr th:only-of-type {\n",
       "        vertical-align: middle;\n",
       "    }\n",
       "\n",
       "    .dataframe tbody tr th {\n",
       "        vertical-align: top;\n",
       "    }\n",
       "\n",
       "    .dataframe thead th {\n",
       "        text-align: right;\n",
       "    }\n",
       "</style>\n",
       "<table border=\"1\" class=\"dataframe\">\n",
       "  <thead>\n",
       "    <tr style=\"text-align: right;\">\n",
       "      <th></th>\n",
       "      <th>transcript</th>\n",
       "      <th>barcode</th>\n",
       "      <th>numReads</th>\n",
       "      <th>barcode_transcript</th>\n",
       "      <th>cell</th>\n",
       "    </tr>\n",
       "  </thead>\n",
       "  <tbody>\n",
       "    <tr>\n",
       "      <td>0</td>\n",
       "      <td>4--6</td>\n",
       "      <td>GCAATCATCACATAGC</td>\n",
       "      <td>69</td>\n",
       "      <td>GCAATCATCACATAGC_4--6</td>\n",
       "      <td>10X_P1_13_S13_L00_GCAATCATCACATAGC</td>\n",
       "    </tr>\n",
       "    <tr>\n",
       "      <td>1</td>\n",
       "      <td>4--6</td>\n",
       "      <td>CTCCTAGGTCATGCAT</td>\n",
       "      <td>7</td>\n",
       "      <td>CTCCTAGGTCATGCAT_4--6</td>\n",
       "      <td>10X_P1_13_S13_L00_CTCCTAGGTCATGCAT</td>\n",
       "    </tr>\n",
       "    <tr>\n",
       "      <td>2</td>\n",
       "      <td>4--6</td>\n",
       "      <td>AGAGCGAAGACAGACC</td>\n",
       "      <td>13</td>\n",
       "      <td>AGAGCGAAGACAGACC_4--6</td>\n",
       "      <td>10X_P1_13_S13_L00_AGAGCGAAGACAGACC</td>\n",
       "    </tr>\n",
       "    <tr>\n",
       "      <td>3</td>\n",
       "      <td>4--6</td>\n",
       "      <td>ATGCGATTCGCAAACT</td>\n",
       "      <td>34</td>\n",
       "      <td>ATGCGATTCGCAAACT_4--6</td>\n",
       "      <td>10X_P1_13_S13_L00_ATGCGATTCGCAAACT</td>\n",
       "    </tr>\n",
       "    <tr>\n",
       "      <td>4</td>\n",
       "      <td>4-5c-6</td>\n",
       "      <td>GCGCAGTTCTCGATGA</td>\n",
       "      <td>1</td>\n",
       "      <td>GCGCAGTTCTCGATGA_4-5c-6</td>\n",
       "      <td>10X_P1_13_S13_L00_GCGCAGTTCTCGATGA</td>\n",
       "    </tr>\n",
       "    <tr>\n",
       "      <td>...</td>\n",
       "      <td>...</td>\n",
       "      <td>...</td>\n",
       "      <td>...</td>\n",
       "      <td>...</td>\n",
       "      <td>...</td>\n",
       "    </tr>\n",
       "    <tr>\n",
       "      <td>24328</td>\n",
       "      <td>4--6</td>\n",
       "      <td>GTGAAGGTCGTGGTCG</td>\n",
       "      <td>1</td>\n",
       "      <td>GTGAAGGTCGTGGTCG_4--6</td>\n",
       "      <td>10X_P1_13_S13_L00_GTGAAGGTCGTGGTCG</td>\n",
       "    </tr>\n",
       "    <tr>\n",
       "      <td>24334</td>\n",
       "      <td>4--6</td>\n",
       "      <td>GGCGACTGTTCGCGAC</td>\n",
       "      <td>1</td>\n",
       "      <td>GGCGACTGTTCGCGAC_4--6</td>\n",
       "      <td>10X_P1_13_S13_L00_GGCGACTGTTCGCGAC</td>\n",
       "    </tr>\n",
       "    <tr>\n",
       "      <td>24339</td>\n",
       "      <td>4--6</td>\n",
       "      <td>ACACCCTCACCTGGTG</td>\n",
       "      <td>1</td>\n",
       "      <td>ACACCCTCACCTGGTG_4--6</td>\n",
       "      <td>10X_P1_13_S13_L00_ACACCCTCACCTGGTG</td>\n",
       "    </tr>\n",
       "    <tr>\n",
       "      <td>24389</td>\n",
       "      <td>4--6</td>\n",
       "      <td>AGGCCACGTGATAAGT</td>\n",
       "      <td>1</td>\n",
       "      <td>AGGCCACGTGATAAGT_4--6</td>\n",
       "      <td>10X_P1_13_S13_L00_AGGCCACGTGATAAGT</td>\n",
       "    </tr>\n",
       "    <tr>\n",
       "      <td>24392</td>\n",
       "      <td>4--6</td>\n",
       "      <td>GCATGATCAGCTTAAC</td>\n",
       "      <td>1</td>\n",
       "      <td>GCATGATCAGCTTAAC_4--6</td>\n",
       "      <td>10X_P1_13_S13_L00_GCATGATCAGCTTAAC</td>\n",
       "    </tr>\n",
       "  </tbody>\n",
       "</table>\n",
       "<p>8446 rows × 5 columns</p>\n",
       "</div>"
      ],
      "text/plain": [
       "      transcript           barcode  numReads       barcode_transcript  \\\n",
       "0           4--6  GCAATCATCACATAGC        69    GCAATCATCACATAGC_4--6   \n",
       "1           4--6  CTCCTAGGTCATGCAT         7    CTCCTAGGTCATGCAT_4--6   \n",
       "2           4--6  AGAGCGAAGACAGACC        13    AGAGCGAAGACAGACC_4--6   \n",
       "3           4--6  ATGCGATTCGCAAACT        34    ATGCGATTCGCAAACT_4--6   \n",
       "4         4-5c-6  GCGCAGTTCTCGATGA         1  GCGCAGTTCTCGATGA_4-5c-6   \n",
       "...          ...               ...       ...                      ...   \n",
       "24328       4--6  GTGAAGGTCGTGGTCG         1    GTGAAGGTCGTGGTCG_4--6   \n",
       "24334       4--6  GGCGACTGTTCGCGAC         1    GGCGACTGTTCGCGAC_4--6   \n",
       "24339       4--6  ACACCCTCACCTGGTG         1    ACACCCTCACCTGGTG_4--6   \n",
       "24389       4--6  AGGCCACGTGATAAGT         1    AGGCCACGTGATAAGT_4--6   \n",
       "24392       4--6  GCATGATCAGCTTAAC         1    GCATGATCAGCTTAAC_4--6   \n",
       "\n",
       "                                     cell  \n",
       "0      10X_P1_13_S13_L00_GCAATCATCACATAGC  \n",
       "1      10X_P1_13_S13_L00_CTCCTAGGTCATGCAT  \n",
       "2      10X_P1_13_S13_L00_AGAGCGAAGACAGACC  \n",
       "3      10X_P1_13_S13_L00_ATGCGATTCGCAAACT  \n",
       "4      10X_P1_13_S13_L00_GCGCAGTTCTCGATGA  \n",
       "...                                   ...  \n",
       "24328  10X_P1_13_S13_L00_GTGAAGGTCGTGGTCG  \n",
       "24334  10X_P1_13_S13_L00_GGCGACTGTTCGCGAC  \n",
       "24339  10X_P1_13_S13_L00_ACACCCTCACCTGGTG  \n",
       "24389  10X_P1_13_S13_L00_AGGCCACGTGATAAGT  \n",
       "24392  10X_P1_13_S13_L00_GCATGATCAGCTTAAC  \n",
       "\n",
       "[8446 rows x 5 columns]"
      ]
     },
     "execution_count": 7,
     "metadata": {},
     "output_type": "execute_result"
    }
   ],
   "source": [
    "all_dfs[0]"
   ]
  },
  {
   "cell_type": "code",
   "execution_count": 8,
   "metadata": {
    "ExecuteTime": {
     "end_time": "2021-04-29T17:09:20.800484Z",
     "start_time": "2021-04-29T17:09:20.678955Z"
    }
   },
   "outputs": [
    {
     "data": {
      "text/plain": [
       "transcript\n",
       "4--6            115096\n",
       "4-5a-5b-5c-6       124\n",
       "4-5a-5b-6          100\n",
       "4-5a-5c-6       359556\n",
       "4-5a-6           50652\n",
       "4-5b-5c-6          188\n",
       "4-5b-6              64\n",
       "4-5c-6          128652\n",
       "Name: numReads, dtype: int64"
      ]
     },
     "execution_count": 8,
     "metadata": {},
     "output_type": "execute_result"
    }
   ],
   "source": [
    "species_dict[\"human\"][species_dict[\"human\"][\"compartment\"] == \"Epithelial\"].groupby(\"transcript\")[\"numReads\"].sum()"
   ]
  },
  {
   "cell_type": "code",
   "execution_count": 9,
   "metadata": {
    "ExecuteTime": {
     "end_time": "2021-04-29T17:09:27.701974Z",
     "start_time": "2021-04-29T17:09:27.640287Z"
    }
   },
   "outputs": [
    {
     "data": {
      "text/plain": [
       "transcript\n",
       "4--6            118814\n",
       "4-5a-5b-5c-6         8\n",
       "4-5a-5b-6            2\n",
       "4-5a-5c-6          700\n",
       "4-5a-6            2682\n",
       "4-5b-5c-6          158\n",
       "4-5b-6             142\n",
       "4-5c-6           53262\n",
       "Name: numReads, dtype: int64"
      ]
     },
     "execution_count": 9,
     "metadata": {},
     "output_type": "execute_result"
    }
   ],
   "source": [
    "species_dict[\"lemur\"][species_dict[\"lemur\"][\"compartment\"] == \"epithelial\"].groupby(\"transcript\")[\"numReads\"].sum()"
   ]
  },
  {
   "cell_type": "code",
   "execution_count": 10,
   "metadata": {
    "ExecuteTime": {
     "end_time": "2021-04-29T17:09:30.109617Z",
     "start_time": "2021-04-29T17:09:30.079539Z"
    }
   },
   "outputs": [
    {
     "data": {
      "text/plain": [
       "transcript\n",
       "4--6            47478\n",
       "4-5a-5b-5c-6       26\n",
       "4-5a-5b-6           8\n",
       "4-5a-5c-6        3030\n",
       "4-5a-6           5116\n",
       "4-5b-5c-6         114\n",
       "4-5b-6             78\n",
       "4-5c-6           1594\n",
       "Name: numReads, dtype: int64"
      ]
     },
     "execution_count": 10,
     "metadata": {},
     "output_type": "execute_result"
    }
   ],
   "source": [
    "species_dict[\"mouse\"][species_dict[\"mouse\"][\"compartment\"] == \"Epithelial\"].groupby(\"transcript\")[\"numReads\"].sum()"
   ]
  },
  {
   "cell_type": "code",
   "execution_count": 11,
   "metadata": {
    "ExecuteTime": {
     "end_time": "2021-04-29T17:09:38.539234Z",
     "start_time": "2021-04-29T17:09:38.526871Z"
    }
   },
   "outputs": [
    {
     "data": {
      "text/plain": [
       "8"
      ]
     },
     "execution_count": 11,
     "metadata": {},
     "output_type": "execute_result"
    }
   ],
   "source": [
    "index=[\"4--6\",\"4-5a-6\",\"4-5b-6\",\"4-5c-6\",\"4-5a-5b-6\",\"4-5a-5c-6\",\"4-5b-5c-6\",\"4-5a-5b-5c-6\"]\n",
    "len(index)"
   ]
  },
  {
   "cell_type": "code",
   "execution_count": 17,
   "metadata": {
    "ExecuteTime": {
     "end_time": "2021-02-10T19:55:43.998576Z",
     "start_time": "2021-02-10T19:55:43.991138Z"
    }
   },
   "outputs": [
    {
     "data": {
      "text/plain": [
       "'immune'"
      ]
     },
     "execution_count": 17,
     "metadata": {},
     "output_type": "execute_result"
    }
   ],
   "source": [
    "\"Immune\".lower()"
   ]
  },
  {
   "cell_type": "code",
   "execution_count": 12,
   "metadata": {
    "ExecuteTime": {
     "end_time": "2021-04-29T17:09:45.429781Z",
     "start_time": "2021-04-29T17:09:45.390405Z"
    }
   },
   "outputs": [],
   "source": [
    "species_dict[\"lemur\"][\"compartment\"] = species_dict[\"lemur\"][\"compartment\"].replace(\"myeloid\",\"immune\")\n",
    "species_dict[\"lemur\"][\"compartment\"] = species_dict[\"lemur\"][\"compartment\"].replace(\"lymphoid\",\"immune\")"
   ]
  },
  {
   "cell_type": "code",
   "execution_count": 129,
   "metadata": {
    "ExecuteTime": {
     "end_time": "2021-04-29T17:45:23.942362Z",
     "start_time": "2021-04-29T17:45:23.832052Z"
    }
   },
   "outputs": [
    {
     "data": {
      "text/plain": [
       "transcript\n",
       "4--6             9508\n",
       "4-5a-5b-5c-6       74\n",
       "4-5a-5b-6           2\n",
       "4-5a-5c-6         396\n",
       "4-5a-6           2158\n",
       "4-5b-5c-6        1850\n",
       "4-5b-6           1490\n",
       "4-5c-6          35250\n",
       "Name: numReads, dtype: int64"
      ]
     },
     "metadata": {},
     "output_type": "display_data"
    },
    {
     "data": {
      "text/plain": [
       "transcript\n",
       "4--6             62316\n",
       "4-5a-5b-5c-6       600\n",
       "4-5a-5b-6          252\n",
       "4-5a-5c-6         2392\n",
       "4-5a-6           20984\n",
       "4-5b-5c-6         5032\n",
       "4-5b-6            2980\n",
       "4-5c-6          458736\n",
       "Name: numReads, dtype: int64"
      ]
     },
     "metadata": {},
     "output_type": "display_data"
    },
    {
     "data": {
      "text/plain": [
       "transcript\n",
       "4--6            16684\n",
       "4-5a-5b-5c-6     1266\n",
       "4-5a-5b-6         572\n",
       "4-5a-5c-6         334\n",
       "4-5a-6           2744\n",
       "4-5b-5c-6        9954\n",
       "4-5b-6           6912\n",
       "4-5c-6          33274\n",
       "Name: numReads, dtype: int64"
      ]
     },
     "metadata": {},
     "output_type": "display_data"
    }
   ],
   "source": [
    "index=[\"4--6\",\"4-5a-6\",\"4-5b-6\",\"4-5c-6\",\"4-5a-5b-6\",\"4-5a-5c-6\",\"4-5b-5c-6\",\"4-5a-5b-5c-6\"]\n",
    "\n",
    "plot_dict = {}\n",
    "comp = \"Stromal\"\n",
    "for species, sd in species_dict.items():\n",
    "  plot_dict[species] = []\n",
    "  ser = sd[sd[\"compartment\"].isin([comp,comp.lower()])].groupby(\"transcript\")[\"numReads\"].sum()\n",
    "  for i in index:\n",
    "    if i in ser.index:\n",
    "      plot_dict[species].append(ser[i])\n",
    "    else:\n",
    "      plot_dict[species].append(0)\n",
    "  display(ser)"
   ]
  },
  {
   "cell_type": "code",
   "execution_count": 130,
   "metadata": {
    "ExecuteTime": {
     "end_time": "2021-04-29T17:45:24.964617Z",
     "start_time": "2021-04-29T17:45:24.955554Z"
    }
   },
   "outputs": [],
   "source": [
    "plot_df = pd.DataFrame.from_dict(plot_dict)\n",
    "plot_df.index=index"
   ]
  },
  {
   "cell_type": "code",
   "execution_count": 131,
   "metadata": {
    "ExecuteTime": {
     "end_time": "2021-04-29T17:45:25.267180Z",
     "start_time": "2021-04-29T17:45:25.256901Z"
    }
   },
   "outputs": [
    {
     "data": {
      "text/html": [
       "<div>\n",
       "<style scoped>\n",
       "    .dataframe tbody tr th:only-of-type {\n",
       "        vertical-align: middle;\n",
       "    }\n",
       "\n",
       "    .dataframe tbody tr th {\n",
       "        vertical-align: top;\n",
       "    }\n",
       "\n",
       "    .dataframe thead th {\n",
       "        text-align: right;\n",
       "    }\n",
       "</style>\n",
       "<table border=\"1\" class=\"dataframe\">\n",
       "  <thead>\n",
       "    <tr style=\"text-align: right;\">\n",
       "      <th></th>\n",
       "      <th>lemur</th>\n",
       "      <th>human</th>\n",
       "      <th>mouse</th>\n",
       "    </tr>\n",
       "  </thead>\n",
       "  <tbody>\n",
       "    <tr>\n",
       "      <td>4--6</td>\n",
       "      <td>9508</td>\n",
       "      <td>62316</td>\n",
       "      <td>16684</td>\n",
       "    </tr>\n",
       "    <tr>\n",
       "      <td>4-5a-6</td>\n",
       "      <td>2158</td>\n",
       "      <td>20984</td>\n",
       "      <td>2744</td>\n",
       "    </tr>\n",
       "    <tr>\n",
       "      <td>4-5b-6</td>\n",
       "      <td>1490</td>\n",
       "      <td>2980</td>\n",
       "      <td>6912</td>\n",
       "    </tr>\n",
       "    <tr>\n",
       "      <td>4-5c-6</td>\n",
       "      <td>35250</td>\n",
       "      <td>458736</td>\n",
       "      <td>33274</td>\n",
       "    </tr>\n",
       "    <tr>\n",
       "      <td>4-5a-5b-6</td>\n",
       "      <td>2</td>\n",
       "      <td>252</td>\n",
       "      <td>572</td>\n",
       "    </tr>\n",
       "    <tr>\n",
       "      <td>4-5a-5c-6</td>\n",
       "      <td>396</td>\n",
       "      <td>2392</td>\n",
       "      <td>334</td>\n",
       "    </tr>\n",
       "    <tr>\n",
       "      <td>4-5b-5c-6</td>\n",
       "      <td>1850</td>\n",
       "      <td>5032</td>\n",
       "      <td>9954</td>\n",
       "    </tr>\n",
       "    <tr>\n",
       "      <td>4-5a-5b-5c-6</td>\n",
       "      <td>74</td>\n",
       "      <td>600</td>\n",
       "      <td>1266</td>\n",
       "    </tr>\n",
       "  </tbody>\n",
       "</table>\n",
       "</div>"
      ],
      "text/plain": [
       "              lemur   human  mouse\n",
       "4--6           9508   62316  16684\n",
       "4-5a-6         2158   20984   2744\n",
       "4-5b-6         1490    2980   6912\n",
       "4-5c-6        35250  458736  33274\n",
       "4-5a-5b-6         2     252    572\n",
       "4-5a-5c-6       396    2392    334\n",
       "4-5b-5c-6      1850    5032   9954\n",
       "4-5a-5b-5c-6     74     600   1266"
      ]
     },
     "execution_count": 131,
     "metadata": {},
     "output_type": "execute_result"
    }
   ],
   "source": [
    "plot_df"
   ]
  },
  {
   "cell_type": "code",
   "execution_count": 132,
   "metadata": {
    "ExecuteTime": {
     "end_time": "2021-04-29T17:45:25.532323Z",
     "start_time": "2021-04-29T17:45:25.526035Z"
    }
   },
   "outputs": [],
   "source": [
    "norm_df = plot_df/plot_df.sum(axis=0)"
   ]
  },
  {
   "cell_type": "code",
   "execution_count": 133,
   "metadata": {
    "ExecuteTime": {
     "end_time": "2021-04-29T17:45:26.212129Z",
     "start_time": "2021-04-29T17:45:25.782486Z"
    }
   },
   "outputs": [
    {
     "data": {
      "image/png": "[encoded data removed]",
      "text/plain": [
       "<Figure size 432x288 with 1 Axes>"
      ]
     },
     "metadata": {
      "needs_background": "light"
     },
     "output_type": "display_data"
    }
   ],
   "source": [
    "rects = []\n",
    "fig, ax = plt.subplots()\n",
    "species = [\"human\",\"lemur\",\"mouse\"]\n",
    "width = 0.3\n",
    "ind = np.arange(plot_df.shape[0])\n",
    "for i in range(len(species)):\n",
    "  col_sum = plot_df[species[i]].sum()\n",
    "  \n",
    "  lower_err = []\n",
    "  upper_err = []\n",
    "  \n",
    "  for index, row in plot_df.iterrows():\n",
    "    lower, upper = proportion_confint(row[species[i]],col_sum,method=\"beta\")\n",
    "    lower_err.append(lower)\n",
    "    upper_err.append(upper)\n",
    "  y_vals = plot_df[species[i]]/col_sum\n",
    "  rect = ax.bar(ind - 1*width + width*i, y_vals, width, yerr = [[y - x for x, y in zip(lower_err,y_vals)],[x - y for x, y in zip(upper_err,y_vals)]],\n",
    "               label = species[i])\n",
    "\n",
    "  rects.append(rect)\n",
    "plt.ylim([0,1])\n",
    "ax.set_xticks(ind)\n",
    "ax.set_xticklabels(plot_df.index,rotation=90)\n",
    "plt.title(\"{} RPS24 Bowtie2 counts\\nRead numbers:\\nhuman: {:,} lemur: {:,} mouse: {:,}\\n\".format(comp,plot_df[\"human\"].sum(),plot_df[\"lemur\"].sum(),plot_df[\"mouse\"].sum()))\n",
    "plt.ylabel(\"isoform fraction\")\n",
    "plt.savefig(\"{}{}_RPS24_barplot.png\".format(outpath,comp),bbox_inches=\"tight\")\n",
    "# plt.legend(bbox_to_anchor=(1.5, 1.05))\n",
    "\n",
    "plt.show()"
   ]
  },
  {
   "cell_type": "code",
   "execution_count": 36,
   "metadata": {
    "ExecuteTime": {
     "end_time": "2021-04-29T17:31:12.331734Z",
     "start_time": "2021-04-29T17:31:12.319312Z"
    }
   },
   "outputs": [
    {
     "data": {
      "text/plain": [
       "0.01669616657865237"
      ]
     },
     "execution_count": 36,
     "metadata": {},
     "output_type": "execute_result"
    }
   ],
   "source": [
    "lower"
   ]
  },
  {
   "cell_type": "code",
   "execution_count": 34,
   "metadata": {
    "ExecuteTime": {
     "end_time": "2021-04-29T17:29:56.074494Z",
     "start_time": "2021-04-29T17:29:56.063405Z"
    }
   },
   "outputs": [
    {
     "data": {
      "text/plain": [
       "0.018637242905377716"
      ]
     },
     "execution_count": 34,
     "metadata": {},
     "output_type": "execute_result"
    }
   ],
   "source": [
    "upper"
   ]
  },
  {
   "cell_type": "code",
   "execution_count": 27,
   "metadata": {
    "ExecuteTime": {
     "end_time": "2021-04-29T17:25:20.448953Z",
     "start_time": "2021-04-29T17:25:20.437185Z"
    }
   },
   "outputs": [
    {
     "data": {
      "text/plain": [
       "range(0, 8)"
      ]
     },
     "execution_count": 27,
     "metadata": {},
     "output_type": "execute_result"
    }
   ],
   "source": [
    "ind# - 1.5*width + width*i"
   ]
  },
  {
   "cell_type": "code",
   "execution_count": 15,
   "metadata": {
    "ExecuteTime": {
     "end_time": "2021-02-10T07:38:23.071307Z",
     "start_time": "2021-02-10T07:38:23.053658Z"
    }
   },
   "outputs": [
    {
     "ename": "TypeError",
     "evalue": "bar() missing 1 required positional argument: 'height'",
     "output_type": "error",
     "traceback": [
      "\u001b[0;31m---------------------------------------------------------------------------\u001b[0m",
      "\u001b[0;31mTypeError\u001b[0m                                 Traceback (most recent call last)",
      "\u001b[0;32m<ipython-input-15-8e8b46f1cf90>\u001b[0m in \u001b[0;36m<module>\u001b[0;34m\u001b[0m\n\u001b[0;32m----> 1\u001b[0;31m \u001b[0mplt\u001b[0m\u001b[0;34m.\u001b[0m\u001b[0mbar\u001b[0m\u001b[0;34m(\u001b[0m\u001b[0mspecies_dict\u001b[0m\u001b[0;34m[\u001b[0m\u001b[0;34m\"mouse\"\u001b[0m\u001b[0;34m]\u001b[0m\u001b[0;34m[\u001b[0m\u001b[0mspecies_dict\u001b[0m\u001b[0;34m[\u001b[0m\u001b[0;34m\"mouse\"\u001b[0m\u001b[0;34m]\u001b[0m\u001b[0;34m[\u001b[0m\u001b[0;34m\"compartment\"\u001b[0m\u001b[0;34m]\u001b[0m \u001b[0;34m==\u001b[0m \u001b[0;34m\"Epithelial\"\u001b[0m\u001b[0;34m]\u001b[0m\u001b[0;34m.\u001b[0m\u001b[0mgroupby\u001b[0m\u001b[0;34m(\u001b[0m\u001b[0;34m\"transcript\"\u001b[0m\u001b[0;34m)\u001b[0m\u001b[0;34m[\u001b[0m\u001b[0;34m\"numReads\"\u001b[0m\u001b[0;34m]\u001b[0m\u001b[0;34m.\u001b[0m\u001b[0msum\u001b[0m\u001b[0;34m(\u001b[0m\u001b[0;34m)\u001b[0m\u001b[0;34m)\u001b[0m\u001b[0;34m\u001b[0m\u001b[0;34m\u001b[0m\u001b[0m\n\u001b[0m",
      "\u001b[0;31mTypeError\u001b[0m: bar() missing 1 required positional argument: 'height'"
     ]
    }
   ],
   "source": [
    "plt.bar(species_dict[\"mouse\"][species_dict[\"mouse\"][\"compartment\"] == \"Epithelial\"].groupby(\"transcript\")[\"numReads\"].sum())"
   ]
  },
  {
   "cell_type": "code",
   "execution_count": 17,
   "metadata": {
    "ExecuteTime": {
     "end_time": "2021-02-10T07:38:44.019405Z",
     "start_time": "2021-02-10T07:38:44.010877Z"
    }
   },
   "outputs": [
    {
     "data": {
      "text/plain": [
       "transcript\n",
       "4--6         9983\n",
       "4-5a-5c-6       6\n",
       "4-5a-6        138\n",
       "4-5b-5c-6       6\n",
       "4-5b-6          2\n",
       "4-5c-6         28\n",
       "Name: numReads, dtype: int64"
      ]
     },
     "execution_count": 17,
     "metadata": {},
     "output_type": "execute_result"
    }
   ],
   "source": [
    "species_dict[\"mouse\"][species_dict[\"mouse\"][\"compartment\"] == \"Epithelial\"].groupby(\"transcript\")[\"numReads\"].sum()"
   ]
  },
  {
   "cell_type": "code",
   "execution_count": 15,
   "metadata": {
    "ExecuteTime": {
     "end_time": "2021-02-01T20:27:02.978867Z",
     "start_time": "2021-02-01T20:27:02.969977Z"
    }
   },
   "outputs": [],
   "source": [
    "channel_df = pd.concat(dfs,axis=0)"
   ]
  },
  {
   "cell_type": "code",
   "execution_count": 19,
   "metadata": {
    "ExecuteTime": {
     "end_time": "2021-02-01T20:28:21.392736Z",
     "start_time": "2021-02-01T20:28:21.321335Z"
    }
   },
   "outputs": [],
   "source": [
    "channel_df[\"UMI_transcript_barcode\"] = channel_df[\"UMI\"] + \"_\" + channel_df[\"transcript\"] + \"_\" + channel_df[\"barcode\"]"
   ]
  },
  {
   "cell_type": "code",
   "execution_count": 20,
   "metadata": {
    "ExecuteTime": {
     "end_time": "2021-02-01T20:28:59.267209Z",
     "start_time": "2021-02-01T20:28:59.231782Z"
    }
   },
   "outputs": [
    {
     "name": "stdout",
     "output_type": "stream",
     "text": [
      "(41606, 5)\n",
      "(32712, 5)\n"
     ]
    }
   ],
   "source": [
    "# drop duplicates by cell + transcript + UMI\n",
    "print(channel_df.shape)\n",
    "channel_df = channel_df.drop_duplicates(\"UMI_transcript_barcode\")\n",
    "print(channel_df.shape)"
   ]
  },
  {
   "cell_type": "code",
   "execution_count": 23,
   "metadata": {
    "ExecuteTime": {
     "end_time": "2021-02-01T20:32:09.999575Z",
     "start_time": "2021-02-01T20:32:09.880433Z"
    }
   },
   "outputs": [
    {
     "name": "stderr",
     "output_type": "stream",
     "text": [
      "/home/users/jolivier/.local/lib/python3.6/site-packages/ipykernel_launcher.py:2: SettingWithCopyWarning: \n",
      "A value is trying to be set on a copy of a slice from a DataFrame.\n",
      "Try using .loc[row_indexer,col_indexer] = value instead\n",
      "\n",
      "See the caveats in the documentation: http://pandas.pydata.org/pandas-docs/stable/user_guide/indexing.html#returning-a-view-versus-a-copy\n",
      "  \n",
      "/home/users/jolivier/.local/lib/python3.6/site-packages/ipykernel_launcher.py:3: SettingWithCopyWarning: \n",
      "A value is trying to be set on a copy of a slice from a DataFrame.\n",
      "Try using .loc[row_indexer,col_indexer] = value instead\n",
      "\n",
      "See the caveats in the documentation: http://pandas.pydata.org/pandas-docs/stable/user_guide/indexing.html#returning-a-view-versus-a-copy\n",
      "  This is separate from the ipykernel package so we can avoid doing imports until\n"
     ]
    }
   ],
   "source": [
    "# get counts for each cell\n",
    "channel_df[\"barcode_transcript\"] = channel_df[\"barcode\"] + \"_\" + channel_df[\"transcript\"] \n",
    "channel_df[\"numReads\"] = channel_df[\"barcode_transcript\"].map(channel_df.groupby(\"barcode_transcript\")[\"read\"].nunique())\n",
    "channel_df = channel_df.drop_duplicates(\"barcode_transcript\")[[\"transcript\",\"barcode\",\"numReads\",\"barcode_transcript\"]]"
   ]
  },
  {
   "cell_type": "code",
   "execution_count": 32,
   "metadata": {
    "ExecuteTime": {
     "end_time": "2021-02-01T20:35:59.572947Z",
     "start_time": "2021-02-01T20:35:59.546160Z"
    }
   },
   "outputs": [
    {
     "data": {
      "text/html": [
       "<div>\n",
       "<style scoped>\n",
       "    .dataframe tbody tr th:only-of-type {\n",
       "        vertical-align: middle;\n",
       "    }\n",
       "\n",
       "    .dataframe tbody tr th {\n",
       "        vertical-align: top;\n",
       "    }\n",
       "\n",
       "    .dataframe thead th {\n",
       "        text-align: right;\n",
       "    }\n",
       "</style>\n",
       "<table border=\"1\" class=\"dataframe\">\n",
       "  <thead>\n",
       "    <tr style=\"text-align: right;\">\n",
       "      <th></th>\n",
       "      <th>transcript</th>\n",
       "      <th>barcode</th>\n",
       "      <th>numReads</th>\n",
       "      <th>barcode_transcript</th>\n",
       "      <th>cell</th>\n",
       "    </tr>\n",
       "  </thead>\n",
       "  <tbody>\n",
       "    <tr>\n",
       "      <td>0</td>\n",
       "      <td>4--6</td>\n",
       "      <td>TGATCCTCCAAGTACA</td>\n",
       "      <td>1</td>\n",
       "      <td>TGATCCTCCAAGTACA_4--6</td>\n",
       "      <td>MLCA_ANTOINE_LUNG_CD31_POS_S11_L00_TGATCCTCCAA...</td>\n",
       "    </tr>\n",
       "    <tr>\n",
       "      <td>1</td>\n",
       "      <td>4--6</td>\n",
       "      <td>AGTTGGTCACCTCGGA</td>\n",
       "      <td>3</td>\n",
       "      <td>AGTTGGTCACCTCGGA_4--6</td>\n",
       "      <td>MLCA_ANTOINE_LUNG_CD31_POS_S11_L00_AGTTGGTCACC...</td>\n",
       "    </tr>\n",
       "    <tr>\n",
       "      <td>2</td>\n",
       "      <td>4--6</td>\n",
       "      <td>CTACGTCTCGGTGTCG</td>\n",
       "      <td>4</td>\n",
       "      <td>CTACGTCTCGGTGTCG_4--6</td>\n",
       "      <td>MLCA_ANTOINE_LUNG_CD31_POS_S11_L00_CTACGTCTCGG...</td>\n",
       "    </tr>\n",
       "    <tr>\n",
       "      <td>3</td>\n",
       "      <td>4--6</td>\n",
       "      <td>CCCAATCAGGGTTCCC</td>\n",
       "      <td>4</td>\n",
       "      <td>CCCAATCAGGGTTCCC_4--6</td>\n",
       "      <td>MLCA_ANTOINE_LUNG_CD31_POS_S11_L00_CCCAATCAGGG...</td>\n",
       "    </tr>\n",
       "    <tr>\n",
       "      <td>4</td>\n",
       "      <td>4--6</td>\n",
       "      <td>GCATGTAAGGCGACAT</td>\n",
       "      <td>5</td>\n",
       "      <td>GCATGTAAGGCGACAT_4--6</td>\n",
       "      <td>MLCA_ANTOINE_LUNG_CD31_POS_S11_L00_GCATGTAAGGC...</td>\n",
       "    </tr>\n",
       "    <tr>\n",
       "      <td>...</td>\n",
       "      <td>...</td>\n",
       "      <td>...</td>\n",
       "      <td>...</td>\n",
       "      <td>...</td>\n",
       "      <td>...</td>\n",
       "    </tr>\n",
       "    <tr>\n",
       "      <td>20296</td>\n",
       "      <td>4--6</td>\n",
       "      <td>TGTGTTTGTAGCTCCG</td>\n",
       "      <td>1</td>\n",
       "      <td>TGTGTTTGTAGCTCCG_4--6</td>\n",
       "      <td>MLCA_ANTOINE_LUNG_CD31_POS_S11_L00_TGTGTTTGTAG...</td>\n",
       "    </tr>\n",
       "    <tr>\n",
       "      <td>20297</td>\n",
       "      <td>4--6</td>\n",
       "      <td>CTTACCGTCTGCAAGT</td>\n",
       "      <td>1</td>\n",
       "      <td>CTTACCGTCTGCAAGT_4--6</td>\n",
       "      <td>MLCA_ANTOINE_LUNG_CD31_POS_S11_L00_CTTACCGTCTG...</td>\n",
       "    </tr>\n",
       "    <tr>\n",
       "      <td>20314</td>\n",
       "      <td>4--6</td>\n",
       "      <td>CTGATCCGTAGCGCAA</td>\n",
       "      <td>1</td>\n",
       "      <td>CTGATCCGTAGCGCAA_4--6</td>\n",
       "      <td>MLCA_ANTOINE_LUNG_CD31_POS_S11_L00_CTGATCCGTAG...</td>\n",
       "    </tr>\n",
       "    <tr>\n",
       "      <td>20331</td>\n",
       "      <td>4-5c-6</td>\n",
       "      <td>AATCCAGTCTCTAGGA</td>\n",
       "      <td>1</td>\n",
       "      <td>AATCCAGTCTCTAGGA_4-5c-6</td>\n",
       "      <td>MLCA_ANTOINE_LUNG_CD31_POS_S11_L00_AATCCAGTCTC...</td>\n",
       "    </tr>\n",
       "    <tr>\n",
       "      <td>20333</td>\n",
       "      <td>4--6</td>\n",
       "      <td>GGGTTGCCATTCGACA</td>\n",
       "      <td>1</td>\n",
       "      <td>GGGTTGCCATTCGACA_4--6</td>\n",
       "      <td>MLCA_ANTOINE_LUNG_CD31_POS_S11_L00_GGGTTGCCATT...</td>\n",
       "    </tr>\n",
       "  </tbody>\n",
       "</table>\n",
       "<p>15571 rows × 5 columns</p>\n",
       "</div>"
      ],
      "text/plain": [
       "      transcript           barcode  numReads       barcode_transcript  \\\n",
       "0           4--6  TGATCCTCCAAGTACA         1    TGATCCTCCAAGTACA_4--6   \n",
       "1           4--6  AGTTGGTCACCTCGGA         3    AGTTGGTCACCTCGGA_4--6   \n",
       "2           4--6  CTACGTCTCGGTGTCG         4    CTACGTCTCGGTGTCG_4--6   \n",
       "3           4--6  CCCAATCAGGGTTCCC         4    CCCAATCAGGGTTCCC_4--6   \n",
       "4           4--6  GCATGTAAGGCGACAT         5    GCATGTAAGGCGACAT_4--6   \n",
       "...          ...               ...       ...                      ...   \n",
       "20296       4--6  TGTGTTTGTAGCTCCG         1    TGTGTTTGTAGCTCCG_4--6   \n",
       "20297       4--6  CTTACCGTCTGCAAGT         1    CTTACCGTCTGCAAGT_4--6   \n",
       "20314       4--6  CTGATCCGTAGCGCAA         1    CTGATCCGTAGCGCAA_4--6   \n",
       "20331     4-5c-6  AATCCAGTCTCTAGGA         1  AATCCAGTCTCTAGGA_4-5c-6   \n",
       "20333       4--6  GGGTTGCCATTCGACA         1    GGGTTGCCATTCGACA_4--6   \n",
       "\n",
       "                                                    cell  \n",
       "0      MLCA_ANTOINE_LUNG_CD31_POS_S11_L00_TGATCCTCCAA...  \n",
       "1      MLCA_ANTOINE_LUNG_CD31_POS_S11_L00_AGTTGGTCACC...  \n",
       "2      MLCA_ANTOINE_LUNG_CD31_POS_S11_L00_CTACGTCTCGG...  \n",
       "3      MLCA_ANTOINE_LUNG_CD31_POS_S11_L00_CCCAATCAGGG...  \n",
       "4      MLCA_ANTOINE_LUNG_CD31_POS_S11_L00_GCATGTAAGGC...  \n",
       "...                                                  ...  \n",
       "20296  MLCA_ANTOINE_LUNG_CD31_POS_S11_L00_TGTGTTTGTAG...  \n",
       "20297  MLCA_ANTOINE_LUNG_CD31_POS_S11_L00_CTTACCGTCTG...  \n",
       "20314  MLCA_ANTOINE_LUNG_CD31_POS_S11_L00_CTGATCCGTAG...  \n",
       "20331  MLCA_ANTOINE_LUNG_CD31_POS_S11_L00_AATCCAGTCTC...  \n",
       "20333  MLCA_ANTOINE_LUNG_CD31_POS_S11_L00_GGGTTGCCATT...  \n",
       "\n",
       "[15571 rows x 5 columns]"
      ]
     },
     "execution_count": 32,
     "metadata": {},
     "output_type": "execute_result"
    }
   ],
   "source": [
    "channel_df"
   ]
  },
  {
   "cell_type": "code",
   "execution_count": 26,
   "metadata": {
    "ExecuteTime": {
     "end_time": "2021-02-01T20:34:18.848541Z",
     "start_time": "2021-02-01T20:34:18.839468Z"
    }
   },
   "outputs": [],
   "source": [
    "channel_df[\"cell\"] = dataname + \"_\" + channel_df[\"barcode\"]"
   ]
  },
  {
   "cell_type": "code",
   "execution_count": 30,
   "metadata": {
    "ExecuteTime": {
     "end_time": "2021-02-01T20:35:20.121843Z",
     "start_time": "2021-02-01T20:35:20.115360Z"
    }
   },
   "outputs": [
    {
     "data": {
      "text/plain": [
       "'MLCA_ANTOINE_LUNG_CD31_POS_S11_L00_AGTTGGTCACCTCGGA'"
      ]
     },
     "execution_count": 30,
     "metadata": {},
     "output_type": "execute_result"
    }
   ],
   "source": [
    "channel_df[\"cell\"].iloc[1]"
   ]
  },
  {
   "cell_type": "code",
   "execution_count": 17,
   "metadata": {
    "ExecuteTime": {
     "end_time": "2021-02-01T20:27:07.930833Z",
     "start_time": "2021-02-01T20:27:07.914116Z"
    }
   },
   "outputs": [
    {
     "data": {
      "text/plain": [
       "4--6            35439\n",
       "4-5c-6           5873\n",
       "4-5a-6            210\n",
       "4-5a-5c-6          35\n",
       "4-5b-5c-6          25\n",
       "4-5b-6             22\n",
       "4-5a-5b-5c-6        2\n",
       "Name: transcript, dtype: int64"
      ]
     },
     "execution_count": 17,
     "metadata": {},
     "output_type": "execute_result"
    }
   ],
   "source": [
    "channel_df[\"transcript\"].value_counts()"
   ]
  },
  {
   "cell_type": "code",
   "execution_count": 31,
   "metadata": {
    "ExecuteTime": {
     "end_time": "2021-01-29T08:07:16.213130Z",
     "start_time": "2021-01-29T08:07:16.076166Z"
    }
   },
   "outputs": [],
   "source": [
    "df = pd.read_csv(insam,sep=\"\\t\",skiprows=10,header=None,usecols=[0,2],names=[\"read\",\"transcript\"])"
   ]
  },
  {
   "cell_type": "code",
   "execution_count": 32,
   "metadata": {
    "ExecuteTime": {
     "end_time": "2021-01-29T08:07:16.839191Z",
     "start_time": "2021-01-29T08:07:16.673953Z"
    }
   },
   "outputs": [],
   "source": [
    "df[\"barcode\"] = df[\"read\"].str.split(\"_\").str[1]\n",
    "df[\"UMI\"] = df[\"read\"].str.split(\"_\").str[2]"
   ]
  },
  {
   "cell_type": "code",
   "execution_count": 33,
   "metadata": {
    "ExecuteTime": {
     "end_time": "2021-01-29T08:07:17.509443Z",
     "start_time": "2021-01-29T08:07:17.495875Z"
    }
   },
   "outputs": [
    {
     "data": {
      "text/plain": [
       "4--6            12232\n",
       "4-5c-6            829\n",
       "4-5b-5c-6         355\n",
       "4-5b-6            215\n",
       "4-5a-6             61\n",
       "4-5a-5c-6          33\n",
       "4-5a-5b-5c-6       22\n",
       "4-5a-5b-6           5\n",
       "Name: transcript, dtype: int64"
      ]
     },
     "execution_count": 33,
     "metadata": {},
     "output_type": "execute_result"
    }
   ],
   "source": [
    "df[\"transcript\"].value_counts()"
   ]
  },
  {
   "cell_type": "code",
   "execution_count": 3,
   "metadata": {
    "ExecuteTime": {
     "end_time": "2021-01-30T01:02:58.914556Z",
     "start_time": "2021-01-30T01:02:58.384575Z"
    }
   },
   "outputs": [
    {
     "name": "stderr",
     "output_type": "stream",
     "text": [
      "/home/users/jolivier/.local/lib/python3.6/site-packages/IPython/core/interactiveshell.py:3044: DtypeWarning: Columns (10) have mixed types. Specify dtype option on import or set low_memory=False.\n",
      "  interactivity=interactivity, compiler=compiler, result=result)\n"
     ]
    }
   ],
   "source": [
    "df = pd.read_csv(\"/oak/stanford/groups/horence/Roozbeh/single_cell_project/utility_files/meta_data/Tabula_muris_senis/Tabula_muris_droplet_new.csv\")"
   ]
  },
  {
   "cell_type": "code",
   "execution_count": 28,
   "metadata": {
    "ExecuteTime": {
     "end_time": "2021-01-30T01:10:42.381836Z",
     "start_time": "2021-01-30T01:10:42.321373Z"
    }
   },
   "outputs": [],
   "source": [
    "meta = df[[\"cell_ontology_class\",\"tissue\",\"free_annotation\"]].drop_duplicates()\n",
    "meta.to_csv(\"tabula_muris_senis_meta.tsv\",sep=\"\\t\",index=False)"
   ]
  },
  {
   "cell_type": "code",
   "execution_count": 35,
   "metadata": {
    "ExecuteTime": {
     "end_time": "2021-01-30T01:11:49.302448Z",
     "start_time": "2021-01-30T01:11:49.294004Z"
    }
   },
   "outputs": [],
   "source": [
    "meta = meta[~meta[\"cell_ontology_class\"].isna()]\n",
    "meta = meta[~meta[\"free_annotation\"].isna()]"
   ]
  },
  {
   "cell_type": "code",
   "execution_count": 86,
   "metadata": {
    "ExecuteTime": {
     "end_time": "2021-01-30T01:21:38.243932Z",
     "start_time": "2021-01-30T01:21:38.116121Z"
    }
   },
   "outputs": [],
   "source": [
    "meta.loc[meta[\"cell_ontology_class\"].str.contains(\"epi\"),\"compartment\"] = \"Epithelial\"\n",
    "meta.loc[meta[\"free_annotation\"].str.contains(\"epi\"),\"compartment\"] = \"Epithelial\"\n",
    "\n",
    "meta.loc[meta[\"cell_ontology_class\"].str.contains(\"epi\"),\"compartment\"] = \"Epithelial\"\n",
    "meta.loc[meta[\"free_annotation\"].str.contains(\"epi\"),\"compartment\"] = \"Epithelial\"\n",
    "\n",
    "meta.loc[meta[\"cell_ontology_class\"].str.contains(\"oblet\"),\"compartment\"] = \"Epithelial\"\n",
    "meta.loc[meta[\"free_annotation\"].str.contains(\"oblet\"),\"compartment\"] = \"Epithelial\"\n",
    "\n",
    "meta.loc[meta[\"cell_ontology_class\"].str.contains(\"endo\"),\"compartment\"] = \"Endothelial\"\n",
    "meta.loc[meta[\"free_annotation\"].str.contains(\"endo\"),\"compartment\"] = \"Endothelial\"\n",
    "\n",
    "meta.loc[meta[\"cell_ontology_class\"].str.contains(\"mesen\"),\"compartment\"] = \"Stromal\"\n",
    "meta.loc[meta[\"free_annotation\"].str.contains(\"mesen\"),\"compartment\"] = \"Stromal\"\n",
    "\n",
    "meta.loc[meta[\"cell_ontology_class\"].str.contains(\"phage\"),\"compartment\"] = \"Immune\"\n",
    "meta.loc[meta[\"free_annotation\"].str.contains(\"phage\"),\"compartment\"] = \"Immune\"\n",
    "\n",
    "meta.loc[meta[\"cell_ontology_class\"].str.contains(\"muscle\"),\"compartment\"] = \"Stromal\"\n",
    "meta.loc[meta[\"free_annotation\"].str.contains(\"muscle\"),\"compartment\"] = \"Stromal\"\n",
    "\n",
    "meta.loc[meta[\"cell_ontology_class\"].str.contains(\"trom\"),\"compartment\"] = \"Stromal\"\n",
    "meta.loc[meta[\"free_annotation\"].str.contains(\"trom\"),\"compartment\"] = \"Stromal\"\n",
    "\n",
    "meta.loc[meta[\"cell_ontology_class\"].str.contains(\"cyte\"),\"compartment\"] = \"Immune\"\n",
    "meta.loc[meta[\"free_annotation\"].str.contains(\"cyte\"),\"compartment\"] = \"Immune\"\n",
    "\n",
    "meta.loc[meta[\"cell_ontology_class\"].str.contains(\"T cell\"),\"compartment\"] = \"Immune\"\n",
    "meta.loc[meta[\"free_annotation\"].str.contains(\"T cell\"),\"compartment\"] = \"Immune\"\n",
    "\n",
    "meta.loc[meta[\"cell_ontology_class\"].str.contains(\"B cell\"),\"compartment\"] = \"Immune\"\n",
    "meta.loc[meta[\"free_annotation\"].str.contains(\"B cell\"),\"compartment\"] = \"Immune\"\n",
    "\n",
    "meta.loc[meta[\"cell_ontology_class\"].str.contains(\"NK\"),\"compartment\"] = \"Immune\"\n",
    "meta.loc[meta[\"free_annotation\"].str.contains(\"NK\"),\"compartment\"] = \"Immune\"\n",
    "\n",
    "meta.loc[meta[\"cell_ontology_class\"].str.contains(\"killer\"),\"compartment\"] = \"Immune\"\n",
    "meta.loc[meta[\"free_annotation\"].str.contains(\"killer\"),\"compartment\"] = \"Immune\"\n",
    "\n",
    "meta.loc[meta[\"cell_ontology_class\"].str.contains(\"mast\"),\"compartment\"] = \"Immune\"\n",
    "meta.loc[meta[\"free_annotation\"].str.contains(\"mast\"),\"compartment\"] = \"Immune\"\n",
    "\n",
    "meta.loc[meta[\"cell_ontology_class\"].str.contains(\"lasma\"),\"compartment\"] = \"Immune\"\n",
    "meta.loc[meta[\"free_annotation\"].str.contains(\"lasma\"),\"compartment\"] = \"Immune\"\n",
    "\n",
    "meta.loc[meta[\"cell_ontology_class\"].str.contains(\"poietic\"),\"compartment\"] = \"Immune\"\n",
    "meta.loc[meta[\"free_annotation\"].str.contains(\"poietic\"),\"compartment\"] = \"Immune\"\n",
    "\n",
    "meta.loc[meta[\"cell_ontology_class\"].str.contains(\"myeloid\"),\"compartment\"] = \"Immune\"\n",
    "meta.loc[meta[\"free_annotation\"].str.contains(\"myeloid\"),\"compartment\"] = \"Immune\"\n",
    "\n",
    "meta.loc[meta[\"cell_ontology_class\"].str.contains(\"panc\"),\"compartment\"] = \"Epithelial\"\n",
    "meta.loc[meta[\"free_annotation\"].str.contains(\"panc\"),\"compartment\"] = \"Epithelial\""
   ]
  },
  {
   "cell_type": "code",
   "execution_count": 89,
   "metadata": {
    "ExecuteTime": {
     "end_time": "2021-01-30T01:22:08.722249Z",
     "start_time": "2021-01-30T01:22:08.585310Z"
    }
   },
   "outputs": [],
   "source": [
    "meta.to_csv(\"tabula_muris_senis_meta.tsv\",sep=\"\\t\",index=False)"
   ]
  },
  {
   "cell_type": "code",
   "execution_count": 87,
   "metadata": {
    "ExecuteTime": {
     "end_time": "2021-01-30T01:21:38.583575Z",
     "start_time": "2021-01-30T01:21:38.565111Z"
    }
   },
   "outputs": [
    {
     "data": {
      "text/html": [
       "<div>\n",
       "<style scoped>\n",
       "    .dataframe tbody tr th:only-of-type {\n",
       "        vertical-align: middle;\n",
       "    }\n",
       "\n",
       "    .dataframe tbody tr th {\n",
       "        vertical-align: top;\n",
       "    }\n",
       "\n",
       "    .dataframe thead th {\n",
       "        text-align: right;\n",
       "    }\n",
       "</style>\n",
       "<table border=\"1\" class=\"dataframe\">\n",
       "  <thead>\n",
       "    <tr style=\"text-align: right;\">\n",
       "      <th></th>\n",
       "      <th>cell_ontology_class</th>\n",
       "      <th>tissue</th>\n",
       "      <th>free_annotation</th>\n",
       "      <th>compartment</th>\n",
       "    </tr>\n",
       "  </thead>\n",
       "  <tbody>\n",
       "    <tr>\n",
       "      <td>4030</td>\n",
       "      <td>cardiac neuron</td>\n",
       "      <td>Heart_and_Aorta</td>\n",
       "      <td>cardiac neuron</td>\n",
       "      <td>NaN</td>\n",
       "    </tr>\n",
       "    <tr>\n",
       "      <td>4031</td>\n",
       "      <td>fibroblast of cardiac tissue</td>\n",
       "      <td>Heart_and_Aorta</td>\n",
       "      <td>fibroblast</td>\n",
       "      <td>NaN</td>\n",
       "    </tr>\n",
       "    <tr>\n",
       "      <td>9177</td>\n",
       "      <td>kidney collecting duct principal cell</td>\n",
       "      <td>Kidney</td>\n",
       "      <td>Epcam    kidney collecting duct principal cell</td>\n",
       "      <td>NaN</td>\n",
       "    </tr>\n",
       "    <tr>\n",
       "      <td>9243</td>\n",
       "      <td>kidney cortex artery cell</td>\n",
       "      <td>Kidney</td>\n",
       "      <td>Pecam    Kidney cortex artery cell</td>\n",
       "      <td>NaN</td>\n",
       "    </tr>\n",
       "    <tr>\n",
       "      <td>9508</td>\n",
       "      <td>brush cell</td>\n",
       "      <td>Kidney</td>\n",
       "      <td>Epcam    brush cell</td>\n",
       "      <td>NaN</td>\n",
       "    </tr>\n",
       "    <tr>\n",
       "      <td>18659</td>\n",
       "      <td>intestinal crypt stem cell</td>\n",
       "      <td>Large_Intestine</td>\n",
       "      <td>Lgr5+ undifferentiated cell</td>\n",
       "      <td>NaN</td>\n",
       "    </tr>\n",
       "    <tr>\n",
       "      <td>19273</td>\n",
       "      <td>intestinal crypt stem cell</td>\n",
       "      <td>Large_Intestine</td>\n",
       "      <td>Lgr5+ amplifying undifferentiated cell</td>\n",
       "      <td>NaN</td>\n",
       "    </tr>\n",
       "    <tr>\n",
       "      <td>20563</td>\n",
       "      <td>Schwann cell</td>\n",
       "      <td>Limb_Muscle</td>\n",
       "      <td>unknown</td>\n",
       "      <td>NaN</td>\n",
       "    </tr>\n",
       "    <tr>\n",
       "      <td>31302</td>\n",
       "      <td>Kupffer cell</td>\n",
       "      <td>Liver</td>\n",
       "      <td>Kupffer cell</td>\n",
       "      <td>NaN</td>\n",
       "    </tr>\n",
       "    <tr>\n",
       "      <td>33255</td>\n",
       "      <td>hepatic stellate cell</td>\n",
       "      <td>Liver</td>\n",
       "      <td>hepatic stellate cell</td>\n",
       "      <td>NaN</td>\n",
       "    </tr>\n",
       "    <tr>\n",
       "      <td>46080</td>\n",
       "      <td>basal cell</td>\n",
       "      <td>Mammary_Gland</td>\n",
       "      <td>basal cell</td>\n",
       "      <td>NaN</td>\n",
       "    </tr>\n",
       "    <tr>\n",
       "      <td>88899</td>\n",
       "      <td>Langerhans cell</td>\n",
       "      <td>Tongue</td>\n",
       "      <td>Langerhans cell</td>\n",
       "      <td>NaN</td>\n",
       "    </tr>\n",
       "  </tbody>\n",
       "</table>\n",
       "</div>"
      ],
      "text/plain": [
       "                         cell_ontology_class           tissue  \\\n",
       "4030                          cardiac neuron  Heart_and_Aorta   \n",
       "4031            fibroblast of cardiac tissue  Heart_and_Aorta   \n",
       "9177   kidney collecting duct principal cell           Kidney   \n",
       "9243               kidney cortex artery cell           Kidney   \n",
       "9508                              brush cell           Kidney   \n",
       "18659             intestinal crypt stem cell  Large_Intestine   \n",
       "19273             intestinal crypt stem cell  Large_Intestine   \n",
       "20563                           Schwann cell      Limb_Muscle   \n",
       "31302                           Kupffer cell            Liver   \n",
       "33255                  hepatic stellate cell            Liver   \n",
       "46080                             basal cell    Mammary_Gland   \n",
       "88899                        Langerhans cell           Tongue   \n",
       "\n",
       "                                      free_annotation compartment  \n",
       "4030                                   cardiac neuron         NaN  \n",
       "4031                                       fibroblast         NaN  \n",
       "9177   Epcam    kidney collecting duct principal cell         NaN  \n",
       "9243               Pecam    Kidney cortex artery cell         NaN  \n",
       "9508                              Epcam    brush cell         NaN  \n",
       "18659                     Lgr5+ undifferentiated cell         NaN  \n",
       "19273          Lgr5+ amplifying undifferentiated cell         NaN  \n",
       "20563                                         unknown         NaN  \n",
       "31302                                    Kupffer cell         NaN  \n",
       "33255                           hepatic stellate cell         NaN  \n",
       "46080                                      basal cell         NaN  \n",
       "88899                                 Langerhans cell         NaN  "
      ]
     },
     "execution_count": 87,
     "metadata": {},
     "output_type": "execute_result"
    }
   ],
   "source": [
    "meta[meta[\"compartment\"].isna()]"
   ]
  },
  {
   "cell_type": "code",
   "execution_count": 88,
   "metadata": {
    "ExecuteTime": {
     "end_time": "2021-01-30T01:21:39.830470Z",
     "start_time": "2021-01-30T01:21:39.817963Z"
    }
   },
   "outputs": [
    {
     "data": {
      "text/plain": [
       "Immune         50\n",
       "Epithelial     22\n",
       "NaN            12\n",
       "Stromal        11\n",
       "Endothelial    10\n",
       "Name: compartment, dtype: int64"
      ]
     },
     "execution_count": 88,
     "metadata": {},
     "output_type": "execute_result"
    }
   ],
   "source": [
    "meta[\"compartment\"].value_counts(dropna=False)"
   ]
  },
  {
   "cell_type": "code",
   "execution_count": null,
   "metadata": {},
   "outputs": [],
   "source": []
  }
 ],
 "metadata": {
  "kernelspec": {
   "display_name": "Python (conda_env)",
   "language": "python",
   "name": "conda_env"
  },
  "language_info": {
   "codemirror_mode": {
    "name": "ipython",
    "version": 3
   },
   "file_extension": ".py",
   "mimetype": "text/x-python",
   "name": "python",
   "nbconvert_exporter": "python",
   "pygments_lexer": "ipython3",
   "version": "3.6.7"
  },
  "varInspector": {
   "cols": {
    "lenName": 16,
    "lenType": 16,
    "lenVar": 40
   },
   "kernels_config": {
    "python": {
     "delete_cmd_postfix": "",
     "delete_cmd_prefix": "del ",
     "library": "var_list.py",
     "varRefreshCmd": "print(var_dic_list())"
    },
    "r": {
     "delete_cmd_postfix": ") ",
     "delete_cmd_prefix": "rm(",
     "library": "var_list.r",
     "varRefreshCmd": "cat(var_dic_list()) "
    }
   },
   "types_to_exclude": [
    "module",
    "function",
    "builtin_function_or_method",
    "instance",
    "_Feature"
   ],
   "window_display": false
  }
 },
 "nbformat": 4,
 "nbformat_minor": 4
}
