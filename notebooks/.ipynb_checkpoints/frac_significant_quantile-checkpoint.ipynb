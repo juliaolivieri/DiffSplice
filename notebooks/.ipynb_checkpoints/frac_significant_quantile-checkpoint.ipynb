{
 "cells": [
  {
   "cell_type": "code",
   "execution_count": 1,
   "metadata": {
    "ExecuteTime": {
     "end_time": "2021-04-29T21:59:38.707264Z",
     "start_time": "2021-04-29T21:59:34.821296Z"
    }
   },
   "outputs": [],
   "source": [
    "import matplotlib.pyplot as plt \n",
    "import pandas as pd\n",
    "from statsmodels.stats.multitest import multipletests\n",
    "plt.rcParams.update({'font.size': 14})\n",
    "from statsmodels.stats.proportion import proportion_confint"
   ]
  },
  {
   "cell_type": "code",
   "execution_count": null,
   "metadata": {
    "ExecuteTime": {
     "end_time": "2021-04-28T04:07:39.566845Z",
     "start_time": "2021-04-28T04:07:39.559489Z"
    }
   },
   "outputs": [],
   "source": []
  },
  {
   "cell_type": "code",
   "execution_count": 2,
   "metadata": {
    "ExecuteTime": {
     "end_time": "2021-04-28T05:25:59.576840Z",
     "start_time": "2021-04-28T05:25:59.573069Z"
    }
   },
   "outputs": [],
   "source": [
    "outpath = \"output/frac_significant_quantile/\""
   ]
  },
  {
   "cell_type": "code",
   "execution_count": null,
   "metadata": {
    "ExecuteTime": {
     "start_time": "2021-04-29T22:00:08.929Z"
    }
   },
   "outputs": [],
   "source": [
    "sub = \"dummy\"\n",
    "# dataname = \"TSP1_10x_with_postprocessing_nopanc_cellann\"\n",
    "dataname = \"TSP2_10x_rerun_with_postprocessing_3prime_cellann\"\n",
    "group = \"ontology\"\n",
    "zscore_path = \"../data/\"\n",
    "df = pd.read_parquet(\"{}{}_sym_SVD_normdonor_S_0.1_z_0.0_b_5.pq\".format(zscore_path,dataname),columns=[\"geneR1A_uniq\",\"tissue\",\"compartment\",\"cell\",\"numReads\",\"ontology\",\"cell_gene\"])\n",
    "df[\"dummy\"] = \"dummy\"\n",
    "# subset to ontologies with > 20 cells\n",
    "df[\"ontology_gene\"] = df[group] + df[\"geneR1A_uniq\"]\n",
    "df[\"num_ont_gene\"] = df[\"ontology_gene\"].map(df.groupby(\"ontology_gene\")[\"cell_gene\"].nunique())\n",
    "df = df[df[\"num_ont_gene\"] > 10]\n",
    "df[\"tiss_comp\"] = df[\"tissue\"] + df[\"compartment\"]\n",
    "df[\"gene_sub\"] = df[sub] + df[\"geneR1A_uniq\"]\n",
    "df[\"numReads_sub\"] = df.groupby(\"gene_sub\")[\"numReads\"].transform(\"sum\")\n",
    "df[\"numCells_sub\"] = df[\"gene_sub\"].map(df.groupby(\"gene_sub\")[\"cell\"].nunique())\n",
    "df = df.drop_duplicates(\"gene_sub\")"
   ]
  },
  {
   "cell_type": "code",
   "execution_count": 39,
   "metadata": {
    "ExecuteTime": {
     "end_time": "2021-04-28T05:56:54.238595Z",
     "start_time": "2021-04-28T05:56:54.227668Z"
    }
   },
   "outputs": [],
   "source": [
    "# pval_path = \"/scratch/PI/horence/JuliaO/single_cell/SZS_pipeline2/scripts/output/variance_adjusted_permutations/\"\n",
    "pval_df = pd.read_csv(\"{}{}_pvals_{}-{}_100_S_0.1_z_0.0_b_5_sig.tsv\".format(zscore_path,dataname,group,sub),sep=\"\\t\")"
   ]
  },
  {
   "cell_type": "code",
   "execution_count": 40,
   "metadata": {
    "ExecuteTime": {
     "end_time": "2021-04-28T05:56:54.311830Z",
     "start_time": "2021-04-28T05:56:54.308677Z"
    }
   },
   "outputs": [],
   "source": [
    "# sig = pval_df[(pval_df[\"perm_pval_adj_scZ\"] < 0.05) & (pval_df[\"max_abs_median_scZ\"] > ef)]\n",
    "sig = pval_df[pval_df[\"sig\"]]"
   ]
  },
  {
   "cell_type": "code",
   "execution_count": 41,
   "metadata": {
    "ExecuteTime": {
     "end_time": "2021-04-28T05:56:54.384437Z",
     "start_time": "2021-04-28T05:56:54.380313Z"
    }
   },
   "outputs": [
    {
     "name": "stderr",
     "output_type": "stream",
     "text": [
      "/home/users/jolivier/.local/lib/python3.6/site-packages/ipykernel_launcher.py:1: SettingWithCopyWarning: \n",
      "A value is trying to be set on a copy of a slice from a DataFrame.\n",
      "Try using .loc[row_indexer,col_indexer] = value instead\n",
      "\n",
      "See the caveats in the documentation: http://pandas.pydata.org/pandas-docs/stable/user_guide/indexing.html#returning-a-view-versus-a-copy\n",
      "  \"\"\"Entry point for launching an IPython kernel.\n"
     ]
    }
   ],
   "source": [
    "sig[\"sub_col\"] = sig[\"sub_col\"].fillna(\"dummy\")"
   ]
  },
  {
   "cell_type": "code",
   "execution_count": 42,
   "metadata": {
    "ExecuteTime": {
     "end_time": "2021-04-28T05:56:54.455445Z",
     "start_time": "2021-04-28T05:56:54.450984Z"
    }
   },
   "outputs": [
    {
     "name": "stderr",
     "output_type": "stream",
     "text": [
      "/home/users/jolivier/.local/lib/python3.6/site-packages/ipykernel_launcher.py:1: SettingWithCopyWarning: \n",
      "A value is trying to be set on a copy of a slice from a DataFrame.\n",
      "Try using .loc[row_indexer,col_indexer] = value instead\n",
      "\n",
      "See the caveats in the documentation: http://pandas.pydata.org/pandas-docs/stable/user_guide/indexing.html#returning-a-view-versus-a-copy\n",
      "  \"\"\"Entry point for launching an IPython kernel.\n"
     ]
    }
   ],
   "source": [
    "sig[\"gene_sub\"] = sig[\"sub_col\"] + sig[\"geneR1A_uniq\"]"
   ]
  },
  {
   "cell_type": "code",
   "execution_count": 43,
   "metadata": {
    "ExecuteTime": {
     "end_time": "2021-04-28T05:56:54.528723Z",
     "start_time": "2021-04-28T05:56:54.522122Z"
    }
   },
   "outputs": [],
   "source": [
    "df[\"sig\"] = False\n",
    "df.loc[df[\"gene_sub\"].isin(sig[\"gene_sub\"].unique()),\"sig\"] = True"
   ]
  },
  {
   "cell_type": "code",
   "execution_count": 44,
   "metadata": {
    "ExecuteTime": {
     "end_time": "2021-04-28T05:56:54.602800Z",
     "start_time": "2021-04-28T05:56:54.594851Z"
    }
   },
   "outputs": [],
   "source": [
    "num = 10\n",
    "cats, bins = pd.qcut(df['numReads_sub'], num,retbins=True)"
   ]
  },
  {
   "cell_type": "code",
   "execution_count": 45,
   "metadata": {
    "ExecuteTime": {
     "end_time": "2021-04-28T05:56:54.672779Z",
     "start_time": "2021-04-28T05:56:54.667512Z"
    }
   },
   "outputs": [],
   "source": [
    "df['quantile'] = pd.qcut(df['numReads_sub'], num, labels=False)"
   ]
  },
  {
   "cell_type": "code",
   "execution_count": 46,
   "metadata": {
    "ExecuteTime": {
     "end_time": "2021-04-28T05:56:54.749666Z",
     "start_time": "2021-04-28T05:56:54.738622Z"
    }
   },
   "outputs": [
    {
     "data": {
      "text/plain": [
       "[Interval(11.999, 101.0, closed='right'),\n",
       " Interval(101.0, 232.0, closed='right'),\n",
       " Interval(232.0, 493.2, closed='right'),\n",
       " Interval(493.2, 948.6, closed='right'),\n",
       " Interval(948.6, 1893.0, closed='right'),\n",
       " Interval(1893.0, 4284.2, closed='right'),\n",
       " Interval(4284.2, 9951.4, closed='right'),\n",
       " Interval(9951.4, 29785.6, closed='right'),\n",
       " Interval(29785.6, 113099.0, closed='right'),\n",
       " Interval(113099.0, 6863356.0, closed='right')]"
      ]
     },
     "execution_count": 46,
     "metadata": {},
     "output_type": "execute_result"
    }
   ],
   "source": [
    "sorted(list(pd.qcut(df['numReads_sub'], num).unique()))"
   ]
  },
  {
   "cell_type": "code",
   "execution_count": null,
   "metadata": {
    "ExecuteTime": {
     "end_time": "2021-04-26T20:27:02.517948Z",
     "start_time": "2021-04-26T20:27:02.506330Z"
    }
   },
   "outputs": [],
   "source": []
  },
  {
   "cell_type": "code",
   "execution_count": 47,
   "metadata": {
    "ExecuteTime": {
     "end_time": "2021-04-28T05:56:55.222313Z",
     "start_time": "2021-04-28T05:56:54.815319Z"
    }
   },
   "outputs": [
    {
     "name": "stdout",
     "output_type": "stream",
     "text": [
      "[Text(0, 0, ''), Text(0, 0, ''), Text(0, 0, ''), Text(0, 0, ''), Text(0, 0, ''), Text(0, 0, ''), Text(0, 0, '')]\n"
     ]
    },
    {
     "data": {
      "image/png": "[encoded data removed]",
      "text/plain": [
       "<Figure size 432x288 with 1 Axes>"
      ]
     },
     "metadata": {
      "needs_background": "light"
     },
     "output_type": "display_data"
    }
   ],
   "source": [
    "num_total = []\n",
    "num_sig = []\n",
    "for q, quant_df in df.groupby(\"quantile\"):\n",
    "  \n",
    "  num_total.append(quant_df.shape[0])\n",
    "  num_sig.append(quant_df[\"sig\"].sum())\n",
    "both = [proportion_confint(x,y,method=\"beta\") for x, y in zip(num_sig, num_total)]\n",
    "lower = [x[0] for x in both]\n",
    "upper = [x[1] for x in both]\n",
    "y_vals = [x/y for x, y in zip(num_sig, num_total)]\n",
    "plt.errorbar(range(len(num_total)),y_vals,yerr=[[x - y for x, y in zip(y_vals, lower)],[y - x  for x, y in zip(y_vals, upper)]],marker=\"o\")\n",
    "ax = plt.gca()\n",
    "print(ax.get_xticklabels())\n",
    "plt.xlabel(\"average number of reads in quantile\")\n",
    "plt.ylabel(\"fraction genes significant\")\n",
    "plt.title(\"{}\\n95% confidence interval\\n\".format(dataname))\n",
    "# plt.xticks(range(20), [\"{:,.0f}-{:,.0f}\".format(x.left,x.right) for x in cats.unique().sort_values()], rotation='vertical')\n",
    "plt.xticks(range(num), [\"{0:,.0f}\".format((x.left+x.right)/2) for x in cats.unique().sort_values()], rotation='vertical')\n",
    "\n",
    "plt.savefig(\"{}{}_frac_sig.png\".format(outpath,dataname),bbox_inches=\"tight\")\n",
    "plt.show()"
   ]
  },
  {
   "cell_type": "code",
   "execution_count": 16,
   "metadata": {
    "ExecuteTime": {
     "end_time": "2021-04-28T05:50:19.679224Z",
     "start_time": "2021-04-28T05:50:19.672133Z"
    }
   },
   "outputs": [
    {
     "data": {
      "text/plain": [
       "[0, 0, 0, 1, 2, 1, 0, 2, 5, 10, 4, 7, 8, 16, 14, 14, 10, 13, 14, 8]"
      ]
     },
     "execution_count": 16,
     "metadata": {},
     "output_type": "execute_result"
    }
   ],
   "source": [
    "num_sig"
   ]
  },
  {
   "cell_type": "code",
   "execution_count": 58,
   "metadata": {
    "ExecuteTime": {
     "end_time": "2021-04-28T04:15:42.826632Z",
     "start_time": "2021-04-28T04:15:42.816822Z"
    }
   },
   "outputs": [
    {
     "data": {
      "text/plain": [
       "[[-0.017241379310344827,\n",
       "  0.0,\n",
       "  0.0,\n",
       "  0.0,\n",
       "  0.0,\n",
       "  -0.06521281931346277,\n",
       "  0.0,\n",
       "  0.0,\n",
       "  -0.03389830508474576,\n",
       "  -0.03508771929824561,\n",
       "  -0.06631377294902671,\n",
       "  -0.07223189981351796,\n",
       "  -0.07837605461741944,\n",
       "  -0.06631377294902671,\n",
       "  -0.07223189981351796,\n",
       "  -0.07837605461741944,\n",
       "  -0.05263157894736842,\n",
       "  -0.07837605461741944,\n",
       "  -0.06521281931346277,\n",
       "  -0.06521281931346277],\n",
       " [0.017241379310344827,\n",
       "  0.0,\n",
       "  0.0,\n",
       "  0.0,\n",
       "  0.0,\n",
       "  0.06521281931346277,\n",
       "  0.0,\n",
       "  0.0,\n",
       "  0.03389830508474576,\n",
       "  0.03508771929824561,\n",
       "  0.06631377294902671,\n",
       "  0.07223189981351796,\n",
       "  0.07837605461741944,\n",
       "  0.06631377294902671,\n",
       "  0.07223189981351796,\n",
       "  0.07837605461741944,\n",
       "  0.05263157894736842,\n",
       "  0.07837605461741944,\n",
       "  0.06521281931346277,\n",
       "  0.06521281931346277]]"
      ]
     },
     "execution_count": 58,
     "metadata": {},
     "output_type": "execute_result"
    }
   ],
   "source": [
    "[[y - x for x, y in zip(y_vals, lower)],[x - y  for x, y in zip(y_vals, lower)]]"
   ]
  },
  {
   "cell_type": "code",
   "execution_count": null,
   "metadata": {},
   "outputs": [],
   "source": [
    "lower"
   ]
  },
  {
   "cell_type": "code",
   "execution_count": 18,
   "metadata": {
    "ExecuteTime": {
     "end_time": "2021-04-21T20:39:16.202284Z",
     "start_time": "2021-04-21T20:39:13.798985Z"
    }
   },
   "outputs": [
    {
     "data": {
      "image/png": "[encoded data removed]",
      "text/plain": [
       "<Figure size 432x288 with 1 Axes>"
      ]
     },
     "metadata": {
      "needs_background": "light"
     },
     "output_type": "display_data"
    },
    {
     "data": {
      "image/png": "[encoded data removed]",
      "text/plain": [
       "<Figure size 432x288 with 1 Axes>"
      ]
     },
     "metadata": {
      "needs_background": "light"
     },
     "output_type": "display_data"
    }
   ],
   "source": [
    "geom_range = np.geomspace(df[\"numReads_sub\"].min(),df[\"numReads_sub\"].max(),num=10)\n",
    "frac =[]\n",
    "x = []\n",
    "num = []\n",
    "for i in range(len(geom_range) - 1):\n",
    "  quant_df = df[(df[\"numReads_sub\"] >= geom_range[i]) & (df[\"numReads_sub\"] < geom_range[i+1])]\n",
    "  if quant_df.shape[0] > 1:\n",
    "    frac.append(quant_df[\"sig\"].sum()/quant_df.shape[0])\n",
    "    num.append(quant_df.shape[0])\n",
    "    x.append(geom_range[i])\n",
    "plt.plot(x,frac, marker=\"o\")\n",
    "plt.xscale('log')\n",
    "plt.xlabel(\"number of reads\")\n",
    "plt.ylabel('fraction significant')\n",
    "plt.title(dataname)\n",
    "plt.show()\n",
    "\n",
    "plt.plot(x,num,marker=\"o\")\n",
    "plt.yscale(\"log\")\n",
    "plt.xscale(\"log\")\n",
    "plt.xlabel(\"number of reads\")\n",
    "plt.ylabel(\"number of genes in bin\")\n",
    "plt.title(dataname)\n",
    "plt.show()"
   ]
  },
  {
   "cell_type": "code",
   "execution_count": 19,
   "metadata": {
    "ExecuteTime": {
     "end_time": "2021-04-21T20:39:30.644319Z",
     "start_time": "2021-04-21T20:39:29.613892Z"
    }
   },
   "outputs": [
    {
     "data": {
      "image/png": "[encoded data removed]",
      "text/plain": [
       "<Figure size 432x288 with 1 Axes>"
      ]
     },
     "metadata": {
      "needs_background": "light"
     },
     "output_type": "display_data"
    }
   ],
   "source": [
    "for g, g_df in df.groupby(\"sig\"):\n",
    "  plt.plot(g_df[\"numReads_sub\"],g_df[\"numCells_sub\"],marker=\"o\",linestyle=\"\",alpha = 0.4)\n",
    "plt.xscale(\"log\")\n",
    "plt.yscale(\"log\")\n",
    "plt.xlabel(\"number of reads\")\n",
    "plt.ylabel(\"number of cells\")\n",
    "plt.title(dataname)\n",
    "plt.show()"
   ]
  },
  {
   "cell_type": "code",
   "execution_count": 9,
   "metadata": {
    "ExecuteTime": {
     "end_time": "2021-04-11T06:34:36.523543Z",
     "start_time": "2021-04-11T06:34:34.843698Z"
    }
   },
   "outputs": [],
   "source": []
  },
  {
   "cell_type": "code",
   "execution_count": 10,
   "metadata": {
    "ExecuteTime": {
     "end_time": "2021-04-11T06:34:36.655569Z",
     "start_time": "2021-04-11T06:34:36.576062Z"
    }
   },
   "outputs": [
    {
     "data": {
      "text/html": [
       "<div>\n",
       "<style scoped>\n",
       "    .dataframe tbody tr th:only-of-type {\n",
       "        vertical-align: middle;\n",
       "    }\n",
       "\n",
       "    .dataframe tbody tr th {\n",
       "        vertical-align: top;\n",
       "    }\n",
       "\n",
       "    .dataframe thead th {\n",
       "        text-align: right;\n",
       "    }\n",
       "</style>\n",
       "<table border=\"1\" class=\"dataframe\">\n",
       "  <thead>\n",
       "    <tr style=\"text-align: right;\">\n",
       "      <th></th>\n",
       "      <th>geneR1A_uniq</th>\n",
       "      <th>tissue</th>\n",
       "      <th>compartment</th>\n",
       "      <th>cell</th>\n",
       "      <th>numReads</th>\n",
       "      <th>tiss_comp</th>\n",
       "      <th>gene_sub</th>\n",
       "      <th>numReads_sub</th>\n",
       "      <th>numCells_sub</th>\n",
       "    </tr>\n",
       "  </thead>\n",
       "  <tbody>\n",
       "    <tr>\n",
       "      <td>0</td>\n",
       "      <td>ACTA2</td>\n",
       "      <td>Muscle</td>\n",
       "      <td>Stromal</td>\n",
       "      <td>TSP1_muscle_2_S14_L00_CGTGTCTTCCGAGATT</td>\n",
       "      <td>2.0</td>\n",
       "      <td>MuscleStromal</td>\n",
       "      <td>MuscleStromalACTA2</td>\n",
       "      <td>5185.0</td>\n",
       "      <td>188</td>\n",
       "    </tr>\n",
       "    <tr>\n",
       "      <td>6</td>\n",
       "      <td>ACTA2</td>\n",
       "      <td>Bladder</td>\n",
       "      <td>Stromal</td>\n",
       "      <td>TSP1_bladder_1_S7_L00_TTCAGGATCTAATTCC</td>\n",
       "      <td>1.0</td>\n",
       "      <td>BladderStromal</td>\n",
       "      <td>BladderStromalACTA2</td>\n",
       "      <td>11309.0</td>\n",
       "      <td>446</td>\n",
       "    </tr>\n",
       "    <tr>\n",
       "      <td>20</td>\n",
       "      <td>ACTA2</td>\n",
       "      <td>Lung</td>\n",
       "      <td>Stromal</td>\n",
       "      <td>TSP1_lung_1_S10_L00_TAATCTCCACTGCATA</td>\n",
       "      <td>1.0</td>\n",
       "      <td>LungStromal</td>\n",
       "      <td>LungStromalACTA2</td>\n",
       "      <td>1080.0</td>\n",
       "      <td>63</td>\n",
       "    </tr>\n",
       "    <tr>\n",
       "      <td>22</td>\n",
       "      <td>ACTA2</td>\n",
       "      <td>Muscle</td>\n",
       "      <td>Endothelial</td>\n",
       "      <td>TSP1_muscle_3_S15_L00_AGTCAACGTGCTATTG</td>\n",
       "      <td>1.0</td>\n",
       "      <td>MuscleEndothelial</td>\n",
       "      <td>MuscleEndothelialACTA2</td>\n",
       "      <td>258.0</td>\n",
       "      <td>9</td>\n",
       "    </tr>\n",
       "    <tr>\n",
       "      <td>195</td>\n",
       "      <td>ACTA2</td>\n",
       "      <td>Bladder</td>\n",
       "      <td>Immune</td>\n",
       "      <td>TSP1_bladder_2_S8_L00_GCAGCTGCAGCGTGAA</td>\n",
       "      <td>2.0</td>\n",
       "      <td>BladderImmune</td>\n",
       "      <td>BladderImmuneACTA2</td>\n",
       "      <td>85.0</td>\n",
       "      <td>6</td>\n",
       "    </tr>\n",
       "    <tr>\n",
       "      <td>...</td>\n",
       "      <td>...</td>\n",
       "      <td>...</td>\n",
       "      <td>...</td>\n",
       "      <td>...</td>\n",
       "      <td>...</td>\n",
       "      <td>...</td>\n",
       "      <td>...</td>\n",
       "      <td>...</td>\n",
       "      <td>...</td>\n",
       "    </tr>\n",
       "    <tr>\n",
       "      <td>7332033</td>\n",
       "      <td>NDUFB11</td>\n",
       "      <td>Lung</td>\n",
       "      <td>Immune</td>\n",
       "      <td>TSP1_lung_3_S12_L00_GATGAGGCAGTTTGGT</td>\n",
       "      <td>3.0</td>\n",
       "      <td>LungImmune</td>\n",
       "      <td>LungImmuneNDUFB11</td>\n",
       "      <td>1761.0</td>\n",
       "      <td>303</td>\n",
       "    </tr>\n",
       "    <tr>\n",
       "      <td>7332035</td>\n",
       "      <td>NDUFB11</td>\n",
       "      <td>Lung</td>\n",
       "      <td>Epithelial</td>\n",
       "      <td>TSP1_lung_3_S12_L00_GAGTTGTTCAAATAGG</td>\n",
       "      <td>2.0</td>\n",
       "      <td>LungEpithelial</td>\n",
       "      <td>LungEpithelialNDUFB11</td>\n",
       "      <td>328.0</td>\n",
       "      <td>51</td>\n",
       "    </tr>\n",
       "    <tr>\n",
       "      <td>7332125</td>\n",
       "      <td>NDUFB11</td>\n",
       "      <td>Muscle</td>\n",
       "      <td>Immune</td>\n",
       "      <td>TSP1_muscle_1_S13_L00_TCGTGCTCAATGTCAC</td>\n",
       "      <td>1.0</td>\n",
       "      <td>MuscleImmune</td>\n",
       "      <td>MuscleImmuneNDUFB11</td>\n",
       "      <td>24.0</td>\n",
       "      <td>4</td>\n",
       "    </tr>\n",
       "    <tr>\n",
       "      <td>7393509</td>\n",
       "      <td>SH3KBP1</td>\n",
       "      <td>Blood</td>\n",
       "      <td>Immune</td>\n",
       "      <td>TSP1_blood_3_S18_L00_TCATTTGCAGTCTCTC</td>\n",
       "      <td>1.0</td>\n",
       "      <td>BloodImmune</td>\n",
       "      <td>BloodImmuneSH3KBP1</td>\n",
       "      <td>2.0</td>\n",
       "      <td>2</td>\n",
       "    </tr>\n",
       "    <tr>\n",
       "      <td>7396501</td>\n",
       "      <td>ZFX</td>\n",
       "      <td>Muscle</td>\n",
       "      <td>Stromal</td>\n",
       "      <td>TSP1_muscle_1_S13_L00_GACTTCCCAGATCCTA</td>\n",
       "      <td>1.0</td>\n",
       "      <td>MuscleStromal</td>\n",
       "      <td>MuscleStromalZFX</td>\n",
       "      <td>2.0</td>\n",
       "      <td>1</td>\n",
       "    </tr>\n",
       "  </tbody>\n",
       "</table>\n",
       "<p>11040 rows × 9 columns</p>\n",
       "</div>"
      ],
      "text/plain": [
       "        geneR1A_uniq   tissue  compartment  \\\n",
       "0              ACTA2   Muscle      Stromal   \n",
       "6              ACTA2  Bladder      Stromal   \n",
       "20             ACTA2     Lung      Stromal   \n",
       "22             ACTA2   Muscle  Endothelial   \n",
       "195            ACTA2  Bladder       Immune   \n",
       "...              ...      ...          ...   \n",
       "7332033      NDUFB11     Lung       Immune   \n",
       "7332035      NDUFB11     Lung   Epithelial   \n",
       "7332125      NDUFB11   Muscle       Immune   \n",
       "7393509      SH3KBP1    Blood       Immune   \n",
       "7396501          ZFX   Muscle      Stromal   \n",
       "\n",
       "                                           cell  numReads          tiss_comp  \\\n",
       "0        TSP1_muscle_2_S14_L00_CGTGTCTTCCGAGATT       2.0      MuscleStromal   \n",
       "6        TSP1_bladder_1_S7_L00_TTCAGGATCTAATTCC       1.0     BladderStromal   \n",
       "20         TSP1_lung_1_S10_L00_TAATCTCCACTGCATA       1.0        LungStromal   \n",
       "22       TSP1_muscle_3_S15_L00_AGTCAACGTGCTATTG       1.0  MuscleEndothelial   \n",
       "195      TSP1_bladder_2_S8_L00_GCAGCTGCAGCGTGAA       2.0      BladderImmune   \n",
       "...                                         ...       ...                ...   \n",
       "7332033    TSP1_lung_3_S12_L00_GATGAGGCAGTTTGGT       3.0         LungImmune   \n",
       "7332035    TSP1_lung_3_S12_L00_GAGTTGTTCAAATAGG       2.0     LungEpithelial   \n",
       "7332125  TSP1_muscle_1_S13_L00_TCGTGCTCAATGTCAC       1.0       MuscleImmune   \n",
       "7393509   TSP1_blood_3_S18_L00_TCATTTGCAGTCTCTC       1.0        BloodImmune   \n",
       "7396501  TSP1_muscle_1_S13_L00_GACTTCCCAGATCCTA       1.0      MuscleStromal   \n",
       "\n",
       "                       gene_sub  numReads_sub  numCells_sub  \n",
       "0            MuscleStromalACTA2        5185.0           188  \n",
       "6           BladderStromalACTA2       11309.0           446  \n",
       "20             LungStromalACTA2        1080.0            63  \n",
       "22       MuscleEndothelialACTA2         258.0             9  \n",
       "195          BladderImmuneACTA2          85.0             6  \n",
       "...                         ...           ...           ...  \n",
       "7332033       LungImmuneNDUFB11        1761.0           303  \n",
       "7332035   LungEpithelialNDUFB11         328.0            51  \n",
       "7332125     MuscleImmuneNDUFB11          24.0             4  \n",
       "7393509      BloodImmuneSH3KBP1           2.0             2  \n",
       "7396501        MuscleStromalZFX           2.0             1  \n",
       "\n",
       "[11040 rows x 9 columns]"
      ]
     },
     "execution_count": 10,
     "metadata": {},
     "output_type": "execute_result"
    }
   ],
   "source": [
    "df"
   ]
  },
  {
   "cell_type": "code",
   "execution_count": null,
   "metadata": {},
   "outputs": [],
   "source": []
  }
 ],
 "metadata": {
  "kernelspec": {
   "display_name": "Python (conda_env)",
   "language": "python",
   "name": "conda_env"
  },
  "language_info": {
   "codemirror_mode": {
    "name": "ipython",
    "version": 3
   },
   "file_extension": ".py",
   "mimetype": "text/x-python",
   "name": "python",
   "nbconvert_exporter": "python",
   "pygments_lexer": "ipython3",
   "version": "3.6.7"
  },
  "varInspector": {
   "cols": {
    "lenName": 16,
    "lenType": 16,
    "lenVar": 40
   },
   "kernels_config": {
    "python": {
     "delete_cmd_postfix": "",
     "delete_cmd_prefix": "del ",
     "library": "var_list.py",
     "varRefreshCmd": "print(var_dic_list())"
    },
    "r": {
     "delete_cmd_postfix": ") ",
     "delete_cmd_prefix": "rm(",
     "library": "var_list.r",
     "varRefreshCmd": "cat(var_dic_list()) "
    }
   },
   "types_to_exclude": [
    "module",
    "function",
    "builtin_function_or_method",
    "instance",
    "_Feature"
   ],
   "window_display": false
  }
 },
 "nbformat": 4,
 "nbformat_minor": 4
}
