{
 "cells": [
  {
   "cell_type": "code",
   "execution_count": 1,
   "metadata": {
    "ExecuteTime": {
     "end_time": "2021-04-29T21:59:38.707264Z",
     "start_time": "2021-04-29T21:59:34.821296Z"
    }
   },
   "outputs": [],
   "source": [
    "import matplotlib.pyplot as plt \n",
    "import pandas as pd\n",
    "from statsmodels.stats.multitest import multipletests\n",
    "plt.rcParams.update({'font.size': 14})\n",
    "from statsmodels.stats.proportion import proportion_confint"
   ]
  },
  {
   "cell_type": "code",
   "execution_count": null,
   "metadata": {
    "ExecuteTime": {
     "end_time": "2021-04-28T04:07:39.566845Z",
     "start_time": "2021-04-28T04:07:39.559489Z"
    }
   },
   "outputs": [],
   "source": []
  },
  {
   "cell_type": "code",
   "execution_count": 12,
   "metadata": {
    "ExecuteTime": {
     "end_time": "2021-04-29T22:03:08.063105Z",
     "start_time": "2021-04-29T22:03:08.059353Z"
    }
   },
   "outputs": [],
   "source": [
    "outpath = \"output/frac_significant_quantile/\""
   ]
  },
  {
   "cell_type": "code",
   "execution_count": 3,
   "metadata": {
    "ExecuteTime": {
     "end_time": "2021-04-29T22:02:48.285555Z",
     "start_time": "2021-04-29T22:00:08.961414Z"
    }
   },
   "outputs": [],
   "source": [
    "sub = \"dummy\"\n",
    "# dataname = \"TSP1_10x_with_postprocessing_nopanc_cellann\"\n",
    "dataname = \"TSP2_10x_rerun_with_postprocessing_3prime_cellann\"\n",
    "group = \"ontology\"\n",
    "zscore_path = \"../data/\"\n",
    "df = pd.read_parquet(\"{}{}_sym_SVD_normdonor_S_0.1_z_0.0_b_5.pq\".format(zscore_path,dataname),columns=[\"geneR1A_uniq\",\"tissue\",\"compartment\",\"cell\",\"numReads\",\"ontology\",\"cell_gene\"])\n",
    "df[\"dummy\"] = \"dummy\"\n",
    "# subset to ontologies with > 20 cells\n",
    "df[\"ontology_gene\"] = df[group] + df[\"geneR1A_uniq\"]\n",
    "df[\"num_ont_gene\"] = df[\"ontology_gene\"].map(df.groupby(\"ontology_gene\")[\"cell_gene\"].nunique())\n",
    "df = df[df[\"num_ont_gene\"] > 10]\n",
    "df[\"tiss_comp\"] = df[\"tissue\"] + df[\"compartment\"]\n",
    "df[\"gene_sub\"] = df[sub] + df[\"geneR1A_uniq\"]\n",
    "df[\"numReads_sub\"] = df.groupby(\"gene_sub\")[\"numReads\"].transform(\"sum\")\n",
    "df[\"numCells_sub\"] = df[\"gene_sub\"].map(df.groupby(\"gene_sub\")[\"cell\"].nunique())\n",
    "df = df.drop_duplicates(\"gene_sub\")"
   ]
  },
  {
   "cell_type": "code",
   "execution_count": 4,
   "metadata": {
    "ExecuteTime": {
     "end_time": "2021-04-29T22:02:48.334722Z",
     "start_time": "2021-04-29T22:02:48.319041Z"
    }
   },
   "outputs": [],
   "source": [
    "# pval_path = \"/scratch/PI/horence/JuliaO/single_cell/SZS_pipeline2/scripts/output/variance_adjusted_permutations/\"\n",
    "pval_df = pd.read_csv(\"{}{}_pvals_{}-{}_100_S_0.1_z_0.0_b_5_sig.tsv\".format(zscore_path,dataname,group,sub),sep=\"\\t\")"
   ]
  },
  {
   "cell_type": "code",
   "execution_count": 5,
   "metadata": {
    "ExecuteTime": {
     "end_time": "2021-04-29T22:02:48.380972Z",
     "start_time": "2021-04-29T22:02:48.376738Z"
    }
   },
   "outputs": [],
   "source": [
    "# sig = pval_df[(pval_df[\"perm_pval_adj_scZ\"] < 0.05) & (pval_df[\"max_abs_median_scZ\"] > ef)]\n",
    "sig = pval_df[pval_df[\"sig\"]]"
   ]
  },
  {
   "cell_type": "code",
   "execution_count": 6,
   "metadata": {
    "ExecuteTime": {
     "end_time": "2021-04-29T22:02:48.446338Z",
     "start_time": "2021-04-29T22:02:48.436067Z"
    }
   },
   "outputs": [
    {
     "name": "stderr",
     "output_type": "stream",
     "text": [
      "/home/users/jolivier/.local/lib/python3.6/site-packages/ipykernel_launcher.py:1: SettingWithCopyWarning: \n",
      "A value is trying to be set on a copy of a slice from a DataFrame.\n",
      "Try using .loc[row_indexer,col_indexer] = value instead\n",
      "\n",
      "See the caveats in the documentation: http://pandas.pydata.org/pandas-docs/stable/user_guide/indexing.html#returning-a-view-versus-a-copy\n",
      "  \"\"\"Entry point for launching an IPython kernel.\n"
     ]
    }
   ],
   "source": [
    "sig[\"sub_col\"] = sig[\"sub_col\"].fillna(\"dummy\")"
   ]
  },
  {
   "cell_type": "code",
   "execution_count": 7,
   "metadata": {
    "ExecuteTime": {
     "end_time": "2021-04-29T22:02:48.509999Z",
     "start_time": "2021-04-29T22:02:48.504206Z"
    }
   },
   "outputs": [
    {
     "name": "stderr",
     "output_type": "stream",
     "text": [
      "/home/users/jolivier/.local/lib/python3.6/site-packages/ipykernel_launcher.py:1: SettingWithCopyWarning: \n",
      "A value is trying to be set on a copy of a slice from a DataFrame.\n",
      "Try using .loc[row_indexer,col_indexer] = value instead\n",
      "\n",
      "See the caveats in the documentation: http://pandas.pydata.org/pandas-docs/stable/user_guide/indexing.html#returning-a-view-versus-a-copy\n",
      "  \"\"\"Entry point for launching an IPython kernel.\n"
     ]
    }
   ],
   "source": [
    "sig[\"gene_sub\"] = sig[\"sub_col\"] + sig[\"geneR1A_uniq\"]"
   ]
  },
  {
   "cell_type": "code",
   "execution_count": 8,
   "metadata": {
    "ExecuteTime": {
     "end_time": "2021-04-29T22:02:48.574487Z",
     "start_time": "2021-04-29T22:02:48.566519Z"
    }
   },
   "outputs": [],
   "source": [
    "df[\"sig\"] = False\n",
    "df.loc[df[\"gene_sub\"].isin(sig[\"gene_sub\"].unique()),\"sig\"] = True"
   ]
  },
  {
   "cell_type": "code",
   "execution_count": 9,
   "metadata": {
    "ExecuteTime": {
     "end_time": "2021-04-29T22:02:48.644370Z",
     "start_time": "2021-04-29T22:02:48.633774Z"
    }
   },
   "outputs": [],
   "source": [
    "num = 10\n",
    "cats, bins = pd.qcut(df['numReads_sub'], num,retbins=True)"
   ]
  },
  {
   "cell_type": "code",
   "execution_count": 10,
   "metadata": {
    "ExecuteTime": {
     "end_time": "2021-04-29T22:02:48.711287Z",
     "start_time": "2021-04-29T22:02:48.705369Z"
    }
   },
   "outputs": [],
   "source": [
    "df['quantile'] = pd.qcut(df['numReads_sub'], num, labels=False)"
   ]
  },
  {
   "cell_type": "code",
   "execution_count": 13,
   "metadata": {
    "ExecuteTime": {
     "end_time": "2021-04-29T22:03:10.851199Z",
     "start_time": "2021-04-29T22:03:10.338337Z"
    }
   },
   "outputs": [
    {
     "name": "stdout",
     "output_type": "stream",
     "text": [
      "[Text(0, 0, ''), Text(0, 0, ''), Text(0, 0, ''), Text(0, 0, ''), Text(0, 0, ''), Text(0, 0, ''), Text(0, 0, '')]\n"
     ]
    },
    {
     "data": {
      "image/png": "[encoded data removed]",
      "text/plain": [
       "<Figure size 432x288 with 1 Axes>"
      ]
     },
     "metadata": {
      "needs_background": "light"
     },
     "output_type": "display_data"
    }
   ],
   "source": [
    "num_total = []\n",
    "num_sig = []\n",
    "for q, quant_df in df.groupby(\"quantile\"):\n",
    "  \n",
    "  num_total.append(quant_df.shape[0])\n",
    "  num_sig.append(quant_df[\"sig\"].sum())\n",
    "both = [proportion_confint(x,y,method=\"beta\") for x, y in zip(num_sig, num_total)]\n",
    "lower = [x[0] for x in both]\n",
    "upper = [x[1] for x in both]\n",
    "y_vals = [x/y for x, y in zip(num_sig, num_total)]\n",
    "plt.errorbar(range(len(num_total)),y_vals,yerr=[[x - y for x, y in zip(y_vals, lower)],[y - x  for x, y in zip(y_vals, upper)]],marker=\"o\")\n",
    "ax = plt.gca()\n",
    "print(ax.get_xticklabels())\n",
    "plt.xlabel(\"average number of reads in quantile\")\n",
    "plt.ylabel(\"fraction genes significant\")\n",
    "plt.title(\"{}\\n95% confidence interval\\n\".format(dataname))\n",
    "# plt.xticks(range(20), [\"{:,.0f}-{:,.0f}\".format(x.left,x.right) for x in cats.unique().sort_values()], rotation='vertical')\n",
    "plt.xticks(range(num), [\"{0:,.0f}\".format((x.left+x.right)/2) for x in cats.unique().sort_values()], rotation='vertical')\n",
    "\n",
    "plt.savefig(\"{}{}_frac_sig.png\".format(outpath,dataname),bbox_inches=\"tight\")\n",
    "plt.show()"
   ]
  },
  {
   "cell_type": "code",
   "execution_count": null,
   "metadata": {},
   "outputs": [],
   "source": []
  }
 ],
 "metadata": {
  "kernelspec": {
   "display_name": "Python (conda_env)",
   "language": "python",
   "name": "conda_env"
  },
  "language_info": {
   "codemirror_mode": {
    "name": "ipython",
    "version": 3
   },
   "file_extension": ".py",
   "mimetype": "text/x-python",
   "name": "python",
   "nbconvert_exporter": "python",
   "pygments_lexer": "ipython3",
   "version": "3.6.7"
  },
  "varInspector": {
   "cols": {
    "lenName": 16,
    "lenType": 16,
    "lenVar": 40
   },
   "kernels_config": {
    "python": {
     "delete_cmd_postfix": "",
     "delete_cmd_prefix": "del ",
     "library": "var_list.py",
     "varRefreshCmd": "print(var_dic_list())"
    },
    "r": {
     "delete_cmd_postfix": ") ",
     "delete_cmd_prefix": "rm(",
     "library": "var_list.r",
     "varRefreshCmd": "cat(var_dic_list()) "
    }
   },
   "types_to_exclude": [
    "module",
    "function",
    "builtin_function_or_method",
    "instance",
    "_Feature"
   ],
   "window_display": false
  }
 },
 "nbformat": 4,
 "nbformat_minor": 4
}
