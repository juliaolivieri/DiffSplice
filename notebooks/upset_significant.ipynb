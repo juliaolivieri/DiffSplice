{
 "cells": [
  {
   "cell_type": "code",
   "execution_count": 1,
   "metadata": {
    "ExecuteTime": {
     "end_time": "2021-04-29T22:04:12.878556Z",
     "start_time": "2021-04-29T22:04:09.533221Z"
    }
   },
   "outputs": [],
   "source": [
    "import matplotlib.pyplot as plt\n",
    "import pandas as pd\n",
    "from scipy.stats import binom\n",
    "import upsetplot"
   ]
  },
  {
   "cell_type": "code",
   "execution_count": 2,
   "metadata": {
    "ExecuteTime": {
     "end_time": "2021-04-29T22:06:21.903031Z",
     "start_time": "2021-04-29T22:06:21.873279Z"
    }
   },
   "outputs": [],
   "source": [
    "def get_df(spec_dict):\n",
    "\n",
    "  lemur_mouse_conv = pd.read_csv(\"../utility_files/human_mouse_lemur_gene_name_conversion.txt\",sep=\"\\t\")[[\"Mouse gene name\",\"Human Gene name\", \"Mouse Lemur gene name\"]]\n",
    "  lemur_mouse_conv.loc[lemur_mouse_conv[\"Mouse Lemur gene name\"].isna(),\"Mouse Lemur gene name\"] = lemur_mouse_conv.loc[lemur_mouse_conv[\"Mouse Lemur gene name\"].isna(),\"Human Gene name\"]\n",
    "  lemur_mouse_conv.loc[lemur_mouse_conv[\"Mouse gene name\"].isna(),\"Mouse gene name\"] = lemur_mouse_conv.loc[lemur_mouse_conv[\"Mouse gene name\"].isna(),\"Human Gene name\"].str.capitalize()\n",
    "  # lemur_mouse_conv = lemur_mouse_conv.dropna(subset=[\"Mouse gene name\"])\n",
    "\n",
    "  mouse_conv_dict = pd.Series(lemur_mouse_conv[\"Human Gene name\"].values,index=lemur_mouse_conv[\"Mouse gene name\"]).to_dict()\n",
    "\n",
    "  # lemur_mouse_conv = pd.read_csv(\"/oak/stanford/groups/horence/Roozbeh/single_cell_project/utility_files/human_mouse_lemur_gene_name_conversion.txt\",sep=\"\\t\")\n",
    "\n",
    "  # lemur_mouse_conv = lemur_mouse_conv.dropna(subset=[\"Mouse Lemur gene name\"])\n",
    "  lemur_conv_dict = pd.Series(lemur_mouse_conv[\"Human Gene name\"].values,index=lemur_mouse_conv[\"Mouse Lemur gene name\"]).to_dict()\n",
    "\n",
    "\n",
    "  allgenes = {x : set() for x in spec_dict.keys()}\n",
    "  siggenes = {x : set() for x in spec_dict.keys()}\n",
    "\n",
    "\n",
    "  for organism, org_dnames in spec_dict.items():\n",
    "    for dataname in org_dnames:\n",
    "      var_df = pd.read_csv(\"../data/{}_pvals_ontology-dummy_100_S_0.1_z_0.0_b_5_sig.tsv\".format(dataname),sep=\"\\t\")\n",
    "\n",
    "      if organism == \"mouse\":\n",
    "        var_df[\"geneR1A_uniq\"] = var_df[\"geneR1A_uniq\"].map(mouse_conv_dict)\n",
    "      elif organism == \"lemur\": \n",
    "        var_df[\"geneR1A_uniq\"] = var_df[\"geneR1A_uniq\"].map(lemur_conv_dict)\n",
    "      allgenes[organism].update(var_df[\"geneR1A_uniq\"])\n",
    "      siggenes[organism].update(var_df[var_df[\"sig\"]][\"geneR1A_uniq\"])\n",
    "  out = {\"gene\" : []}\n",
    "  for org in spec_dict.keys():\n",
    "    out[\"ever_sig_\" + org] = []\n",
    "  #   out[\"present_\" + org] = []\n",
    "  for gene in set.union(*allgenes.values()):\n",
    "  #   if gene == \"MYL6\":\n",
    "  #     break\n",
    "    out[\"gene\"].append(gene)\n",
    "    for org in spec_dict.keys():\n",
    "      if gene not in allgenes[org]:\n",
    "        out[\"ever_sig_\" + org].append(np.nan)\n",
    "      elif gene in siggenes[org]:\n",
    "        out[\"ever_sig_\" + org].append(True)\n",
    "      else:\n",
    "        out[\"ever_sig_\" + org].append(False)\n",
    "  #     if gene in allgenes[org]:\n",
    "  #       out[\"present_\" + org].append(True)\n",
    "  #     else:\n",
    "  #       out[\"present_\" + org].append(False)\n",
    "  df = pd.DataFrame.from_dict(out)\n",
    "  return df"
   ]
  },
  {
   "cell_type": "code",
   "execution_count": 3,
   "metadata": {
    "ExecuteTime": {
     "end_time": "2021-04-29T22:06:22.551529Z",
     "start_time": "2021-04-29T22:06:22.545810Z"
    }
   },
   "outputs": [],
   "source": [
    "def get_num_genes(df, inc_human, inc_mouse, inc_lemur):\n",
    "    return df[(df[\"ever_sig_human\"] == inc_human) &(df[\"ever_sig_mouse\"] == inc_mouse) &(df[\"ever_sig_lemur\"] == inc_lemur)][\"gene\"].nunique()"
   ]
  },
  {
   "cell_type": "code",
   "execution_count": 4,
   "metadata": {
    "ExecuteTime": {
     "end_time": "2021-04-29T22:06:23.472718Z",
     "start_time": "2021-04-29T22:06:23.462902Z"
    }
   },
   "outputs": [],
   "source": [
    "def get_num_genes_mouse(df, inc_human, inc_mouse):\n",
    "    return df[(df[\"ever_sig_human\"] == inc_human) &(df[\"ever_sig_mouse\"] == inc_mouse) ][\"gene\"].nunique()"
   ]
  },
  {
   "cell_type": "code",
   "execution_count": 5,
   "metadata": {
    "ExecuteTime": {
     "end_time": "2021-04-29T22:06:23.667656Z",
     "start_time": "2021-04-29T22:06:23.659938Z"
    }
   },
   "outputs": [],
   "source": [
    "def get_num_genes_lemur(df, inc_human, inc_lemur):\n",
    "    return df[(df[\"ever_sig_human\"] == inc_human) &(df[\"ever_sig_lemur\"] == inc_lemur) ][\"gene\"].nunique()"
   ]
  },
  {
   "cell_type": "code",
   "execution_count": 6,
   "metadata": {
    "ExecuteTime": {
     "end_time": "2021-04-29T22:06:24.398480Z",
     "start_time": "2021-04-29T22:06:24.393649Z"
    }
   },
   "outputs": [],
   "source": [
    "spec_dict = {\"human\" : [\"TSP1_10x_with_postprocessing_nopanc_cellann\",\"TSP2_10x_rerun_with_postprocessing_3prime_cellann\",],\n",
    "            \"lemur\" : [\"Lemur_10x_Stumpy_with_postprocessing_cellann\",\"Lemur_10x_Antoine_with_postprocessing_cellann\"],\n",
    "            \"mouse\" : [\"Tabula_muris_senis_P1_10x_with_postprocessing_cellann\",\"Tabula_muris_senis_P2_10x_with_postprocessing_cellann\"]}"
   ]
  },
  {
   "cell_type": "code",
   "execution_count": 7,
   "metadata": {
    "ExecuteTime": {
     "end_time": "2021-04-29T22:06:39.556807Z",
     "start_time": "2021-04-29T22:06:39.552861Z"
    }
   },
   "outputs": [],
   "source": [
    "outpath = \"output/upset_significant/\""
   ]
  },
  {
   "cell_type": "code",
   "execution_count": 8,
   "metadata": {
    "ExecuteTime": {
     "end_time": "2021-04-29T22:06:42.155216Z",
     "start_time": "2021-04-29T22:06:41.189645Z"
    }
   },
   "outputs": [
    {
     "name": "stderr",
     "output_type": "stream",
     "text": [
      "/home/users/jolivier/.local/lib/python3.6/site-packages/IPython/core/interactiveshell.py:3209: DtypeWarning: Columns (10) have mixed types. Specify dtype option on import or set low_memory=False.\n",
      "  if (yield from self.run_code(code, result)):\n"
     ]
    }
   ],
   "source": [
    "# df = pd.read_csv(\"/scratch/PI/horence/JuliaO/single_cell/Differential_Splicing/notebooks/output/Biology_paper_numbers/merged_species_0.1.tsv\",sep=\"\\t\")\n",
    "df = get_df(spec_dict)"
   ]
  },
  {
   "cell_type": "code",
   "execution_count": 9,
   "metadata": {
    "ExecuteTime": {
     "end_time": "2021-04-29T22:06:42.207727Z",
     "start_time": "2021-04-29T22:06:42.195849Z"
    }
   },
   "outputs": [
    {
     "data": {
      "text/plain": [
       "array(['RPS24', 'RBM39', 'TPM1'], dtype=object)"
      ]
     },
     "execution_count": 9,
     "metadata": {},
     "output_type": "execute_result"
    }
   ],
   "source": [
    "df[(df[\"ever_sig_human\"] == True) & (df[\"ever_sig_lemur\"] == True) & (df[\"ever_sig_mouse\"] == True)][\"gene\"].unique()"
   ]
  },
  {
   "cell_type": "code",
   "execution_count": 10,
   "metadata": {
    "ExecuteTime": {
     "end_time": "2021-04-29T22:06:42.878246Z",
     "start_time": "2021-04-29T22:06:42.871860Z"
    }
   },
   "outputs": [],
   "source": [
    "species = [\"human\",\"mouse\",\"lemur\"]\n"
   ]
  },
  {
   "cell_type": "code",
   "execution_count": 11,
   "metadata": {
    "ExecuteTime": {
     "end_time": "2021-04-29T22:06:43.947713Z",
     "start_time": "2021-04-29T22:06:43.936673Z"
    }
   },
   "outputs": [],
   "source": [
    "df = df.dropna()"
   ]
  },
  {
   "cell_type": "code",
   "execution_count": 12,
   "metadata": {
    "ExecuteTime": {
     "end_time": "2021-04-29T22:06:44.578072Z",
     "start_time": "2021-04-29T22:06:44.557200Z"
    }
   },
   "outputs": [],
   "source": [
    "p_sig = []\n",
    "for s in species:\n",
    "  p_sig.append(df[\"ever_sig_\" + s].value_counts()[True]/df[\"ever_sig_\" + s].value_counts().sum())"
   ]
  },
  {
   "cell_type": "code",
   "execution_count": 14,
   "metadata": {
    "ExecuteTime": {
     "end_time": "2021-04-29T22:06:45.708432Z",
     "start_time": "2021-04-29T22:06:45.663410Z"
    }
   },
   "outputs": [],
   "source": [
    "sets = []\n",
    "data = []\n",
    "for inc_human in [True,False]:\n",
    "  for inc_mouse in [True,False]:\n",
    "    for inc_lemur in [True,False]:\n",
    "      curr_set = []\n",
    "      if inc_human:\n",
    "        curr_set.append(\"human\")\n",
    "      if inc_mouse:\n",
    "        curr_set.append(\"mouse\")\n",
    "      if inc_lemur:\n",
    "        curr_set.append(\"lemur\")\n",
    "      sets.append(curr_set)\n",
    "      data.append(get_num_genes(df, inc_human, inc_mouse, inc_lemur))\n",
    "      "
   ]
  },
  {
   "cell_type": "code",
   "execution_count": 15,
   "metadata": {
    "ExecuteTime": {
     "end_time": "2021-04-29T22:06:53.664305Z",
     "start_time": "2021-04-29T22:06:52.957420Z"
    }
   },
   "outputs": [
    {
     "data": {
      "image/png": "[encoded data removed]",
      "text/plain": [
       "<Figure size 332.875x288 with 4 Axes>"
      ]
     },
     "metadata": {
      "needs_background": "light"
     },
     "output_type": "display_data"
    }
   ],
   "source": [
    "upset_input = upsetplot.from_memberships(sets[:-1],data=data[:-1])\n",
    "upsetplot.plot(upset_input)\n",
    "plt.title(\"Intersection of significant genes out of {} shared\\n{} significant in all\\n{:.3} probability under null\".format(df.shape[0],data[0],1 - binom.cdf(get_num_genes(df,True,True,True), df.shape[0], p_sig[0]*p_sig[1]*p_sig[2])))\n",
    "plt.savefig(\"{}upset_human_mouse_lemur.png\".format(outpath),bbox_inches=\"tight\")\n",
    "plt.show()\n"
   ]
  },
  {
   "cell_type": "code",
   "execution_count": null,
   "metadata": {
    "ExecuteTime": {
     "end_time": "2020-12-13T23:17:08.446192Z",
     "start_time": "2020-12-13T23:17:08.431059Z"
    }
   },
   "outputs": [],
   "source": []
  },
  {
   "cell_type": "markdown",
   "metadata": {
    "ExecuteTime": {
     "end_time": "2020-12-13T01:52:33.945541Z",
     "start_time": "2020-12-13T01:52:33.887664Z"
    }
   },
   "source": [
    "## Just two human and mouse"
   ]
  },
  {
   "cell_type": "code",
   "execution_count": 16,
   "metadata": {
    "ExecuteTime": {
     "end_time": "2021-04-29T22:06:56.490795Z",
     "start_time": "2021-04-29T22:06:55.660227Z"
    }
   },
   "outputs": [],
   "source": [
    "# df = pd.read_csv(\"/scratch/PI/horence/JuliaO/single_cell/Differential_Splicing/notebooks/output/Biology_paper_numbers/merged_species_0.05.tsv\",sep=\"\\t\")\n",
    "df = get_df(spec_dict)"
   ]
  },
  {
   "cell_type": "code",
   "execution_count": 17,
   "metadata": {
    "ExecuteTime": {
     "end_time": "2021-04-29T22:06:57.035588Z",
     "start_time": "2021-04-29T22:06:57.031907Z"
    }
   },
   "outputs": [],
   "source": [
    "species = [\"human\",\"mouse\"]\n",
    "\n"
   ]
  },
  {
   "cell_type": "code",
   "execution_count": 18,
   "metadata": {
    "ExecuteTime": {
     "end_time": "2021-04-29T22:06:57.203762Z",
     "start_time": "2021-04-29T22:06:57.196935Z"
    }
   },
   "outputs": [],
   "source": [
    "# df = df[[\"gene\"] + [\"max_mz_\" + x for x in species] + [\"tissue_\" + x for x in species] + \n",
    "#         [\"free_annotation_\" + x for x in species] + [\"ever_sig_\" + x for x in species]]\n",
    "df = df[[\"gene\"] + [\"ever_sig_\" + x for x in species]]"
   ]
  },
  {
   "cell_type": "code",
   "execution_count": 19,
   "metadata": {
    "ExecuteTime": {
     "end_time": "2021-04-29T22:06:57.373022Z",
     "start_time": "2021-04-29T22:06:57.362939Z"
    }
   },
   "outputs": [],
   "source": [
    "df = df.dropna()"
   ]
  },
  {
   "cell_type": "code",
   "execution_count": 20,
   "metadata": {
    "ExecuteTime": {
     "end_time": "2021-04-29T22:06:57.515858Z",
     "start_time": "2021-04-29T22:06:57.499702Z"
    }
   },
   "outputs": [],
   "source": [
    "p_sig = []\n",
    "for s in species:\n",
    "  p_sig.append(df[\"ever_sig_\" + s].value_counts()[True]/df[\"ever_sig_\" + s].value_counts().sum())"
   ]
  },
  {
   "cell_type": "code",
   "execution_count": 21,
   "metadata": {
    "ExecuteTime": {
     "end_time": "2021-04-29T22:06:57.676403Z",
     "start_time": "2021-04-29T22:06:57.670086Z"
    }
   },
   "outputs": [
    {
     "data": {
      "text/plain": [
       "0.002845343392299688"
      ]
     },
     "execution_count": 21,
     "metadata": {},
     "output_type": "execute_result"
    }
   ],
   "source": [
    "p_sig[0]*p_sig[1]"
   ]
  },
  {
   "cell_type": "code",
   "execution_count": 22,
   "metadata": {
    "ExecuteTime": {
     "end_time": "2021-04-29T22:06:57.884141Z",
     "start_time": "2021-04-29T22:06:57.861695Z"
    }
   },
   "outputs": [],
   "source": [
    "sets = []\n",
    "data = []\n",
    "for inc_human in [True,False]:\n",
    "  for inc_mouse in [True,False]:\n",
    "\n",
    "    curr_set = []\n",
    "    if inc_human:\n",
    "      curr_set.append(\"human\")\n",
    "    if inc_mouse:\n",
    "      curr_set.append(\"mouse\")\n",
    "\n",
    "    sets.append(curr_set)\n",
    "    data.append(get_num_genes_mouse(df, inc_human, inc_mouse))\n",
    "      "
   ]
  },
  {
   "cell_type": "code",
   "execution_count": 23,
   "metadata": {
    "ExecuteTime": {
     "end_time": "2021-04-29T22:07:00.239022Z",
     "start_time": "2021-04-29T22:06:59.656465Z"
    }
   },
   "outputs": [
    {
     "data": {
      "image/png": "[encoded data removed]",
      "text/plain": [
       "<Figure size 204.875x256 with 4 Axes>"
      ]
     },
     "metadata": {
      "needs_background": "light"
     },
     "output_type": "display_data"
    }
   ],
   "source": [
    "upset_input = upsetplot.from_memberships(sets[:-1],data=data[:-1])\n",
    "upsetplot.plot(upset_input)\n",
    "plt.title(\"Intersection of significant genes out of {} shared\\n{} significant in all\\n{:.3} probability under null\".format(df.shape[0],data[0],1 - binom.cdf(get_num_genes_mouse(df,True,True), df.shape[0], p_sig[0]*p_sig[1])))\n",
    "plt.savefig(\"{}upset_human_mouse.png\".format(outpath),bbox_inches=\"tight\")\n",
    "plt.show()\n"
   ]
  },
  {
   "cell_type": "code",
   "execution_count": null,
   "metadata": {
    "ExecuteTime": {
     "end_time": "2020-12-13T23:17:13.972591Z",
     "start_time": "2020-12-13T23:17:13.960061Z"
    }
   },
   "outputs": [],
   "source": []
  },
  {
   "cell_type": "markdown",
   "metadata": {},
   "source": [
    "## Just human and lemur"
   ]
  },
  {
   "cell_type": "code",
   "execution_count": 24,
   "metadata": {
    "ExecuteTime": {
     "end_time": "2021-04-29T22:07:02.187855Z",
     "start_time": "2021-04-29T22:07:01.358733Z"
    }
   },
   "outputs": [],
   "source": [
    "# df = pd.read_csv(\"/scratch/PI/horence/JuliaO/single_cell/Differential_Splicing/notebooks/output/Biology_paper_numbers/merged_species_0.05.tsv\",sep=\"\\t\")\n",
    "df = get_df(spec_dict)\n",
    "species = [\"human\",\"lemur\"]\n"
   ]
  },
  {
   "cell_type": "code",
   "execution_count": 25,
   "metadata": {
    "ExecuteTime": {
     "end_time": "2021-04-29T22:07:02.222683Z",
     "start_time": "2021-04-29T22:07:02.214756Z"
    }
   },
   "outputs": [],
   "source": [
    "# df = df[[\"gene\"] + [\"max_mz_\" + x for x in species] + [\"tissue_\" + x for x in species] + \n",
    "#         [\"free_annotation_\" + x for x in species] + [\"ever_sig_\" + x for x in species]]\n",
    "df = df[[\"gene\"] + [\"ever_sig_\" + x for x in species]]\n",
    "df = df.dropna()"
   ]
  },
  {
   "cell_type": "code",
   "execution_count": 26,
   "metadata": {
    "ExecuteTime": {
     "end_time": "2021-04-29T22:07:02.255733Z",
     "start_time": "2021-04-29T22:07:02.247236Z"
    }
   },
   "outputs": [],
   "source": [
    "p_sig = []\n",
    "for s in species:\n",
    "  p_sig.append(df[\"ever_sig_\" + s].value_counts()[True]/df[\"ever_sig_\" + s].value_counts().sum())"
   ]
  },
  {
   "cell_type": "code",
   "execution_count": 27,
   "metadata": {
    "ExecuteTime": {
     "end_time": "2021-04-29T22:07:02.619552Z",
     "start_time": "2021-04-29T22:07:02.613026Z"
    }
   },
   "outputs": [
    {
     "data": {
      "text/plain": [
       "0.027724293158531966"
      ]
     },
     "execution_count": 27,
     "metadata": {},
     "output_type": "execute_result"
    }
   ],
   "source": [
    "p_sig[0]*p_sig[1]"
   ]
  },
  {
   "cell_type": "code",
   "execution_count": 28,
   "metadata": {
    "ExecuteTime": {
     "end_time": "2021-04-29T22:07:02.807264Z",
     "start_time": "2021-04-29T22:07:02.783010Z"
    }
   },
   "outputs": [],
   "source": [
    "sets = []\n",
    "data = []\n",
    "for inc_human in [True,False]:\n",
    "  for inc_lemur in [True,False]:\n",
    "\n",
    "    curr_set = []\n",
    "    if inc_human:\n",
    "      curr_set.append(\"human\")\n",
    "    if inc_lemur:\n",
    "      curr_set.append(\"lemur\")\n",
    "\n",
    "    sets.append(curr_set)\n",
    "    data.append(get_num_genes_lemur(df, inc_human, inc_lemur))\n",
    "      "
   ]
  },
  {
   "cell_type": "code",
   "execution_count": 29,
   "metadata": {
    "ExecuteTime": {
     "end_time": "2021-04-29T22:07:03.503412Z",
     "start_time": "2021-04-29T22:07:02.927285Z"
    }
   },
   "outputs": [
    {
     "data": {
      "image/png": "[encoded data removed]",
      "text/plain": [
       "<Figure size 204.875x256 with 4 Axes>"
      ]
     },
     "metadata": {
      "needs_background": "light"
     },
     "output_type": "display_data"
    }
   ],
   "source": [
    "upset_input = upsetplot.from_memberships(sets[:-1],data=data[:-1])\n",
    "upsetplot.plot(upset_input)\n",
    "plt.title(\"Intersection of significant genes out of {} shared\\n{} significant in all\\n{:.3} probability under null\".format(df.shape[0],data[0],1 - binom.cdf(get_num_genes_lemur(df,True,True), df.shape[0], p_sig[0]*p_sig[1])))\n",
    "plt.savefig(\"{}upset_human_lemur.png\".format(outpath),bbox_inches=\"tight\")\n",
    "plt.show()\n"
   ]
  },
  {
   "cell_type": "code",
   "execution_count": null,
   "metadata": {},
   "outputs": [],
   "source": []
  }
 ],
 "metadata": {
  "kernelspec": {
   "display_name": "Python (conda_env)",
   "language": "python",
   "name": "conda_env"
  },
  "language_info": {
   "codemirror_mode": {
    "name": "ipython",
    "version": 3
   },
   "file_extension": ".py",
   "mimetype": "text/x-python",
   "name": "python",
   "nbconvert_exporter": "python",
   "pygments_lexer": "ipython3",
   "version": "3.6.7"
  },
  "varInspector": {
   "cols": {
    "lenName": 16,
    "lenType": 16,
    "lenVar": 40
   },
   "kernels_config": {
    "python": {
     "delete_cmd_postfix": "",
     "delete_cmd_prefix": "del ",
     "library": "var_list.py",
     "varRefreshCmd": "print(var_dic_list())"
    },
    "r": {
     "delete_cmd_postfix": ") ",
     "delete_cmd_prefix": "rm(",
     "library": "var_list.r",
     "varRefreshCmd": "cat(var_dic_list()) "
    }
   },
   "types_to_exclude": [
    "module",
    "function",
    "builtin_function_or_method",
    "instance",
    "_Feature"
   ],
   "window_display": false
  }
 },
 "nbformat": 4,
 "nbformat_minor": 4
}
