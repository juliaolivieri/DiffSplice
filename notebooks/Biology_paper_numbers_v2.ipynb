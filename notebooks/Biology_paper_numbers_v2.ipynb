{
 "cells": [
  {
   "cell_type": "code",
   "execution_count": 2,
   "metadata": {
    "ExecuteTime": {
     "end_time": "2021-05-07T18:54:13.064389Z",
     "start_time": "2021-05-07T18:54:13.060221Z"
    }
   },
   "outputs": [],
   "source": [
    "import pandas as pd\n",
    "from tqdm import tqdm"
   ]
  },
  {
   "cell_type": "code",
   "execution_count": 3,
   "metadata": {
    "ExecuteTime": {
     "end_time": "2021-05-07T18:59:42.808990Z",
     "start_time": "2021-05-07T18:54:13.491807Z"
    },
    "scrolled": true
   },
   "outputs": [
    {
     "name": "stdout",
     "output_type": "stream",
     "text": [
      "doublets []\n",
      "num_cells TSP1_10x_with_postprocessing_nopanc_cellann 26840\n",
      "num freeann 52\n",
      "num_tiss TSP1_10x_with_postprocessing_nopanc_cellann 4\n",
      "['Bladder' 'Blood' 'Lung' 'Muscle']\n",
      "\n",
      "doublets []\n",
      "num_cells TSP2_10x_rerun_with_postprocessing_3prime_cellann 75789\n",
      "num freeann 82\n",
      "num_tiss TSP2_10x_rerun_with_postprocessing_3prime_cellann 12\n",
      "['Small_Intestine' 'Large_Intestine' 'Thymus' 'Lymph_Node' 'Bladder'\n",
      " 'Muscle' 'Lung' 'Vasculature' 'Trachea' 'Spleen' 'Blood' 'Bone_Marrow']\n",
      "\n",
      "doublets []\n",
      "num_cells TS_pilot_smartseq_with_postprocessing_nopanc_cellann 2149\n",
      "num freeann 47\n",
      "num_tiss TS_pilot_smartseq_with_postprocessing_nopanc_cellann 4\n",
      "['Lung' 'Bladder' 'Muscle' 'Blood']\n",
      "\n",
      "doublets []\n",
      "num_cells TSP2_SS2_RUN1_RUN2_cellann 5203\n",
      "num freeann 70\n",
      "num_tiss TSP2_SS2_RUN1_RUN2_cellann 13\n",
      "['Bone_Marrow' 'Blood' 'Kidney' 'Large_Intestine' 'Lung' 'Lymph_Node'\n",
      " 'Muscle' 'Small_Intestine' 'Spleen' 'Thymus' 'Trachea' 'Vasculature'\n",
      " 'Bladder']\n",
      "\n",
      "doublets []\n",
      "num_cells Tabula_muris_senis_P1_10x_with_postprocessing_cellann 11017\n",
      "num freeann 54\n",
      "num_tiss Tabula_muris_senis_P1_10x_with_postprocessing_cellann 6\n",
      "['Heart_and_Aorta' 'Lung' 'Liver' 'Kidney' 'Pancreas' 'Large_Intestine']\n",
      "\n",
      "doublets []\n",
      "num_cells Tabula_muris_senis_P2_10x_with_postprocessing_cellann 3683\n",
      "num freeann 47\n",
      "num_tiss Tabula_muris_senis_P2_10x_with_postprocessing_cellann 6\n",
      "['Kidney' 'Liver' 'Limb_Muscle' 'Pancreas' 'Lung' 'Large_Intestine']\n",
      "\n",
      "doublets []\n",
      "num_cells Lemur_10x_Stumpy_with_postprocessing_cellann 76708\n",
      "num freeann 199\n",
      "num_tiss Lemur_10x_Stumpy_with_postprocessing_cellann 19\n",
      "['Lung' 'Bone' 'Heart' 'Liver' 'Aorta' 'Limb_muscle' 'Colon' 'Fat'\n",
      " 'Bladder' 'Bone_marrow' 'Brain' 'Diaphragm' 'Kidney' 'Blood' 'Skin'\n",
      " 'Small_intestine' 'Spleen' 'Tongue' 'Trachea']\n",
      "\n",
      "doublets []\n",
      "num_cells Lemur_10x_Antoine_with_postprocessing_cellann 88492\n",
      "num freeann 241\n",
      "num_tiss Lemur_10x_Antoine_with_postprocessing_cellann 18\n",
      "['Bladder' 'Bone_marrow' 'Brain' 'Colon' 'Fat' 'Kidney' 'Bone' 'Liver'\n",
      " 'Lung' 'Pancreas' 'Hypothalamus_Pituitary' 'Eye_retina' 'Skin'\n",
      " 'Small_intestine' 'Spleen' 'Testes' 'Tongue' 'Trachea']\n",
      "\n"
     ]
    }
   ],
   "source": [
    "datanames = [\"TSP1_10x_with_postprocessing_nopanc_cellann\",\"TSP2_10x_rerun_with_postprocessing_3prime_cellann\",\"TS_pilot_smartseq_with_postprocessing_nopanc_cellann\",\"TSP2_SS2_RUN1_RUN2_cellann\",\"Tabula_muris_senis_P1_10x_with_postprocessing_cellann\",\"Tabula_muris_senis_P2_10x_with_postprocessing_cellann\",\"Lemur_10x_Stumpy_with_postprocessing_cellann\",\"Lemur_10x_Antoine_with_postprocessing_cellann\"]\n",
    "organisms = [\"human\",\"human\",\"human\",\"human\",\"mouse\",\"mouse\",\"lemur\",\"lemur\"]\n",
    "\n",
    "\n",
    "total = 0\n",
    "\n",
    "org_num = {x : 0 for x in set(organisms)}\n",
    "for i in range(len(datanames)):\n",
    "  dataname = datanames[i]\n",
    "  org = organisms[i]\n",
    "  df = pd.read_parquet(\"../data/{}.pq\".format(dataname),columns=[\"cell\",\"tissue\",\"called\",\"free_annotation\"])\n",
    "  print(\"doublets\",[x for x in df[\"free_annotation\"].unique() if \"oubl\" in x])\n",
    "  df = df[df[\"called\"] == 1]\n",
    "  num_cells = df[\"cell\"].nunique()\n",
    "  org_num[org] += num_cells\n",
    "  print(\"num_cells\",dataname,num_cells)\n",
    "  print(\"num freeann\",df[\"free_annotation\"].nunique())\n",
    "  total += num_cells\n",
    "  print(\"num_tiss\",dataname,df[\"tissue\"].nunique())\n",
    "  print(df[\"tissue\"].unique())\n",
    "  print()"
   ]
  },
  {
   "cell_type": "code",
   "execution_count": 4,
   "metadata": {
    "ExecuteTime": {
     "end_time": "2021-05-07T19:00:56.734318Z",
     "start_time": "2021-05-07T19:00:56.724619Z"
    }
   },
   "outputs": [
    {
     "name": "stdout",
     "output_type": "stream",
     "text": [
      "mouse: 14,700\n",
      "lemur: 165,200\n",
      "human: 109,981\n"
     ]
    }
   ],
   "source": [
    "for key, value in org_num.items():\n",
    "  print(\"{}: {:,}\".format(key,value))"
   ]
  },
  {
   "cell_type": "code",
   "execution_count": null,
   "metadata": {},
   "outputs": [],
   "source": []
  }
 ],
 "metadata": {
  "kernelspec": {
   "display_name": "Python (conda_env)",
   "language": "python",
   "name": "conda_env"
  },
  "language_info": {
   "codemirror_mode": {
    "name": "ipython",
    "version": 3
   },
   "file_extension": ".py",
   "mimetype": "text/x-python",
   "name": "python",
   "nbconvert_exporter": "python",
   "pygments_lexer": "ipython3",
   "version": "3.6.7"
  },
  "varInspector": {
   "cols": {
    "lenName": 16,
    "lenType": 16,
    "lenVar": 40
   },
   "kernels_config": {
    "python": {
     "delete_cmd_postfix": "",
     "delete_cmd_prefix": "del ",
     "library": "var_list.py",
     "varRefreshCmd": "print(var_dic_list())"
    },
    "r": {
     "delete_cmd_postfix": ") ",
     "delete_cmd_prefix": "rm(",
     "library": "var_list.r",
     "varRefreshCmd": "cat(var_dic_list()) "
    }
   },
   "types_to_exclude": [
    "module",
    "function",
    "builtin_function_or_method",
    "instance",
    "_Feature"
   ],
   "window_display": false
  }
 },
 "nbformat": 4,
 "nbformat_minor": 4
}
